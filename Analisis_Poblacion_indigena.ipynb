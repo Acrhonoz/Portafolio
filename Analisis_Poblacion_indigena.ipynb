{
 "cells": [
  {
   "cell_type": "code",
   "execution_count": 7,
   "metadata": {},
   "outputs": [],
   "source": [
    "import pandas as pd\n",
    "import matplotlib.pyplot as plt"
   ]
  },
  {
   "cell_type": "code",
   "execution_count": 2,
   "metadata": {},
   "outputs": [],
   "source": [
    "df = pd.read_excel('/Users/acrhonoz./Desktop/Hospitales1.xlsx',sheet_name= 'Base de datos')"
   ]
  },
  {
   "cell_type": "code",
   "execution_count": 3,
   "metadata": {},
   "outputs": [
    {
     "data": {
      "text/html": [
       "<div>\n",
       "<style scoped>\n",
       "    .dataframe tbody tr th:only-of-type {\n",
       "        vertical-align: middle;\n",
       "    }\n",
       "\n",
       "    .dataframe tbody tr th {\n",
       "        vertical-align: top;\n",
       "    }\n",
       "\n",
       "    .dataframe thead th {\n",
       "        text-align: right;\n",
       "    }\n",
       "</style>\n",
       "<table border=\"1\" class=\"dataframe\">\n",
       "  <thead>\n",
       "    <tr style=\"text-align: right;\">\n",
       "      <th></th>\n",
       "      <th>ID</th>\n",
       "      <th>DIAS_ESTANCIA</th>\n",
       "      <th>EDAD</th>\n",
       "      <th>GENERO</th>\n",
       "      <th>PESO</th>\n",
       "      <th>ALTURA</th>\n",
       "      <th>MES</th>\n",
       "      <th>ENTIDAD</th>\n",
       "      <th>INDIGENA</th>\n",
       "      <th>MOTIVO_EGRESO</th>\n",
       "      <th>CODIGO_ENFERMEDAD</th>\n",
       "    </tr>\n",
       "  </thead>\n",
       "  <tbody>\n",
       "    <tr>\n",
       "      <th>0</th>\n",
       "      <td>2738822</td>\n",
       "      <td>1</td>\n",
       "      <td>23</td>\n",
       "      <td>2</td>\n",
       "      <td>63</td>\n",
       "      <td>147.0</td>\n",
       "      <td>2</td>\n",
       "      <td>29</td>\n",
       "      <td>2</td>\n",
       "      <td>1</td>\n",
       "      <td>O809</td>\n",
       "    </tr>\n",
       "    <tr>\n",
       "      <th>1</th>\n",
       "      <td>2735411</td>\n",
       "      <td>2</td>\n",
       "      <td>22</td>\n",
       "      <td>2</td>\n",
       "      <td>84</td>\n",
       "      <td>NaN</td>\n",
       "      <td>6</td>\n",
       "      <td>8</td>\n",
       "      <td>2</td>\n",
       "      <td>1</td>\n",
       "      <td>O829</td>\n",
       "    </tr>\n",
       "    <tr>\n",
       "      <th>2</th>\n",
       "      <td>2731022</td>\n",
       "      <td>2</td>\n",
       "      <td>23</td>\n",
       "      <td>2</td>\n",
       "      <td>86</td>\n",
       "      <td>151.0</td>\n",
       "      <td>2</td>\n",
       "      <td>4</td>\n",
       "      <td>2</td>\n",
       "      <td>1</td>\n",
       "      <td>O809</td>\n",
       "    </tr>\n",
       "    <tr>\n",
       "      <th>3</th>\n",
       "      <td>2726593</td>\n",
       "      <td>0</td>\n",
       "      <td>67</td>\n",
       "      <td>2</td>\n",
       "      <td>45</td>\n",
       "      <td>152.0</td>\n",
       "      <td>3</td>\n",
       "      <td>20</td>\n",
       "      <td>2</td>\n",
       "      <td>1</td>\n",
       "      <td>H259</td>\n",
       "    </tr>\n",
       "    <tr>\n",
       "      <th>4</th>\n",
       "      <td>2723606</td>\n",
       "      <td>2</td>\n",
       "      <td>27</td>\n",
       "      <td>2</td>\n",
       "      <td>53</td>\n",
       "      <td>154.0</td>\n",
       "      <td>2</td>\n",
       "      <td>21</td>\n",
       "      <td>2</td>\n",
       "      <td>1</td>\n",
       "      <td>O064</td>\n",
       "    </tr>\n",
       "  </tbody>\n",
       "</table>\n",
       "</div>"
      ],
      "text/plain": [
       "        ID  DIAS_ESTANCIA  EDAD  GENERO  PESO  ALTURA  MES  ENTIDAD  INDIGENA  \\\n",
       "0  2738822              1    23       2    63   147.0    2       29         2   \n",
       "1  2735411              2    22       2    84     NaN    6        8         2   \n",
       "2  2731022              2    23       2    86   151.0    2        4         2   \n",
       "3  2726593              0    67       2    45   152.0    3       20         2   \n",
       "4  2723606              2    27       2    53   154.0    2       21         2   \n",
       "\n",
       "   MOTIVO_EGRESO CODIGO_ENFERMEDAD  \n",
       "0              1              O809  \n",
       "1              1              O829  \n",
       "2              1              O809  \n",
       "3              1              H259  \n",
       "4              1              O064  "
      ]
     },
     "execution_count": 3,
     "metadata": {},
     "output_type": "execute_result"
    }
   ],
   "source": [
    "df.head()"
   ]
  },
  {
   "cell_type": "code",
   "execution_count": 5,
   "metadata": {},
   "outputs": [
    {
     "data": {
      "text/plain": [
       "(29894, 11)"
      ]
     },
     "execution_count": 5,
     "metadata": {},
     "output_type": "execute_result"
    }
   ],
   "source": [
    "df.shape"
   ]
  },
  {
   "cell_type": "markdown",
   "metadata": {},
   "source": [
    "### 1) Análisis Exploratorio \n",
    "### Calcula los principales estadísticos de cada variable para conocer las características de cada una y entender la base, puedes apoyarte de gráficos"
   ]
  },
  {
   "cell_type": "code",
   "execution_count": 6,
   "metadata": {},
   "outputs": [
    {
     "data": {
      "text/html": [
       "<div>\n",
       "<style scoped>\n",
       "    .dataframe tbody tr th:only-of-type {\n",
       "        vertical-align: middle;\n",
       "    }\n",
       "\n",
       "    .dataframe tbody tr th {\n",
       "        vertical-align: top;\n",
       "    }\n",
       "\n",
       "    .dataframe thead th {\n",
       "        text-align: right;\n",
       "    }\n",
       "</style>\n",
       "<table border=\"1\" class=\"dataframe\">\n",
       "  <thead>\n",
       "    <tr style=\"text-align: right;\">\n",
       "      <th></th>\n",
       "      <th>ID</th>\n",
       "      <th>DIAS_ESTANCIA</th>\n",
       "      <th>EDAD</th>\n",
       "      <th>GENERO</th>\n",
       "      <th>PESO</th>\n",
       "      <th>ALTURA</th>\n",
       "      <th>MES</th>\n",
       "      <th>ENTIDAD</th>\n",
       "      <th>INDIGENA</th>\n",
       "      <th>MOTIVO_EGRESO</th>\n",
       "    </tr>\n",
       "  </thead>\n",
       "  <tbody>\n",
       "    <tr>\n",
       "      <th>count</th>\n",
       "      <td>2.989400e+04</td>\n",
       "      <td>29894.000000</td>\n",
       "      <td>29894.000000</td>\n",
       "      <td>29894.000000</td>\n",
       "      <td>29894.000000</td>\n",
       "      <td>27000.000000</td>\n",
       "      <td>29894.000000</td>\n",
       "      <td>29894.000000</td>\n",
       "      <td>29894.000000</td>\n",
       "      <td>29894.000000</td>\n",
       "    </tr>\n",
       "    <tr>\n",
       "      <th>mean</th>\n",
       "      <td>1.386541e+06</td>\n",
       "      <td>3.356894</td>\n",
       "      <td>31.181709</td>\n",
       "      <td>1.722319</td>\n",
       "      <td>60.933164</td>\n",
       "      <td>147.625778</td>\n",
       "      <td>6.510771</td>\n",
       "      <td>16.487389</td>\n",
       "      <td>2.079715</td>\n",
       "      <td>2.141032</td>\n",
       "    </tr>\n",
       "    <tr>\n",
       "      <th>std</th>\n",
       "      <td>8.391312e+05</td>\n",
       "      <td>9.864152</td>\n",
       "      <td>19.768426</td>\n",
       "      <td>0.447863</td>\n",
       "      <td>23.678744</td>\n",
       "      <td>29.536231</td>\n",
       "      <td>3.405058</td>\n",
       "      <td>7.589933</td>\n",
       "      <td>0.880720</td>\n",
       "      <td>0.847314</td>\n",
       "    </tr>\n",
       "    <tr>\n",
       "      <th>min</th>\n",
       "      <td>3.600000e+01</td>\n",
       "      <td>0.000000</td>\n",
       "      <td>1.000000</td>\n",
       "      <td>1.000000</td>\n",
       "      <td>1.000000</td>\n",
       "      <td>30.000000</td>\n",
       "      <td>1.000000</td>\n",
       "      <td>1.000000</td>\n",
       "      <td>1.000000</td>\n",
       "      <td>1.000000</td>\n",
       "    </tr>\n",
       "    <tr>\n",
       "      <th>25%</th>\n",
       "      <td>5.974330e+05</td>\n",
       "      <td>1.000000</td>\n",
       "      <td>19.000000</td>\n",
       "      <td>1.000000</td>\n",
       "      <td>54.000000</td>\n",
       "      <td>149.000000</td>\n",
       "      <td>4.000000</td>\n",
       "      <td>11.000000</td>\n",
       "      <td>2.000000</td>\n",
       "      <td>2.000000</td>\n",
       "    </tr>\n",
       "    <tr>\n",
       "      <th>50%</th>\n",
       "      <td>1.387373e+06</td>\n",
       "      <td>1.000000</td>\n",
       "      <td>26.000000</td>\n",
       "      <td>2.000000</td>\n",
       "      <td>65.000000</td>\n",
       "      <td>156.000000</td>\n",
       "      <td>7.000000</td>\n",
       "      <td>15.000000</td>\n",
       "      <td>2.000000</td>\n",
       "      <td>2.000000</td>\n",
       "    </tr>\n",
       "    <tr>\n",
       "      <th>75%</th>\n",
       "      <td>2.164698e+06</td>\n",
       "      <td>3.000000</td>\n",
       "      <td>41.000000</td>\n",
       "      <td>2.000000</td>\n",
       "      <td>75.000000</td>\n",
       "      <td>162.000000</td>\n",
       "      <td>9.000000</td>\n",
       "      <td>21.000000</td>\n",
       "      <td>2.000000</td>\n",
       "      <td>2.000000</td>\n",
       "    </tr>\n",
       "    <tr>\n",
       "      <th>max</th>\n",
       "      <td>2.739028e+06</td>\n",
       "      <td>550.000000</td>\n",
       "      <td>118.000000</td>\n",
       "      <td>2.000000</td>\n",
       "      <td>246.000000</td>\n",
       "      <td>214.000000</td>\n",
       "      <td>12.000000</td>\n",
       "      <td>32.000000</td>\n",
       "      <td>9.000000</td>\n",
       "      <td>9.000000</td>\n",
       "    </tr>\n",
       "  </tbody>\n",
       "</table>\n",
       "</div>"
      ],
      "text/plain": [
       "                 ID  DIAS_ESTANCIA          EDAD        GENERO          PESO  \\\n",
       "count  2.989400e+04   29894.000000  29894.000000  29894.000000  29894.000000   \n",
       "mean   1.386541e+06       3.356894     31.181709      1.722319     60.933164   \n",
       "std    8.391312e+05       9.864152     19.768426      0.447863     23.678744   \n",
       "min    3.600000e+01       0.000000      1.000000      1.000000      1.000000   \n",
       "25%    5.974330e+05       1.000000     19.000000      1.000000     54.000000   \n",
       "50%    1.387373e+06       1.000000     26.000000      2.000000     65.000000   \n",
       "75%    2.164698e+06       3.000000     41.000000      2.000000     75.000000   \n",
       "max    2.739028e+06     550.000000    118.000000      2.000000    246.000000   \n",
       "\n",
       "             ALTURA           MES       ENTIDAD      INDIGENA  MOTIVO_EGRESO  \n",
       "count  27000.000000  29894.000000  29894.000000  29894.000000   29894.000000  \n",
       "mean     147.625778      6.510771     16.487389      2.079715       2.141032  \n",
       "std       29.536231      3.405058      7.589933      0.880720       0.847314  \n",
       "min       30.000000      1.000000      1.000000      1.000000       1.000000  \n",
       "25%      149.000000      4.000000     11.000000      2.000000       2.000000  \n",
       "50%      156.000000      7.000000     15.000000      2.000000       2.000000  \n",
       "75%      162.000000      9.000000     21.000000      2.000000       2.000000  \n",
       "max      214.000000     12.000000     32.000000      9.000000       9.000000  "
      ]
     },
     "execution_count": 6,
     "metadata": {},
     "output_type": "execute_result"
    }
   ],
   "source": [
    "# El método describe() nos indica los estadísticos principales de cada variable de la base\n",
    "# Para el campo ID los estadísiticos no significan algo\n",
    "df.describe()"
   ]
  },
  {
   "cell_type": "code",
   "execution_count": 9,
   "metadata": {},
   "outputs": [
    {
     "name": "stdout",
     "output_type": "stream",
     "text": [
      "<class 'pandas.core.frame.DataFrame'>\n",
      "RangeIndex: 29894 entries, 0 to 29893\n",
      "Data columns (total 11 columns):\n",
      " #   Column             Non-Null Count  Dtype  \n",
      "---  ------             --------------  -----  \n",
      " 0   ID                 29894 non-null  int64  \n",
      " 1   DIAS_ESTANCIA      29894 non-null  int64  \n",
      " 2   EDAD               29894 non-null  int64  \n",
      " 3   GENERO             29894 non-null  int64  \n",
      " 4   PESO               29894 non-null  int64  \n",
      " 5   ALTURA             27000 non-null  float64\n",
      " 6   MES                29894 non-null  int64  \n",
      " 7   ENTIDAD            29894 non-null  int64  \n",
      " 8   INDIGENA           29894 non-null  int64  \n",
      " 9   MOTIVO_EGRESO      29894 non-null  int64  \n",
      " 10  CODIGO_ENFERMEDAD  29894 non-null  object \n",
      "dtypes: float64(1), int64(9), object(1)\n",
      "memory usage: 2.5+ MB\n"
     ]
    }
   ],
   "source": [
    "df.info()"
   ]
  },
  {
   "cell_type": "code",
   "execution_count": 10,
   "metadata": {},
   "outputs": [
    {
     "data": {
      "text/plain": [
       "2    21593\n",
       "1     8301\n",
       "Name: GENERO, dtype: int64"
      ]
     },
     "execution_count": 10,
     "metadata": {},
     "output_type": "execute_result"
    }
   ],
   "source": [
    "# Contamos los registros que hay del genero entre hombres y mujeres\n",
    "# Lo que nos indica que hay 8301 Masculinos y 21593 Femeninos\n",
    "pd.value_counts(df['GENERO'])"
   ]
  },
  {
   "cell_type": "markdown",
   "metadata": {},
   "source": [
    "#### Estadisticos de Mujeres y todo su análisis"
   ]
  },
  {
   "cell_type": "code",
   "execution_count": 37,
   "metadata": {},
   "outputs": [
    {
     "name": "stdout",
     "output_type": "stream",
     "text": [
      "Número de mujeres: 21593\n"
     ]
    }
   ],
   "source": [
    "# Creamos una subconsulta que nos arroje los estadisticos por Género.\n",
    "# Primeramente Obtenemos los estadisticos para las mujeres\n",
    "filtro_mujer = df['GENERO'] == 2\n",
    "df_mujeres = df[filtro_mujer]\n",
    "nm = df_mujeres.shape[0]\n",
    "print(f'Número de mujeres: {nm}')"
   ]
  },
  {
   "cell_type": "code",
   "execution_count": 20,
   "metadata": {},
   "outputs": [
    {
     "data": {
      "text/html": [
       "<div>\n",
       "<style scoped>\n",
       "    .dataframe tbody tr th:only-of-type {\n",
       "        vertical-align: middle;\n",
       "    }\n",
       "\n",
       "    .dataframe tbody tr th {\n",
       "        vertical-align: top;\n",
       "    }\n",
       "\n",
       "    .dataframe thead th {\n",
       "        text-align: right;\n",
       "    }\n",
       "</style>\n",
       "<table border=\"1\" class=\"dataframe\">\n",
       "  <thead>\n",
       "    <tr style=\"text-align: right;\">\n",
       "      <th></th>\n",
       "      <th>DIAS_ESTANCIA</th>\n",
       "      <th>EDAD</th>\n",
       "      <th>PESO</th>\n",
       "      <th>ALTURA</th>\n",
       "    </tr>\n",
       "  </thead>\n",
       "  <tbody>\n",
       "    <tr>\n",
       "      <th>count</th>\n",
       "      <td>21593.000000</td>\n",
       "      <td>21593.000000</td>\n",
       "      <td>21593.000000</td>\n",
       "      <td>19529.000000</td>\n",
       "    </tr>\n",
       "    <tr>\n",
       "      <th>mean</th>\n",
       "      <td>2.767702</td>\n",
       "      <td>29.925068</td>\n",
       "      <td>63.286574</td>\n",
       "      <td>149.450817</td>\n",
       "    </tr>\n",
       "    <tr>\n",
       "      <th>std</th>\n",
       "      <td>9.270344</td>\n",
       "      <td>17.276553</td>\n",
       "      <td>20.828561</td>\n",
       "      <td>23.929315</td>\n",
       "    </tr>\n",
       "    <tr>\n",
       "      <th>min</th>\n",
       "      <td>0.000000</td>\n",
       "      <td>1.000000</td>\n",
       "      <td>1.000000</td>\n",
       "      <td>30.000000</td>\n",
       "    </tr>\n",
       "    <tr>\n",
       "      <th>25%</th>\n",
       "      <td>1.000000</td>\n",
       "      <td>19.000000</td>\n",
       "      <td>56.000000</td>\n",
       "      <td>150.000000</td>\n",
       "    </tr>\n",
       "    <tr>\n",
       "      <th>50%</th>\n",
       "      <td>1.000000</td>\n",
       "      <td>25.000000</td>\n",
       "      <td>65.000000</td>\n",
       "      <td>155.000000</td>\n",
       "    </tr>\n",
       "    <tr>\n",
       "      <th>75%</th>\n",
       "      <td>2.000000</td>\n",
       "      <td>36.000000</td>\n",
       "      <td>75.000000</td>\n",
       "      <td>160.000000</td>\n",
       "    </tr>\n",
       "    <tr>\n",
       "      <th>max</th>\n",
       "      <td>384.000000</td>\n",
       "      <td>118.000000</td>\n",
       "      <td>246.000000</td>\n",
       "      <td>214.000000</td>\n",
       "    </tr>\n",
       "  </tbody>\n",
       "</table>\n",
       "</div>"
      ],
      "text/plain": [
       "       DIAS_ESTANCIA          EDAD          PESO        ALTURA\n",
       "count   21593.000000  21593.000000  21593.000000  19529.000000\n",
       "mean        2.767702     29.925068     63.286574    149.450817\n",
       "std         9.270344     17.276553     20.828561     23.929315\n",
       "min         0.000000      1.000000      1.000000     30.000000\n",
       "25%         1.000000     19.000000     56.000000    150.000000\n",
       "50%         1.000000     25.000000     65.000000    155.000000\n",
       "75%         2.000000     36.000000     75.000000    160.000000\n",
       "max       384.000000    118.000000    246.000000    214.000000"
      ]
     },
     "execution_count": 20,
     "metadata": {},
     "output_type": "execute_result"
    }
   ],
   "source": [
    "campos_validos = ['DIAS_ESTANCIA','EDAD','PESO','ALTURA']\n",
    "df_mujeres[campos_validos].describe()"
   ]
  },
  {
   "cell_type": "code",
   "execution_count": 35,
   "metadata": {},
   "outputs": [
    {
     "name": "stdout",
     "output_type": "stream",
     "text": [
      "Número de mujeres indígeneas: 673\n"
     ]
    }
   ],
   "source": [
    "# Estadísticos de Mujeres que son indigenas \n",
    "fmi = (df['GENERO'] == 2) & (df['INDIGENA']== 1) \n",
    "df_mujeres_indigenas = df[fmi]\n",
    "nmi = df_mujeres_indigenas.shape[0]\n",
    "print(f'Número de mujeres indígeneas: {nmi}')"
   ]
  },
  {
   "cell_type": "code",
   "execution_count": 26,
   "metadata": {},
   "outputs": [
    {
     "data": {
      "text/html": [
       "<div>\n",
       "<style scoped>\n",
       "    .dataframe tbody tr th:only-of-type {\n",
       "        vertical-align: middle;\n",
       "    }\n",
       "\n",
       "    .dataframe tbody tr th {\n",
       "        vertical-align: top;\n",
       "    }\n",
       "\n",
       "    .dataframe thead th {\n",
       "        text-align: right;\n",
       "    }\n",
       "</style>\n",
       "<table border=\"1\" class=\"dataframe\">\n",
       "  <thead>\n",
       "    <tr style=\"text-align: right;\">\n",
       "      <th></th>\n",
       "      <th>DIAS_ESTANCIA</th>\n",
       "      <th>EDAD</th>\n",
       "      <th>PESO</th>\n",
       "      <th>ALTURA</th>\n",
       "    </tr>\n",
       "  </thead>\n",
       "  <tbody>\n",
       "    <tr>\n",
       "      <th>count</th>\n",
       "      <td>673.000000</td>\n",
       "      <td>673.000000</td>\n",
       "      <td>673.000000</td>\n",
       "      <td>640.000000</td>\n",
       "    </tr>\n",
       "    <tr>\n",
       "      <th>mean</th>\n",
       "      <td>2.794948</td>\n",
       "      <td>29.632987</td>\n",
       "      <td>59.974740</td>\n",
       "      <td>147.653125</td>\n",
       "    </tr>\n",
       "    <tr>\n",
       "      <th>std</th>\n",
       "      <td>14.681424</td>\n",
       "      <td>14.837731</td>\n",
       "      <td>15.694089</td>\n",
       "      <td>16.438485</td>\n",
       "    </tr>\n",
       "    <tr>\n",
       "      <th>min</th>\n",
       "      <td>0.000000</td>\n",
       "      <td>1.000000</td>\n",
       "      <td>1.000000</td>\n",
       "      <td>36.000000</td>\n",
       "    </tr>\n",
       "    <tr>\n",
       "      <th>25%</th>\n",
       "      <td>1.000000</td>\n",
       "      <td>20.000000</td>\n",
       "      <td>54.000000</td>\n",
       "      <td>146.000000</td>\n",
       "    </tr>\n",
       "    <tr>\n",
       "      <th>50%</th>\n",
       "      <td>1.000000</td>\n",
       "      <td>26.000000</td>\n",
       "      <td>61.000000</td>\n",
       "      <td>150.000000</td>\n",
       "    </tr>\n",
       "    <tr>\n",
       "      <th>75%</th>\n",
       "      <td>2.000000</td>\n",
       "      <td>35.000000</td>\n",
       "      <td>68.000000</td>\n",
       "      <td>155.000000</td>\n",
       "    </tr>\n",
       "    <tr>\n",
       "      <th>max</th>\n",
       "      <td>366.000000</td>\n",
       "      <td>86.000000</td>\n",
       "      <td>145.000000</td>\n",
       "      <td>174.000000</td>\n",
       "    </tr>\n",
       "  </tbody>\n",
       "</table>\n",
       "</div>"
      ],
      "text/plain": [
       "       DIAS_ESTANCIA        EDAD        PESO      ALTURA\n",
       "count     673.000000  673.000000  673.000000  640.000000\n",
       "mean        2.794948   29.632987   59.974740  147.653125\n",
       "std        14.681424   14.837731   15.694089   16.438485\n",
       "min         0.000000    1.000000    1.000000   36.000000\n",
       "25%         1.000000   20.000000   54.000000  146.000000\n",
       "50%         1.000000   26.000000   61.000000  150.000000\n",
       "75%         2.000000   35.000000   68.000000  155.000000\n",
       "max       366.000000   86.000000  145.000000  174.000000"
      ]
     },
     "execution_count": 26,
     "metadata": {},
     "output_type": "execute_result"
    }
   ],
   "source": [
    "df_mujeres_indigenas[campos_validos].describe()"
   ]
  },
  {
   "cell_type": "code",
   "execution_count": 38,
   "metadata": {},
   "outputs": [
    {
     "name": "stdout",
     "output_type": "stream",
     "text": [
      "Número de mujeres NO indígeneas: 20613\n"
     ]
    }
   ],
   "source": [
    "# Estadísticos de mujeres NO Indígenas\n",
    "fmni = (df['GENERO'] == 2) & (df['INDIGENA']== 2) \n",
    "df_mujeres_NO_indigenas = df[fmni]\n",
    "nmni = df_mujeres_NO_indigenas.shape[0]\n",
    "print(f'Número de mujeres NO indígeneas: {nmni}')"
   ]
  },
  {
   "cell_type": "code",
   "execution_count": 39,
   "metadata": {},
   "outputs": [
    {
     "data": {
      "text/html": [
       "<div>\n",
       "<style scoped>\n",
       "    .dataframe tbody tr th:only-of-type {\n",
       "        vertical-align: middle;\n",
       "    }\n",
       "\n",
       "    .dataframe tbody tr th {\n",
       "        vertical-align: top;\n",
       "    }\n",
       "\n",
       "    .dataframe thead th {\n",
       "        text-align: right;\n",
       "    }\n",
       "</style>\n",
       "<table border=\"1\" class=\"dataframe\">\n",
       "  <thead>\n",
       "    <tr style=\"text-align: right;\">\n",
       "      <th></th>\n",
       "      <th>DIAS_ESTANCIA</th>\n",
       "      <th>EDAD</th>\n",
       "      <th>PESO</th>\n",
       "      <th>ALTURA</th>\n",
       "    </tr>\n",
       "  </thead>\n",
       "  <tbody>\n",
       "    <tr>\n",
       "      <th>count</th>\n",
       "      <td>20613.000000</td>\n",
       "      <td>20613.000000</td>\n",
       "      <td>20613.000000</td>\n",
       "      <td>18606.000000</td>\n",
       "    </tr>\n",
       "    <tr>\n",
       "      <th>mean</th>\n",
       "      <td>2.769805</td>\n",
       "      <td>29.956920</td>\n",
       "      <td>63.421191</td>\n",
       "      <td>149.508223</td>\n",
       "    </tr>\n",
       "    <tr>\n",
       "      <th>std</th>\n",
       "      <td>9.074729</td>\n",
       "      <td>17.378644</td>\n",
       "      <td>20.979111</td>\n",
       "      <td>24.139835</td>\n",
       "    </tr>\n",
       "    <tr>\n",
       "      <th>min</th>\n",
       "      <td>0.000000</td>\n",
       "      <td>1.000000</td>\n",
       "      <td>1.000000</td>\n",
       "      <td>30.000000</td>\n",
       "    </tr>\n",
       "    <tr>\n",
       "      <th>25%</th>\n",
       "      <td>1.000000</td>\n",
       "      <td>19.000000</td>\n",
       "      <td>56.000000</td>\n",
       "      <td>150.000000</td>\n",
       "    </tr>\n",
       "    <tr>\n",
       "      <th>50%</th>\n",
       "      <td>1.000000</td>\n",
       "      <td>25.000000</td>\n",
       "      <td>65.000000</td>\n",
       "      <td>155.000000</td>\n",
       "    </tr>\n",
       "    <tr>\n",
       "      <th>75%</th>\n",
       "      <td>2.000000</td>\n",
       "      <td>36.000000</td>\n",
       "      <td>75.000000</td>\n",
       "      <td>160.000000</td>\n",
       "    </tr>\n",
       "    <tr>\n",
       "      <th>max</th>\n",
       "      <td>384.000000</td>\n",
       "      <td>118.000000</td>\n",
       "      <td>246.000000</td>\n",
       "      <td>214.000000</td>\n",
       "    </tr>\n",
       "  </tbody>\n",
       "</table>\n",
       "</div>"
      ],
      "text/plain": [
       "       DIAS_ESTANCIA          EDAD          PESO        ALTURA\n",
       "count   20613.000000  20613.000000  20613.000000  18606.000000\n",
       "mean        2.769805     29.956920     63.421191    149.508223\n",
       "std         9.074729     17.378644     20.979111     24.139835\n",
       "min         0.000000      1.000000      1.000000     30.000000\n",
       "25%         1.000000     19.000000     56.000000    150.000000\n",
       "50%         1.000000     25.000000     65.000000    155.000000\n",
       "75%         2.000000     36.000000     75.000000    160.000000\n",
       "max       384.000000    118.000000    246.000000    214.000000"
      ]
     },
     "execution_count": 39,
     "metadata": {},
     "output_type": "execute_result"
    }
   ],
   "source": [
    "df_mujeres_NO_indigenas[campos_validos].describe()"
   ]
  },
  {
   "cell_type": "code",
   "execution_count": 42,
   "metadata": {},
   "outputs": [
    {
     "name": "stdout",
     "output_type": "stream",
     "text": [
      "Número de mujeres con caracterísitica \"indigena\" deconocido: 307\n"
     ]
    }
   ],
   "source": [
    "# Estadísticos de mujeres con característica \"Indigena\" Desconocida\n",
    "fmid = (df['GENERO'] == 2) & (df['INDIGENA']== 9) \n",
    "df_mujeres_indigenas_desconocida = df[fmid]\n",
    "nmid = df_mujeres_indigenas_desconocida.shape[0]\n",
    "print(f'Número de mujeres con caracterísitica \"indigena\" deconocido: {nmid}')"
   ]
  },
  {
   "cell_type": "code",
   "execution_count": 43,
   "metadata": {},
   "outputs": [
    {
     "data": {
      "text/html": [
       "<div>\n",
       "<style scoped>\n",
       "    .dataframe tbody tr th:only-of-type {\n",
       "        vertical-align: middle;\n",
       "    }\n",
       "\n",
       "    .dataframe tbody tr th {\n",
       "        vertical-align: top;\n",
       "    }\n",
       "\n",
       "    .dataframe thead th {\n",
       "        text-align: right;\n",
       "    }\n",
       "</style>\n",
       "<table border=\"1\" class=\"dataframe\">\n",
       "  <thead>\n",
       "    <tr style=\"text-align: right;\">\n",
       "      <th></th>\n",
       "      <th>DIAS_ESTANCIA</th>\n",
       "      <th>EDAD</th>\n",
       "      <th>PESO</th>\n",
       "      <th>ALTURA</th>\n",
       "    </tr>\n",
       "  </thead>\n",
       "  <tbody>\n",
       "    <tr>\n",
       "      <th>count</th>\n",
       "      <td>307.000000</td>\n",
       "      <td>307.000000</td>\n",
       "      <td>307.000000</td>\n",
       "      <td>283.000000</td>\n",
       "    </tr>\n",
       "    <tr>\n",
       "      <th>mean</th>\n",
       "      <td>2.566775</td>\n",
       "      <td>28.426710</td>\n",
       "      <td>61.508143</td>\n",
       "      <td>149.742049</td>\n",
       "    </tr>\n",
       "    <tr>\n",
       "      <th>std</th>\n",
       "      <td>6.600005</td>\n",
       "      <td>15.218571</td>\n",
       "      <td>19.899644</td>\n",
       "      <td>24.219751</td>\n",
       "    </tr>\n",
       "    <tr>\n",
       "      <th>min</th>\n",
       "      <td>0.000000</td>\n",
       "      <td>1.000000</td>\n",
       "      <td>2.000000</td>\n",
       "      <td>41.000000</td>\n",
       "    </tr>\n",
       "    <tr>\n",
       "      <th>25%</th>\n",
       "      <td>1.000000</td>\n",
       "      <td>19.000000</td>\n",
       "      <td>54.000000</td>\n",
       "      <td>150.000000</td>\n",
       "    </tr>\n",
       "    <tr>\n",
       "      <th>50%</th>\n",
       "      <td>1.000000</td>\n",
       "      <td>25.000000</td>\n",
       "      <td>65.000000</td>\n",
       "      <td>155.000000</td>\n",
       "    </tr>\n",
       "    <tr>\n",
       "      <th>75%</th>\n",
       "      <td>2.000000</td>\n",
       "      <td>34.000000</td>\n",
       "      <td>74.000000</td>\n",
       "      <td>160.000000</td>\n",
       "    </tr>\n",
       "    <tr>\n",
       "      <th>max</th>\n",
       "      <td>100.000000</td>\n",
       "      <td>94.000000</td>\n",
       "      <td>140.000000</td>\n",
       "      <td>175.000000</td>\n",
       "    </tr>\n",
       "  </tbody>\n",
       "</table>\n",
       "</div>"
      ],
      "text/plain": [
       "       DIAS_ESTANCIA        EDAD        PESO      ALTURA\n",
       "count     307.000000  307.000000  307.000000  283.000000\n",
       "mean        2.566775   28.426710   61.508143  149.742049\n",
       "std         6.600005   15.218571   19.899644   24.219751\n",
       "min         0.000000    1.000000    2.000000   41.000000\n",
       "25%         1.000000   19.000000   54.000000  150.000000\n",
       "50%         1.000000   25.000000   65.000000  155.000000\n",
       "75%         2.000000   34.000000   74.000000  160.000000\n",
       "max       100.000000   94.000000  140.000000  175.000000"
      ]
     },
     "execution_count": 43,
     "metadata": {},
     "output_type": "execute_result"
    }
   ],
   "source": [
    "df_mujeres_indigenas_desconocida[campos_validos].describe()"
   ]
  },
  {
   "cell_type": "code",
   "execution_count": 52,
   "metadata": {},
   "outputs": [
    {
     "data": {
      "text/html": [
       "<div>\n",
       "<style scoped>\n",
       "    .dataframe tbody tr th:only-of-type {\n",
       "        vertical-align: middle;\n",
       "    }\n",
       "\n",
       "    .dataframe tbody tr th {\n",
       "        vertical-align: top;\n",
       "    }\n",
       "\n",
       "    .dataframe thead th {\n",
       "        text-align: right;\n",
       "    }\n",
       "</style>\n",
       "<table border=\"1\" class=\"dataframe\">\n",
       "  <thead>\n",
       "    <tr style=\"text-align: right;\">\n",
       "      <th></th>\n",
       "      <th>Mujeres</th>\n",
       "      <th>Mujeres Indígenas</th>\n",
       "      <th>Mujeres NO Indigenas</th>\n",
       "      <th>Mujeres Indígenas Desc</th>\n",
       "      <th>%Mujeres Indígenas</th>\n",
       "      <th>%Mujeres NO Indigenas</th>\n",
       "      <th>%Mujeres Indígenas Desc</th>\n",
       "    </tr>\n",
       "  </thead>\n",
       "  <tbody>\n",
       "    <tr>\n",
       "      <th>0</th>\n",
       "      <td>21593</td>\n",
       "      <td>673</td>\n",
       "      <td>20613</td>\n",
       "      <td>307</td>\n",
       "      <td>3.116751</td>\n",
       "      <td>95.461492</td>\n",
       "      <td>1.421757</td>\n",
       "    </tr>\n",
       "  </tbody>\n",
       "</table>\n",
       "</div>"
      ],
      "text/plain": [
       "   Mujeres  Mujeres Indígenas  Mujeres NO Indigenas  Mujeres Indígenas Desc  \\\n",
       "0    21593                673                 20613                     307   \n",
       "\n",
       "   %Mujeres Indígenas  %Mujeres NO Indigenas  %Mujeres Indígenas Desc  \n",
       "0            3.116751              95.461492                 1.421757  "
      ]
     },
     "execution_count": 52,
     "metadata": {},
     "output_type": "execute_result"
    }
   ],
   "source": [
    "summary_mujeres = {'Mujeres':nm,'Mujeres Indígenas': nmi, 'Mujeres NO Indigenas': nmni,\n",
    "                  'Mujeres Indígenas Desc':nmid,\n",
    "                  '%Mujeres Indígenas': (nmi/nm)*100,\n",
    "                  '%Mujeres NO Indigenas': (nmni/nm)*100,\n",
    "                  '%Mujeres Indígenas Desc': (nmid/nm)*100}\n",
    "pd.DataFrame([summary_mujeres])"
   ]
  },
  {
   "cell_type": "markdown",
   "metadata": {},
   "source": [
    "#### Estadísiticos de hombres y todo su análisis"
   ]
  },
  {
   "cell_type": "code",
   "execution_count": 57,
   "metadata": {},
   "outputs": [
    {
     "name": "stdout",
     "output_type": "stream",
     "text": [
      "Número de hombres: 8301\n"
     ]
    }
   ],
   "source": [
    "# Creamos la subconsulta para obtener los estadísticos de los hombres\n",
    "filtro_hombres = df['GENERO'] == 1\n",
    "df_hombres = df[filtro_hombres]\n",
    "nh = df_hombres.shape[0]\n",
    "print(f'Número de hombres: {nh}')"
   ]
  },
  {
   "cell_type": "code",
   "execution_count": 23,
   "metadata": {},
   "outputs": [
    {
     "data": {
      "text/html": [
       "<div>\n",
       "<style scoped>\n",
       "    .dataframe tbody tr th:only-of-type {\n",
       "        vertical-align: middle;\n",
       "    }\n",
       "\n",
       "    .dataframe tbody tr th {\n",
       "        vertical-align: top;\n",
       "    }\n",
       "\n",
       "    .dataframe thead th {\n",
       "        text-align: right;\n",
       "    }\n",
       "</style>\n",
       "<table border=\"1\" class=\"dataframe\">\n",
       "  <thead>\n",
       "    <tr style=\"text-align: right;\">\n",
       "      <th></th>\n",
       "      <th>DIAS_ESTANCIA</th>\n",
       "      <th>EDAD</th>\n",
       "      <th>PESO</th>\n",
       "      <th>ALTURA</th>\n",
       "    </tr>\n",
       "  </thead>\n",
       "  <tbody>\n",
       "    <tr>\n",
       "      <th>count</th>\n",
       "      <td>8301.000000</td>\n",
       "      <td>8301.000000</td>\n",
       "      <td>8301.000000</td>\n",
       "      <td>7471.000000</td>\n",
       "    </tr>\n",
       "    <tr>\n",
       "      <th>mean</th>\n",
       "      <td>4.889531</td>\n",
       "      <td>34.450548</td>\n",
       "      <td>54.811348</td>\n",
       "      <td>142.855173</td>\n",
       "    </tr>\n",
       "    <tr>\n",
       "      <th>std</th>\n",
       "      <td>11.118408</td>\n",
       "      <td>24.823092</td>\n",
       "      <td>28.963152</td>\n",
       "      <td>40.307691</td>\n",
       "    </tr>\n",
       "    <tr>\n",
       "      <th>min</th>\n",
       "      <td>0.000000</td>\n",
       "      <td>1.000000</td>\n",
       "      <td>1.000000</td>\n",
       "      <td>30.000000</td>\n",
       "    </tr>\n",
       "    <tr>\n",
       "      <th>25%</th>\n",
       "      <td>1.000000</td>\n",
       "      <td>11.000000</td>\n",
       "      <td>35.000000</td>\n",
       "      <td>136.000000</td>\n",
       "    </tr>\n",
       "    <tr>\n",
       "      <th>50%</th>\n",
       "      <td>2.000000</td>\n",
       "      <td>32.000000</td>\n",
       "      <td>63.000000</td>\n",
       "      <td>160.000000</td>\n",
       "    </tr>\n",
       "    <tr>\n",
       "      <th>75%</th>\n",
       "      <td>5.000000</td>\n",
       "      <td>55.000000</td>\n",
       "      <td>75.000000</td>\n",
       "      <td>168.000000</td>\n",
       "    </tr>\n",
       "    <tr>\n",
       "      <th>max</th>\n",
       "      <td>550.000000</td>\n",
       "      <td>118.000000</td>\n",
       "      <td>190.000000</td>\n",
       "      <td>195.000000</td>\n",
       "    </tr>\n",
       "  </tbody>\n",
       "</table>\n",
       "</div>"
      ],
      "text/plain": [
       "       DIAS_ESTANCIA         EDAD         PESO       ALTURA\n",
       "count    8301.000000  8301.000000  8301.000000  7471.000000\n",
       "mean        4.889531    34.450548    54.811348   142.855173\n",
       "std        11.118408    24.823092    28.963152    40.307691\n",
       "min         0.000000     1.000000     1.000000    30.000000\n",
       "25%         1.000000    11.000000    35.000000   136.000000\n",
       "50%         2.000000    32.000000    63.000000   160.000000\n",
       "75%         5.000000    55.000000    75.000000   168.000000\n",
       "max       550.000000   118.000000   190.000000   195.000000"
      ]
     },
     "execution_count": 23,
     "metadata": {},
     "output_type": "execute_result"
    }
   ],
   "source": [
    "df_hombres[campos_validos].describe()"
   ]
  },
  {
   "cell_type": "code",
   "execution_count": 53,
   "metadata": {},
   "outputs": [
    {
     "name": "stdout",
     "output_type": "stream",
     "text": [
      "Número de hombres indígeneas: 164\n"
     ]
    }
   ],
   "source": [
    "# Estadísticos de Hombres que son indigenas \n",
    "fhi = (df['GENERO'] == 1) & (df['INDIGENA']== 1) \n",
    "df_hombres_indigenas = df[fhi]\n",
    "nhi = df_hombres_indigenas.shape[0]\n",
    "print(f'Número de hombres indígeneas: {nhi}')"
   ]
  },
  {
   "cell_type": "code",
   "execution_count": 54,
   "metadata": {},
   "outputs": [
    {
     "data": {
      "text/html": [
       "<div>\n",
       "<style scoped>\n",
       "    .dataframe tbody tr th:only-of-type {\n",
       "        vertical-align: middle;\n",
       "    }\n",
       "\n",
       "    .dataframe tbody tr th {\n",
       "        vertical-align: top;\n",
       "    }\n",
       "\n",
       "    .dataframe thead th {\n",
       "        text-align: right;\n",
       "    }\n",
       "</style>\n",
       "<table border=\"1\" class=\"dataframe\">\n",
       "  <thead>\n",
       "    <tr style=\"text-align: right;\">\n",
       "      <th></th>\n",
       "      <th>DIAS_ESTANCIA</th>\n",
       "      <th>EDAD</th>\n",
       "      <th>PESO</th>\n",
       "      <th>ALTURA</th>\n",
       "    </tr>\n",
       "  </thead>\n",
       "  <tbody>\n",
       "    <tr>\n",
       "      <th>count</th>\n",
       "      <td>164.000000</td>\n",
       "      <td>164.000000</td>\n",
       "      <td>164.000000</td>\n",
       "      <td>152.000000</td>\n",
       "    </tr>\n",
       "    <tr>\n",
       "      <th>mean</th>\n",
       "      <td>4.682927</td>\n",
       "      <td>37.579268</td>\n",
       "      <td>49.786585</td>\n",
       "      <td>135.815789</td>\n",
       "    </tr>\n",
       "    <tr>\n",
       "      <th>std</th>\n",
       "      <td>8.803064</td>\n",
       "      <td>25.521069</td>\n",
       "      <td>25.633989</td>\n",
       "      <td>41.417343</td>\n",
       "    </tr>\n",
       "    <tr>\n",
       "      <th>min</th>\n",
       "      <td>0.000000</td>\n",
       "      <td>1.000000</td>\n",
       "      <td>1.000000</td>\n",
       "      <td>34.000000</td>\n",
       "    </tr>\n",
       "    <tr>\n",
       "      <th>25%</th>\n",
       "      <td>1.000000</td>\n",
       "      <td>14.750000</td>\n",
       "      <td>34.750000</td>\n",
       "      <td>137.500000</td>\n",
       "    </tr>\n",
       "    <tr>\n",
       "      <th>50%</th>\n",
       "      <td>3.000000</td>\n",
       "      <td>37.500000</td>\n",
       "      <td>58.000000</td>\n",
       "      <td>157.000000</td>\n",
       "    </tr>\n",
       "    <tr>\n",
       "      <th>75%</th>\n",
       "      <td>6.000000</td>\n",
       "      <td>60.000000</td>\n",
       "      <td>68.000000</td>\n",
       "      <td>160.000000</td>\n",
       "    </tr>\n",
       "    <tr>\n",
       "      <th>max</th>\n",
       "      <td>102.000000</td>\n",
       "      <td>92.000000</td>\n",
       "      <td>90.000000</td>\n",
       "      <td>175.000000</td>\n",
       "    </tr>\n",
       "  </tbody>\n",
       "</table>\n",
       "</div>"
      ],
      "text/plain": [
       "       DIAS_ESTANCIA        EDAD        PESO      ALTURA\n",
       "count     164.000000  164.000000  164.000000  152.000000\n",
       "mean        4.682927   37.579268   49.786585  135.815789\n",
       "std         8.803064   25.521069   25.633989   41.417343\n",
       "min         0.000000    1.000000    1.000000   34.000000\n",
       "25%         1.000000   14.750000   34.750000  137.500000\n",
       "50%         3.000000   37.500000   58.000000  157.000000\n",
       "75%         6.000000   60.000000   68.000000  160.000000\n",
       "max       102.000000   92.000000   90.000000  175.000000"
      ]
     },
     "execution_count": 54,
     "metadata": {},
     "output_type": "execute_result"
    }
   ],
   "source": [
    "df_hombres_indigenas[campos_validos].describe()"
   ]
  },
  {
   "cell_type": "code",
   "execution_count": 55,
   "metadata": {},
   "outputs": [
    {
     "name": "stdout",
     "output_type": "stream",
     "text": [
      "Número de hombres NO indígeneas: 7984\n"
     ]
    }
   ],
   "source": [
    "# Estadísticos de hombres NO Indígenas\n",
    "fhni = (df['GENERO'] == 1) & (df['INDIGENA']== 2) \n",
    "df_hombres_NO_indigenas = df[fhni]\n",
    "nhni = df_hombres_NO_indigenas.shape[0]\n",
    "print(f'Número de hombres NO indígeneas: {nhni}')"
   ]
  },
  {
   "cell_type": "code",
   "execution_count": 61,
   "metadata": {},
   "outputs": [
    {
     "data": {
      "text/html": [
       "<div>\n",
       "<style scoped>\n",
       "    .dataframe tbody tr th:only-of-type {\n",
       "        vertical-align: middle;\n",
       "    }\n",
       "\n",
       "    .dataframe tbody tr th {\n",
       "        vertical-align: top;\n",
       "    }\n",
       "\n",
       "    .dataframe thead th {\n",
       "        text-align: right;\n",
       "    }\n",
       "</style>\n",
       "<table border=\"1\" class=\"dataframe\">\n",
       "  <thead>\n",
       "    <tr style=\"text-align: right;\">\n",
       "      <th></th>\n",
       "      <th>DIAS_ESTANCIA</th>\n",
       "      <th>EDAD</th>\n",
       "      <th>PESO</th>\n",
       "      <th>ALTURA</th>\n",
       "    </tr>\n",
       "  </thead>\n",
       "  <tbody>\n",
       "    <tr>\n",
       "      <th>count</th>\n",
       "      <td>7984.000000</td>\n",
       "      <td>7984.000000</td>\n",
       "      <td>7984.000000</td>\n",
       "      <td>7181.000000</td>\n",
       "    </tr>\n",
       "    <tr>\n",
       "      <th>mean</th>\n",
       "      <td>4.872370</td>\n",
       "      <td>34.389028</td>\n",
       "      <td>54.949900</td>\n",
       "      <td>142.994569</td>\n",
       "    </tr>\n",
       "    <tr>\n",
       "      <th>std</th>\n",
       "      <td>11.190587</td>\n",
       "      <td>24.815425</td>\n",
       "      <td>29.041569</td>\n",
       "      <td>40.290932</td>\n",
       "    </tr>\n",
       "    <tr>\n",
       "      <th>min</th>\n",
       "      <td>0.000000</td>\n",
       "      <td>1.000000</td>\n",
       "      <td>1.000000</td>\n",
       "      <td>30.000000</td>\n",
       "    </tr>\n",
       "    <tr>\n",
       "      <th>25%</th>\n",
       "      <td>1.000000</td>\n",
       "      <td>11.000000</td>\n",
       "      <td>35.000000</td>\n",
       "      <td>136.000000</td>\n",
       "    </tr>\n",
       "    <tr>\n",
       "      <th>50%</th>\n",
       "      <td>2.000000</td>\n",
       "      <td>32.000000</td>\n",
       "      <td>63.000000</td>\n",
       "      <td>160.000000</td>\n",
       "    </tr>\n",
       "    <tr>\n",
       "      <th>75%</th>\n",
       "      <td>5.000000</td>\n",
       "      <td>54.000000</td>\n",
       "      <td>75.000000</td>\n",
       "      <td>168.000000</td>\n",
       "    </tr>\n",
       "    <tr>\n",
       "      <th>max</th>\n",
       "      <td>550.000000</td>\n",
       "      <td>118.000000</td>\n",
       "      <td>190.000000</td>\n",
       "      <td>195.000000</td>\n",
       "    </tr>\n",
       "  </tbody>\n",
       "</table>\n",
       "</div>"
      ],
      "text/plain": [
       "       DIAS_ESTANCIA         EDAD         PESO       ALTURA\n",
       "count    7984.000000  7984.000000  7984.000000  7181.000000\n",
       "mean        4.872370    34.389028    54.949900   142.994569\n",
       "std        11.190587    24.815425    29.041569    40.290932\n",
       "min         0.000000     1.000000     1.000000    30.000000\n",
       "25%         1.000000    11.000000    35.000000   136.000000\n",
       "50%         2.000000    32.000000    63.000000   160.000000\n",
       "75%         5.000000    54.000000    75.000000   168.000000\n",
       "max       550.000000   118.000000   190.000000   195.000000"
      ]
     },
     "execution_count": 61,
     "metadata": {},
     "output_type": "execute_result"
    }
   ],
   "source": [
    "df_hombres_NO_indigenas[campos_validos].describe()"
   ]
  },
  {
   "cell_type": "code",
   "execution_count": 59,
   "metadata": {},
   "outputs": [
    {
     "name": "stdout",
     "output_type": "stream",
     "text": [
      "Número de hombres con caracterísitica \"indigena\" deconocido: 153\n"
     ]
    }
   ],
   "source": [
    "# Estadísticos de hombres con característica \"Indigena\" Desconocida\n",
    "fhid = (df['GENERO'] == 1) & (df['INDIGENA']== 9) \n",
    "df_hombres_indigenas_desconocida = df[fhid]\n",
    "nhid = df_hombres_indigenas_desconocida.shape[0]\n",
    "print(f'Número de hombres con caracterísitica \"indigena\" deconocido: {nhid}')"
   ]
  },
  {
   "cell_type": "code",
   "execution_count": 60,
   "metadata": {},
   "outputs": [
    {
     "data": {
      "text/html": [
       "<div>\n",
       "<style scoped>\n",
       "    .dataframe tbody tr th:only-of-type {\n",
       "        vertical-align: middle;\n",
       "    }\n",
       "\n",
       "    .dataframe tbody tr th {\n",
       "        vertical-align: top;\n",
       "    }\n",
       "\n",
       "    .dataframe thead th {\n",
       "        text-align: right;\n",
       "    }\n",
       "</style>\n",
       "<table border=\"1\" class=\"dataframe\">\n",
       "  <thead>\n",
       "    <tr style=\"text-align: right;\">\n",
       "      <th></th>\n",
       "      <th>DIAS_ESTANCIA</th>\n",
       "      <th>EDAD</th>\n",
       "      <th>PESO</th>\n",
       "      <th>ALTURA</th>\n",
       "    </tr>\n",
       "  </thead>\n",
       "  <tbody>\n",
       "    <tr>\n",
       "      <th>count</th>\n",
       "      <td>153.000000</td>\n",
       "      <td>153.000000</td>\n",
       "      <td>153.000000</td>\n",
       "      <td>138.000000</td>\n",
       "    </tr>\n",
       "    <tr>\n",
       "      <th>mean</th>\n",
       "      <td>6.006536</td>\n",
       "      <td>34.307190</td>\n",
       "      <td>52.967320</td>\n",
       "      <td>143.355072</td>\n",
       "    </tr>\n",
       "    <tr>\n",
       "      <th>std</th>\n",
       "      <td>9.424560</td>\n",
       "      <td>24.409414</td>\n",
       "      <td>27.825447</td>\n",
       "      <td>39.535035</td>\n",
       "    </tr>\n",
       "    <tr>\n",
       "      <th>min</th>\n",
       "      <td>0.000000</td>\n",
       "      <td>1.000000</td>\n",
       "      <td>2.000000</td>\n",
       "      <td>42.000000</td>\n",
       "    </tr>\n",
       "    <tr>\n",
       "      <th>25%</th>\n",
       "      <td>0.000000</td>\n",
       "      <td>11.000000</td>\n",
       "      <td>28.000000</td>\n",
       "      <td>134.250000</td>\n",
       "    </tr>\n",
       "    <tr>\n",
       "      <th>50%</th>\n",
       "      <td>2.000000</td>\n",
       "      <td>29.000000</td>\n",
       "      <td>62.000000</td>\n",
       "      <td>160.000000</td>\n",
       "    </tr>\n",
       "    <tr>\n",
       "      <th>75%</th>\n",
       "      <td>8.000000</td>\n",
       "      <td>54.000000</td>\n",
       "      <td>73.000000</td>\n",
       "      <td>168.000000</td>\n",
       "    </tr>\n",
       "    <tr>\n",
       "      <th>max</th>\n",
       "      <td>61.000000</td>\n",
       "      <td>86.000000</td>\n",
       "      <td>116.000000</td>\n",
       "      <td>180.000000</td>\n",
       "    </tr>\n",
       "  </tbody>\n",
       "</table>\n",
       "</div>"
      ],
      "text/plain": [
       "       DIAS_ESTANCIA        EDAD        PESO      ALTURA\n",
       "count     153.000000  153.000000  153.000000  138.000000\n",
       "mean        6.006536   34.307190   52.967320  143.355072\n",
       "std         9.424560   24.409414   27.825447   39.535035\n",
       "min         0.000000    1.000000    2.000000   42.000000\n",
       "25%         0.000000   11.000000   28.000000  134.250000\n",
       "50%         2.000000   29.000000   62.000000  160.000000\n",
       "75%         8.000000   54.000000   73.000000  168.000000\n",
       "max        61.000000   86.000000  116.000000  180.000000"
      ]
     },
     "execution_count": 60,
     "metadata": {},
     "output_type": "execute_result"
    }
   ],
   "source": [
    "df_hombres_indigenas_desconocida[campos_validos].describe()"
   ]
  },
  {
   "cell_type": "code",
   "execution_count": 62,
   "metadata": {},
   "outputs": [
    {
     "data": {
      "text/html": [
       "<div>\n",
       "<style scoped>\n",
       "    .dataframe tbody tr th:only-of-type {\n",
       "        vertical-align: middle;\n",
       "    }\n",
       "\n",
       "    .dataframe tbody tr th {\n",
       "        vertical-align: top;\n",
       "    }\n",
       "\n",
       "    .dataframe thead th {\n",
       "        text-align: right;\n",
       "    }\n",
       "</style>\n",
       "<table border=\"1\" class=\"dataframe\">\n",
       "  <thead>\n",
       "    <tr style=\"text-align: right;\">\n",
       "      <th></th>\n",
       "      <th>Hombres</th>\n",
       "      <th>Hombres Indígenas</th>\n",
       "      <th>Hombres NO Indigenas</th>\n",
       "      <th>Hombres Indígenas Desc</th>\n",
       "      <th>%Hombres Indígenas</th>\n",
       "      <th>%Hombres NO Indigenas</th>\n",
       "      <th>%Hombres Indígenas Desc</th>\n",
       "    </tr>\n",
       "  </thead>\n",
       "  <tbody>\n",
       "    <tr>\n",
       "      <th>0</th>\n",
       "      <td>8301</td>\n",
       "      <td>164</td>\n",
       "      <td>7984</td>\n",
       "      <td>153</td>\n",
       "      <td>1.975666</td>\n",
       "      <td>96.181183</td>\n",
       "      <td>1.843151</td>\n",
       "    </tr>\n",
       "  </tbody>\n",
       "</table>\n",
       "</div>"
      ],
      "text/plain": [
       "   Hombres  Hombres Indígenas  Hombres NO Indigenas  Hombres Indígenas Desc  \\\n",
       "0     8301                164                  7984                     153   \n",
       "\n",
       "   %Hombres Indígenas  %Hombres NO Indigenas  %Hombres Indígenas Desc  \n",
       "0            1.975666              96.181183                 1.843151  "
      ]
     },
     "execution_count": 62,
     "metadata": {},
     "output_type": "execute_result"
    }
   ],
   "source": [
    "summary_hombres = {'Hombres':nh,'Hombres Indígenas': nhi, 'Hombres NO Indigenas': nhni,\n",
    "                  'Hombres Indígenas Desc':nhid,\n",
    "                  '%Hombres Indígenas': (nhi/nh)*100,\n",
    "                  '%Hombres NO Indigenas': (nhni/nh)*100,\n",
    "                  '%Hombres Indígenas Desc': (nhid/nh)*100}\n",
    "pd.DataFrame([summary_hombres])"
   ]
  },
  {
   "cell_type": "markdown",
   "metadata": {},
   "source": [
    "#### Estadísticos sobre Entidad hospitalaria"
   ]
  },
  {
   "cell_type": "code",
   "execution_count": 115,
   "metadata": {},
   "outputs": [
    {
     "data": {
      "image/png": "[encoded data removed]",
      "text/plain": [
       "<Figure size 432x288 with 1 Axes>"
      ]
     },
     "metadata": {
      "needs_background": "light"
     },
     "output_type": "display_data"
    }
   ],
   "source": [
    "m = df_mujeres['ENTIDAD'].tolist()\n",
    "h = df_hombres['ENTIDAD'].tolist()\n",
    "plt.hist([m, h], bins = 32, rwidth = 0.90, color= ['r','b'],label=['Mujeres', 'Hombres'])\n",
    "plt.title('Histograma de Mujeres vs Hombres sobre cada Entidad')\n",
    "plt.xlabel('Entidades')\n",
    "plt.ylabel('Frecuencia')\n",
    "plt.legend(loc='upper right')\n",
    "plt.show()"
   ]
  },
  {
   "cell_type": "code",
   "execution_count": 116,
   "metadata": {},
   "outputs": [
    {
     "data": {
      "image/png": "[encoded data removed]",
      "text/plain": [
       "<Figure size 432x288 with 1 Axes>"
      ]
     },
     "metadata": {
      "needs_background": "light"
     },
     "output_type": "display_data"
    }
   ],
   "source": [
    "m = df_mujeres_indigenas['ENTIDAD'].tolist()\n",
    "h = df_hombres_indigenas['ENTIDAD'].tolist()\n",
    "plt.hist([m, h], bins = 32, rwidth = 0.90, color= ['r','b'],label=['Mujeres', 'Hombres'])\n",
    "plt.title('Histograma de Mujeres vs Hombres (Indígenas) sobre cada Entidad')\n",
    "plt.xlabel('Entidades')\n",
    "plt.ylabel('Frecuencia')\n",
    "plt.legend(loc='upper right')\n",
    "plt.show()"
   ]
  },
  {
   "cell_type": "code",
   "execution_count": 117,
   "metadata": {},
   "outputs": [
    {
     "data": {
      "image/png": "[encoded data removed]",
      "text/plain": [
       "<Figure size 432x288 with 1 Axes>"
      ]
     },
     "metadata": {
      "needs_background": "light"
     },
     "output_type": "display_data"
    }
   ],
   "source": [
    "m = df_mujeres_NO_indigenas['ENTIDAD'].tolist()\n",
    "h = df_hombres_NO_indigenas['ENTIDAD'].tolist()\n",
    "plt.hist([m, h], bins = 32, rwidth = 0.90, color= ['r','b'],label=['Mujeres', 'Hombres'])\n",
    "plt.title('Histograma de Mujeres vs Hombres (NO Indígenas) sobre cada Entidad')\n",
    "plt.xlabel('Entidades')\n",
    "plt.ylabel('Frecuencia')\n",
    "plt.legend(loc='upper right')\n",
    "plt.show()"
   ]
  },
  {
   "cell_type": "code",
   "execution_count": 118,
   "metadata": {},
   "outputs": [
    {
     "data": {
      "image/png": "[encoded data removed]",
      "text/plain": [
       "<Figure size 432x288 with 1 Axes>"
      ]
     },
     "metadata": {
      "needs_background": "light"
     },
     "output_type": "display_data"
    }
   ],
   "source": [
    "m = df_mujeres_indigenas_desconocida['ENTIDAD'].tolist()\n",
    "h = df_hombres_indigenas_desconocida['ENTIDAD'].tolist()\n",
    "plt.hist([m, h], bins = 32, rwidth = 0.90, color= ['r','b'],label=['Mujeres', 'Hombres'])\n",
    "plt.title('Histograma de Mujeres vs Hombres (Indígenas Desco) sobre cada Entidad')\n",
    "plt.xlabel('Entidades')\n",
    "plt.ylabel('Frecuencia')\n",
    "plt.legend(loc='upper right')\n",
    "plt.show()"
   ]
  },
  {
   "cell_type": "markdown",
   "metadata": {},
   "source": [
    "#### Estadísticos sobre Motivo de egreso"
   ]
  },
  {
   "cell_type": "code",
   "execution_count": 129,
   "metadata": {},
   "outputs": [
    {
     "data": {
      "text/plain": [
       "2    26793\n",
       "1     1285\n",
       "7      540\n",
       "5      503\n",
       "4      429\n",
       "3      327\n",
       "9       13\n",
       "6        4\n",
       "Name: MOTIVO_EGRESO, dtype: int64"
      ]
     },
     "execution_count": 129,
     "metadata": {},
     "output_type": "execute_result"
    }
   ],
   "source": [
    "# Numero de egresos por cada categoría\n",
    "pd.value_counts(df['MOTIVO_EGRESO'], sort = True)"
   ]
  },
  {
   "cell_type": "code",
   "execution_count": 130,
   "metadata": {},
   "outputs": [
    {
     "data": {
      "image/png": "[encoded data removed]",
      "text/plain": [
       "<Figure size 432x288 with 1 Axes>"
      ]
     },
     "metadata": {
      "needs_background": "light"
     },
     "output_type": "display_data"
    }
   ],
   "source": [
    "m = df_mujeres['MOTIVO_EGRESO'].tolist()\n",
    "h = df_hombres['MOTIVO_EGRESO'].tolist()\n",
    "plt.hist([m, h], bins = 32, rwidth = 0.90, color= ['r','b'],label=['Mujeres', 'Hombres'])\n",
    "plt.title('Histograma de Mujeres vs Hombres por Motivo de Egreso')\n",
    "plt.xlabel('Motivo de Egreso')\n",
    "plt.ylabel('Frecuencia')\n",
    "plt.legend(loc='upper right')\n",
    "plt.show()"
   ]
  },
  {
   "cell_type": "code",
   "execution_count": 131,
   "metadata": {},
   "outputs": [
    {
     "data": {
      "image/png": "[encoded data removed]",
      "text/plain": [
       "<Figure size 432x288 with 1 Axes>"
      ]
     },
     "metadata": {
      "needs_background": "light"
     },
     "output_type": "display_data"
    }
   ],
   "source": [
    "m = df_mujeres_indigenas['MOTIVO_EGRESO'].tolist()\n",
    "h = df_hombres_indigenas['MOTIVO_EGRESO'].tolist()\n",
    "plt.hist([m, h], bins = 32, rwidth = 0.90, color= ['r','b'],label=['Mujeres', 'Hombres'])\n",
    "plt.title('Histograma de Mujeres vs Hombres (Indígenas) por Motivo de Egreso')\n",
    "plt.xlabel('Motivo de Egreso')\n",
    "plt.ylabel('Frecuencia')\n",
    "plt.legend(loc='upper right')\n",
    "plt.show()"
   ]
  },
  {
   "cell_type": "code",
   "execution_count": 132,
   "metadata": {},
   "outputs": [
    {
     "data": {
      "image/png": "[encoded data removed]",
      "text/plain": [
       "<Figure size 432x288 with 1 Axes>"
      ]
     },
     "metadata": {
      "needs_background": "light"
     },
     "output_type": "display_data"
    }
   ],
   "source": [
    "m = df_mujeres_NO_indigenas['MOTIVO_EGRESO'].tolist()\n",
    "h = df_hombres_NO_indigenas['MOTIVO_EGRESO'].tolist()\n",
    "plt.hist([m, h], bins = 32, rwidth = 0.90, color= ['r','b'],label=['Mujeres', 'Hombres'])\n",
    "plt.title('Histograma de Mujeres vs Hombres (NO indígenas) por Motivo de Egreso')\n",
    "plt.xlabel('Motivo de Egreso')\n",
    "plt.ylabel('Frecuencia')\n",
    "plt.legend(loc='upper right')\n",
    "plt.show()"
   ]
  },
  {
   "cell_type": "code",
   "execution_count": 133,
   "metadata": {},
   "outputs": [
    {
     "data": {
      "image/png": "[encoded data removed]",
      "text/plain": [
       "<Figure size 432x288 with 1 Axes>"
      ]
     },
     "metadata": {
      "needs_background": "light"
     },
     "output_type": "display_data"
    }
   ],
   "source": [
    "m = df_mujeres_indigenas_desconocida['MOTIVO_EGRESO'].tolist()\n",
    "h = df_hombres_indigenas_desconocida['MOTIVO_EGRESO'].tolist()\n",
    "plt.hist([m, h], bins = 32, rwidth = 0.90, color= ['r','b'],label=['Mujeres', 'Hombres'])\n",
    "plt.title('Histograma de Mujeres vs Hombres (Indígenas Desco) por Motivo de Egreso')\n",
    "plt.xlabel('Motivo de Egreso')\n",
    "plt.ylabel('Frecuencia')\n",
    "plt.legend(loc='upper right')\n",
    "plt.show()"
   ]
  },
  {
   "cell_type": "markdown",
   "metadata": {},
   "source": [
    "### 2) Tratamiento de los datos "
   ]
  },
  {
   "cell_type": "code",
   "execution_count": 137,
   "metadata": {},
   "outputs": [
    {
     "name": "stdout",
     "output_type": "stream",
     "text": [
      "<class 'pandas.core.frame.DataFrame'>\n",
      "RangeIndex: 29894 entries, 0 to 29893\n",
      "Data columns (total 11 columns):\n",
      " #   Column             Non-Null Count  Dtype  \n",
      "---  ------             --------------  -----  \n",
      " 0   ID                 29894 non-null  int64  \n",
      " 1   DIAS_ESTANCIA      29894 non-null  int64  \n",
      " 2   EDAD               29894 non-null  int64  \n",
      " 3   GENERO             29894 non-null  int64  \n",
      " 4   PESO               29894 non-null  int64  \n",
      " 5   ALTURA             27000 non-null  float64\n",
      " 6   MES                29894 non-null  int64  \n",
      " 7   ENTIDAD            29894 non-null  int64  \n",
      " 8   INDIGENA           29894 non-null  int64  \n",
      " 9   MOTIVO_EGRESO      29894 non-null  int64  \n",
      " 10  CODIGO_ENFERMEDAD  29894 non-null  object \n",
      "dtypes: float64(1), int64(9), object(1)\n",
      "memory usage: 2.5+ MB\n"
     ]
    }
   ],
   "source": [
    "# Identifica outliers elimínalos o corrígelos\n",
    "# Vemos que la única columna que tiene valores nulos es la de \"Altura\" ya que el total son 29,894\n",
    "# y esa columna solo tiene 27,000 no nulos\n",
    "df.info(verbose=True,null_counts=True)"
   ]
  },
  {
   "cell_type": "code",
   "execution_count": 138,
   "metadata": {},
   "outputs": [
    {
     "data": {
      "text/plain": [
       "ID                      0\n",
       "DIAS_ESTANCIA           0\n",
       "EDAD                    0\n",
       "GENERO                  0\n",
       "PESO                    0\n",
       "ALTURA               2894\n",
       "MES                     0\n",
       "ENTIDAD                 0\n",
       "INDIGENA                0\n",
       "MOTIVO_EGRESO           0\n",
       "CODIGO_ENFERMEDAD       0\n",
       "dtype: int64"
      ]
     },
     "execution_count": 138,
     "metadata": {},
     "output_type": "execute_result"
    }
   ],
   "source": [
    "# Muestra el numero de filas nulas por cada columna\n",
    "df.isna().sum()"
   ]
  },
  {
   "cell_type": "code",
   "execution_count": 139,
   "metadata": {},
   "outputs": [],
   "source": [
    "# Creamos una copia del dataset cargado \n",
    "df1 = df.copy(deep= True)"
   ]
  },
  {
   "cell_type": "code",
   "execution_count": 143,
   "metadata": {},
   "outputs": [],
   "source": [
    "# Sustituimos los valores vacíos de Altura por la media de la altura\n",
    "df1['ALTURA'] = df1['ALTURA'].fillna(df1['ALTURA'].mean())"
   ]
  },
  {
   "cell_type": "code",
   "execution_count": 146,
   "metadata": {},
   "outputs": [
    {
     "name": "stdout",
     "output_type": "stream",
     "text": [
      "<class 'pandas.core.frame.DataFrame'>\n",
      "RangeIndex: 29894 entries, 0 to 29893\n",
      "Data columns (total 11 columns):\n",
      " #   Column             Non-Null Count  Dtype  \n",
      "---  ------             --------------  -----  \n",
      " 0   ID                 29894 non-null  int64  \n",
      " 1   DIAS_ESTANCIA      29894 non-null  int64  \n",
      " 2   EDAD               29894 non-null  int64  \n",
      " 3   GENERO             29894 non-null  int64  \n",
      " 4   PESO               29894 non-null  int64  \n",
      " 5   ALTURA             29894 non-null  float64\n",
      " 6   MES                29894 non-null  int64  \n",
      " 7   ENTIDAD            29894 non-null  int64  \n",
      " 8   INDIGENA           29894 non-null  int64  \n",
      " 9   MOTIVO_EGRESO      29894 non-null  int64  \n",
      " 10  CODIGO_ENFERMEDAD  29894 non-null  object \n",
      "dtypes: float64(1), int64(9), object(1)\n",
      "memory usage: 2.5+ MB\n"
     ]
    }
   ],
   "source": [
    "# Comprobamos que se haya ejecutado la sustitución correctamente\n",
    "df1.info()"
   ]
  },
  {
   "cell_type": "code",
   "execution_count": 147,
   "metadata": {},
   "outputs": [],
   "source": [
    "# Creamos la variable \"TARGET\" que me dice si depediendo su motivo de egreso es por mejoría o defunción\n",
    "\n",
    "def func(row):\n",
    "    if row['MOTIVO_EGRESO'] == 1:\n",
    "        return 'CURACION'\n",
    "    elif row['MOTIVO_EGRESO'] == 2:\n",
    "        return 'MEJORIA' \n",
    "    elif row['MOTIVO_EGRESO'] == 3:\n",
    "        return 'VOLUNTARIO' \n",
    "    elif row['MOTIVO_EGRESO'] == 4:\n",
    "        return 'PASE_OTRO_HOSPITAL' \n",
    "    elif row['MOTIVO_EGRESO'] == 5:\n",
    "        return 'DEFUNCION' \n",
    "    elif row['MOTIVO_EGRESO'] == 6:\n",
    "        return 'FUGA' \n",
    "    elif row['MOTIVO_EGRESO'] == 7:\n",
    "        return 'OTRO' \n",
    "    else:\n",
    "        return 'NE'\n",
    "\n",
    "df1['TARGET'] = df1.apply(func, axis=1)"
   ]
  },
  {
   "cell_type": "code",
   "execution_count": 151,
   "metadata": {},
   "outputs": [
    {
     "data": {
      "text/html": [
       "<div>\n",
       "<style scoped>\n",
       "    .dataframe tbody tr th:only-of-type {\n",
       "        vertical-align: middle;\n",
       "    }\n",
       "\n",
       "    .dataframe tbody tr th {\n",
       "        vertical-align: top;\n",
       "    }\n",
       "\n",
       "    .dataframe thead th {\n",
       "        text-align: right;\n",
       "    }\n",
       "</style>\n",
       "<table border=\"1\" class=\"dataframe\">\n",
       "  <thead>\n",
       "    <tr style=\"text-align: right;\">\n",
       "      <th></th>\n",
       "      <th>ID</th>\n",
       "      <th>DIAS_ESTANCIA</th>\n",
       "      <th>EDAD</th>\n",
       "      <th>GENERO</th>\n",
       "      <th>PESO</th>\n",
       "      <th>ALTURA</th>\n",
       "      <th>MES</th>\n",
       "      <th>ENTIDAD</th>\n",
       "      <th>INDIGENA</th>\n",
       "      <th>MOTIVO_EGRESO</th>\n",
       "      <th>CODIGO_ENFERMEDAD</th>\n",
       "      <th>TARGET</th>\n",
       "    </tr>\n",
       "  </thead>\n",
       "  <tbody>\n",
       "    <tr>\n",
       "      <th>0</th>\n",
       "      <td>2738822</td>\n",
       "      <td>1</td>\n",
       "      <td>23</td>\n",
       "      <td>2</td>\n",
       "      <td>63</td>\n",
       "      <td>147.000000</td>\n",
       "      <td>2</td>\n",
       "      <td>29</td>\n",
       "      <td>2</td>\n",
       "      <td>1</td>\n",
       "      <td>O809</td>\n",
       "      <td>CURACION</td>\n",
       "    </tr>\n",
       "    <tr>\n",
       "      <th>1</th>\n",
       "      <td>2735411</td>\n",
       "      <td>2</td>\n",
       "      <td>22</td>\n",
       "      <td>2</td>\n",
       "      <td>84</td>\n",
       "      <td>147.625778</td>\n",
       "      <td>6</td>\n",
       "      <td>8</td>\n",
       "      <td>2</td>\n",
       "      <td>1</td>\n",
       "      <td>O829</td>\n",
       "      <td>CURACION</td>\n",
       "    </tr>\n",
       "    <tr>\n",
       "      <th>2</th>\n",
       "      <td>2731022</td>\n",
       "      <td>2</td>\n",
       "      <td>23</td>\n",
       "      <td>2</td>\n",
       "      <td>86</td>\n",
       "      <td>151.000000</td>\n",
       "      <td>2</td>\n",
       "      <td>4</td>\n",
       "      <td>2</td>\n",
       "      <td>1</td>\n",
       "      <td>O809</td>\n",
       "      <td>CURACION</td>\n",
       "    </tr>\n",
       "    <tr>\n",
       "      <th>3</th>\n",
       "      <td>2726593</td>\n",
       "      <td>0</td>\n",
       "      <td>67</td>\n",
       "      <td>2</td>\n",
       "      <td>45</td>\n",
       "      <td>152.000000</td>\n",
       "      <td>3</td>\n",
       "      <td>20</td>\n",
       "      <td>2</td>\n",
       "      <td>1</td>\n",
       "      <td>H259</td>\n",
       "      <td>CURACION</td>\n",
       "    </tr>\n",
       "    <tr>\n",
       "      <th>4</th>\n",
       "      <td>2723606</td>\n",
       "      <td>2</td>\n",
       "      <td>27</td>\n",
       "      <td>2</td>\n",
       "      <td>53</td>\n",
       "      <td>154.000000</td>\n",
       "      <td>2</td>\n",
       "      <td>21</td>\n",
       "      <td>2</td>\n",
       "      <td>1</td>\n",
       "      <td>O064</td>\n",
       "      <td>CURACION</td>\n",
       "    </tr>\n",
       "    <tr>\n",
       "      <th>...</th>\n",
       "      <td>...</td>\n",
       "      <td>...</td>\n",
       "      <td>...</td>\n",
       "      <td>...</td>\n",
       "      <td>...</td>\n",
       "      <td>...</td>\n",
       "      <td>...</td>\n",
       "      <td>...</td>\n",
       "      <td>...</td>\n",
       "      <td>...</td>\n",
       "      <td>...</td>\n",
       "      <td>...</td>\n",
       "    </tr>\n",
       "    <tr>\n",
       "      <th>29889</th>\n",
       "      <td>625419</td>\n",
       "      <td>0</td>\n",
       "      <td>28</td>\n",
       "      <td>1</td>\n",
       "      <td>70</td>\n",
       "      <td>160.000000</td>\n",
       "      <td>8</td>\n",
       "      <td>15</td>\n",
       "      <td>2</td>\n",
       "      <td>9</td>\n",
       "      <td>N189</td>\n",
       "      <td>NE</td>\n",
       "    </tr>\n",
       "    <tr>\n",
       "      <th>29890</th>\n",
       "      <td>616410</td>\n",
       "      <td>0</td>\n",
       "      <td>51</td>\n",
       "      <td>2</td>\n",
       "      <td>70</td>\n",
       "      <td>160.000000</td>\n",
       "      <td>8</td>\n",
       "      <td>15</td>\n",
       "      <td>2</td>\n",
       "      <td>9</td>\n",
       "      <td>N189</td>\n",
       "      <td>NE</td>\n",
       "    </tr>\n",
       "    <tr>\n",
       "      <th>29891</th>\n",
       "      <td>356322</td>\n",
       "      <td>3</td>\n",
       "      <td>41</td>\n",
       "      <td>2</td>\n",
       "      <td>50</td>\n",
       "      <td>140.000000</td>\n",
       "      <td>12</td>\n",
       "      <td>9</td>\n",
       "      <td>2</td>\n",
       "      <td>9</td>\n",
       "      <td>D259</td>\n",
       "      <td>NE</td>\n",
       "    </tr>\n",
       "    <tr>\n",
       "      <th>29892</th>\n",
       "      <td>356309</td>\n",
       "      <td>3</td>\n",
       "      <td>27</td>\n",
       "      <td>2</td>\n",
       "      <td>88</td>\n",
       "      <td>154.000000</td>\n",
       "      <td>12</td>\n",
       "      <td>9</td>\n",
       "      <td>2</td>\n",
       "      <td>9</td>\n",
       "      <td>O829</td>\n",
       "      <td>NE</td>\n",
       "    </tr>\n",
       "    <tr>\n",
       "      <th>29893</th>\n",
       "      <td>120078</td>\n",
       "      <td>1</td>\n",
       "      <td>14</td>\n",
       "      <td>1</td>\n",
       "      <td>52</td>\n",
       "      <td>160.000000</td>\n",
       "      <td>7</td>\n",
       "      <td>9</td>\n",
       "      <td>2</td>\n",
       "      <td>9</td>\n",
       "      <td>Z512</td>\n",
       "      <td>NE</td>\n",
       "    </tr>\n",
       "  </tbody>\n",
       "</table>\n",
       "<p>29894 rows × 12 columns</p>\n",
       "</div>"
      ],
      "text/plain": [
       "            ID  DIAS_ESTANCIA  EDAD  GENERO  PESO      ALTURA  MES  ENTIDAD  \\\n",
       "0      2738822              1    23       2    63  147.000000    2       29   \n",
       "1      2735411              2    22       2    84  147.625778    6        8   \n",
       "2      2731022              2    23       2    86  151.000000    2        4   \n",
       "3      2726593              0    67       2    45  152.000000    3       20   \n",
       "4      2723606              2    27       2    53  154.000000    2       21   \n",
       "...        ...            ...   ...     ...   ...         ...  ...      ...   \n",
       "29889   625419              0    28       1    70  160.000000    8       15   \n",
       "29890   616410              0    51       2    70  160.000000    8       15   \n",
       "29891   356322              3    41       2    50  140.000000   12        9   \n",
       "29892   356309              3    27       2    88  154.000000   12        9   \n",
       "29893   120078              1    14       1    52  160.000000    7        9   \n",
       "\n",
       "       INDIGENA  MOTIVO_EGRESO CODIGO_ENFERMEDAD    TARGET  \n",
       "0             2              1              O809  CURACION  \n",
       "1             2              1              O829  CURACION  \n",
       "2             2              1              O809  CURACION  \n",
       "3             2              1              H259  CURACION  \n",
       "4             2              1              O064  CURACION  \n",
       "...         ...            ...               ...       ...  \n",
       "29889         2              9              N189        NE  \n",
       "29890         2              9              N189        NE  \n",
       "29891         2              9              D259        NE  \n",
       "29892         2              9              O829        NE  \n",
       "29893         2              9              Z512        NE  \n",
       "\n",
       "[29894 rows x 12 columns]"
      ]
     },
     "execution_count": 151,
     "metadata": {},
     "output_type": "execute_result"
    }
   ],
   "source": [
    "df1"
   ]
  },
  {
   "cell_type": "code",
   "execution_count": 167,
   "metadata": {},
   "outputs": [],
   "source": [
    "# Importo la tabla de las entidades como dataframe\n",
    "df_entidades = pd.read_excel(\"/Users/acrhonoz./Desktop/Hospitales2.xlsx\", sheet_name='Entidad')"
   ]
  },
  {
   "cell_type": "code",
   "execution_count": 169,
   "metadata": {},
   "outputs": [
    {
     "data": {
      "text/html": [
       "<div>\n",
       "<style scoped>\n",
       "    .dataframe tbody tr th:only-of-type {\n",
       "        vertical-align: middle;\n",
       "    }\n",
       "\n",
       "    .dataframe tbody tr th {\n",
       "        vertical-align: top;\n",
       "    }\n",
       "\n",
       "    .dataframe thead th {\n",
       "        text-align: right;\n",
       "    }\n",
       "</style>\n",
       "<table border=\"1\" class=\"dataframe\">\n",
       "  <thead>\n",
       "    <tr style=\"text-align: right;\">\n",
       "      <th></th>\n",
       "      <th>ENTIDAD</th>\n",
       "      <th>NOMBRE_ENTIDAD</th>\n",
       "    </tr>\n",
       "  </thead>\n",
       "  <tbody>\n",
       "    <tr>\n",
       "      <th>0</th>\n",
       "      <td>1</td>\n",
       "      <td>Aguascalientes</td>\n",
       "    </tr>\n",
       "    <tr>\n",
       "      <th>1</th>\n",
       "      <td>2</td>\n",
       "      <td>Baja California</td>\n",
       "    </tr>\n",
       "    <tr>\n",
       "      <th>2</th>\n",
       "      <td>3</td>\n",
       "      <td>Baja California Sur</td>\n",
       "    </tr>\n",
       "    <tr>\n",
       "      <th>3</th>\n",
       "      <td>4</td>\n",
       "      <td>Campeche</td>\n",
       "    </tr>\n",
       "    <tr>\n",
       "      <th>4</th>\n",
       "      <td>5</td>\n",
       "      <td>Coahuila de Zaragoza</td>\n",
       "    </tr>\n",
       "    <tr>\n",
       "      <th>5</th>\n",
       "      <td>6</td>\n",
       "      <td>Colima</td>\n",
       "    </tr>\n",
       "    <tr>\n",
       "      <th>6</th>\n",
       "      <td>7</td>\n",
       "      <td>Chiapas</td>\n",
       "    </tr>\n",
       "    <tr>\n",
       "      <th>7</th>\n",
       "      <td>8</td>\n",
       "      <td>Chihuahua</td>\n",
       "    </tr>\n",
       "    <tr>\n",
       "      <th>8</th>\n",
       "      <td>9</td>\n",
       "      <td>CDMX</td>\n",
       "    </tr>\n",
       "    <tr>\n",
       "      <th>9</th>\n",
       "      <td>10</td>\n",
       "      <td>Durango</td>\n",
       "    </tr>\n",
       "    <tr>\n",
       "      <th>10</th>\n",
       "      <td>11</td>\n",
       "      <td>Guanajuato</td>\n",
       "    </tr>\n",
       "    <tr>\n",
       "      <th>11</th>\n",
       "      <td>12</td>\n",
       "      <td>Guerrero</td>\n",
       "    </tr>\n",
       "    <tr>\n",
       "      <th>12</th>\n",
       "      <td>13</td>\n",
       "      <td>Hidalgo</td>\n",
       "    </tr>\n",
       "    <tr>\n",
       "      <th>13</th>\n",
       "      <td>14</td>\n",
       "      <td>Jalisco</td>\n",
       "    </tr>\n",
       "    <tr>\n",
       "      <th>14</th>\n",
       "      <td>15</td>\n",
       "      <td>Mexico</td>\n",
       "    </tr>\n",
       "    <tr>\n",
       "      <th>15</th>\n",
       "      <td>16</td>\n",
       "      <td>Michoacan</td>\n",
       "    </tr>\n",
       "    <tr>\n",
       "      <th>16</th>\n",
       "      <td>17</td>\n",
       "      <td>Morelos</td>\n",
       "    </tr>\n",
       "    <tr>\n",
       "      <th>17</th>\n",
       "      <td>18</td>\n",
       "      <td>Nayarit</td>\n",
       "    </tr>\n",
       "    <tr>\n",
       "      <th>18</th>\n",
       "      <td>19</td>\n",
       "      <td>NL</td>\n",
       "    </tr>\n",
       "    <tr>\n",
       "      <th>19</th>\n",
       "      <td>20</td>\n",
       "      <td>Oaxaca</td>\n",
       "    </tr>\n",
       "    <tr>\n",
       "      <th>20</th>\n",
       "      <td>21</td>\n",
       "      <td>Puebla</td>\n",
       "    </tr>\n",
       "    <tr>\n",
       "      <th>21</th>\n",
       "      <td>22</td>\n",
       "      <td>Queretaro</td>\n",
       "    </tr>\n",
       "    <tr>\n",
       "      <th>22</th>\n",
       "      <td>23</td>\n",
       "      <td>Quintana Roo</td>\n",
       "    </tr>\n",
       "    <tr>\n",
       "      <th>23</th>\n",
       "      <td>24</td>\n",
       "      <td>SLP</td>\n",
       "    </tr>\n",
       "    <tr>\n",
       "      <th>24</th>\n",
       "      <td>25</td>\n",
       "      <td>Sinaloa</td>\n",
       "    </tr>\n",
       "    <tr>\n",
       "      <th>25</th>\n",
       "      <td>26</td>\n",
       "      <td>Sonora</td>\n",
       "    </tr>\n",
       "    <tr>\n",
       "      <th>26</th>\n",
       "      <td>27</td>\n",
       "      <td>Tabasco</td>\n",
       "    </tr>\n",
       "    <tr>\n",
       "      <th>27</th>\n",
       "      <td>28</td>\n",
       "      <td>Tamaulipas</td>\n",
       "    </tr>\n",
       "    <tr>\n",
       "      <th>28</th>\n",
       "      <td>29</td>\n",
       "      <td>Tlaxcala</td>\n",
       "    </tr>\n",
       "    <tr>\n",
       "      <th>29</th>\n",
       "      <td>30</td>\n",
       "      <td>Ver</td>\n",
       "    </tr>\n",
       "    <tr>\n",
       "      <th>30</th>\n",
       "      <td>31</td>\n",
       "      <td>Yucatan</td>\n",
       "    </tr>\n",
       "    <tr>\n",
       "      <th>31</th>\n",
       "      <td>32</td>\n",
       "      <td>Zacatecas</td>\n",
       "    </tr>\n",
       "  </tbody>\n",
       "</table>\n",
       "</div>"
      ],
      "text/plain": [
       "    ENTIDAD        NOMBRE_ENTIDAD\n",
       "0         1        Aguascalientes\n",
       "1         2       Baja California\n",
       "2         3   Baja California Sur\n",
       "3         4              Campeche\n",
       "4         5  Coahuila de Zaragoza\n",
       "5         6                Colima\n",
       "6         7               Chiapas\n",
       "7         8             Chihuahua\n",
       "8         9                  CDMX\n",
       "9        10               Durango\n",
       "10       11            Guanajuato\n",
       "11       12              Guerrero\n",
       "12       13               Hidalgo\n",
       "13       14               Jalisco\n",
       "14       15                Mexico\n",
       "15       16             Michoacan\n",
       "16       17               Morelos\n",
       "17       18               Nayarit\n",
       "18       19                    NL\n",
       "19       20                Oaxaca\n",
       "20       21                Puebla\n",
       "21       22             Queretaro\n",
       "22       23          Quintana Roo\n",
       "23       24                   SLP\n",
       "24       25               Sinaloa\n",
       "25       26                Sonora\n",
       "26       27               Tabasco\n",
       "27       28            Tamaulipas\n",
       "28       29              Tlaxcala\n",
       "29       30                   Ver\n",
       "30       31               Yucatan\n",
       "31       32             Zacatecas"
      ]
     },
     "execution_count": 169,
     "metadata": {},
     "output_type": "execute_result"
    }
   ],
   "source": [
    "df_entidades"
   ]
  },
  {
   "cell_type": "code",
   "execution_count": 170,
   "metadata": {},
   "outputs": [],
   "source": [
    "# Importo la tabla de las enfermedades como dataframe\n",
    "df_enfermedades = pd.read_excel(\"/Users/acrhonoz./Desktop/Hospitales2.xlsx\", sheet_name='Enfermedades')"
   ]
  },
  {
   "cell_type": "code",
   "execution_count": 171,
   "metadata": {},
   "outputs": [
    {
     "data": {
      "text/html": [
       "<div>\n",
       "<style scoped>\n",
       "    .dataframe tbody tr th:only-of-type {\n",
       "        vertical-align: middle;\n",
       "    }\n",
       "\n",
       "    .dataframe tbody tr th {\n",
       "        vertical-align: top;\n",
       "    }\n",
       "\n",
       "    .dataframe thead th {\n",
       "        text-align: right;\n",
       "    }\n",
       "</style>\n",
       "<table border=\"1\" class=\"dataframe\">\n",
       "  <thead>\n",
       "    <tr style=\"text-align: right;\">\n",
       "      <th></th>\n",
       "      <th>CODIGO_ENFERMEDAD</th>\n",
       "      <th>CODIGO_ENFERMEDAD_DESC</th>\n",
       "    </tr>\n",
       "  </thead>\n",
       "  <tbody>\n",
       "    <tr>\n",
       "      <th>0</th>\n",
       "      <td>A000</td>\n",
       "      <td>Cólera debido a Vibrio cholerae 01, biotipo ch...</td>\n",
       "    </tr>\n",
       "    <tr>\n",
       "      <th>1</th>\n",
       "      <td>A001</td>\n",
       "      <td>Cólera debido a Vibrio cholerae 01, biotipo el...</td>\n",
       "    </tr>\n",
       "    <tr>\n",
       "      <th>2</th>\n",
       "      <td>A009</td>\n",
       "      <td>Cólera, no especificado</td>\n",
       "    </tr>\n",
       "    <tr>\n",
       "      <th>3</th>\n",
       "      <td>A010</td>\n",
       "      <td>Fiebre tifoidea</td>\n",
       "    </tr>\n",
       "    <tr>\n",
       "      <th>4</th>\n",
       "      <td>A011</td>\n",
       "      <td>Fiebre paratifoidea A</td>\n",
       "    </tr>\n",
       "    <tr>\n",
       "      <th>...</th>\n",
       "      <td>...</td>\n",
       "      <td>...</td>\n",
       "    </tr>\n",
       "    <tr>\n",
       "      <th>12638</th>\n",
       "      <td>Z993</td>\n",
       "      <td>Dependencia de silla de ruedas</td>\n",
       "    </tr>\n",
       "    <tr>\n",
       "      <th>12639</th>\n",
       "      <td>Z994</td>\n",
       "      <td>Dependencia de corazón artificial</td>\n",
       "    </tr>\n",
       "    <tr>\n",
       "      <th>12640</th>\n",
       "      <td>Z998</td>\n",
       "      <td>Dependencia de otras máquinas y dispositivos c...</td>\n",
       "    </tr>\n",
       "    <tr>\n",
       "      <th>12641</th>\n",
       "      <td>Z999</td>\n",
       "      <td>Dependencia de máquina y dispositivo capacitan...</td>\n",
       "    </tr>\n",
       "    <tr>\n",
       "      <th>12642</th>\n",
       "      <td>8888</td>\n",
       "      <td>No aplica</td>\n",
       "    </tr>\n",
       "  </tbody>\n",
       "</table>\n",
       "<p>12643 rows × 2 columns</p>\n",
       "</div>"
      ],
      "text/plain": [
       "      CODIGO_ENFERMEDAD                             CODIGO_ENFERMEDAD_DESC\n",
       "0                  A000  Cólera debido a Vibrio cholerae 01, biotipo ch...\n",
       "1                  A001  Cólera debido a Vibrio cholerae 01, biotipo el...\n",
       "2                  A009                            Cólera, no especificado\n",
       "3                  A010                                    Fiebre tifoidea\n",
       "4                  A011                              Fiebre paratifoidea A\n",
       "...                 ...                                                ...\n",
       "12638              Z993                     Dependencia de silla de ruedas\n",
       "12639              Z994                  Dependencia de corazón artificial\n",
       "12640              Z998  Dependencia de otras máquinas y dispositivos c...\n",
       "12641              Z999  Dependencia de máquina y dispositivo capacitan...\n",
       "12642              8888                                          No aplica\n",
       "\n",
       "[12643 rows x 2 columns]"
      ]
     },
     "execution_count": 171,
     "metadata": {},
     "output_type": "execute_result"
    }
   ],
   "source": [
    "df_enfermedades"
   ]
  },
  {
   "cell_type": "code",
   "execution_count": 176,
   "metadata": {},
   "outputs": [],
   "source": [
    "# Creamos el cruce con la base entidades y agregamos el campo \"NOMBRE_ENTIDAD\"\n",
    "df1_enti = pd.merge(df1,df_entidades,on='ENTIDAD',how='left')"
   ]
  },
  {
   "cell_type": "code",
   "execution_count": 177,
   "metadata": {},
   "outputs": [
    {
     "data": {
      "text/html": [
       "<div>\n",
       "<style scoped>\n",
       "    .dataframe tbody tr th:only-of-type {\n",
       "        vertical-align: middle;\n",
       "    }\n",
       "\n",
       "    .dataframe tbody tr th {\n",
       "        vertical-align: top;\n",
       "    }\n",
       "\n",
       "    .dataframe thead th {\n",
       "        text-align: right;\n",
       "    }\n",
       "</style>\n",
       "<table border=\"1\" class=\"dataframe\">\n",
       "  <thead>\n",
       "    <tr style=\"text-align: right;\">\n",
       "      <th></th>\n",
       "      <th>ID</th>\n",
       "      <th>DIAS_ESTANCIA</th>\n",
       "      <th>EDAD</th>\n",
       "      <th>GENERO</th>\n",
       "      <th>PESO</th>\n",
       "      <th>ALTURA</th>\n",
       "      <th>MES</th>\n",
       "      <th>ENTIDAD</th>\n",
       "      <th>INDIGENA</th>\n",
       "      <th>MOTIVO_EGRESO</th>\n",
       "      <th>CODIGO_ENFERMEDAD</th>\n",
       "      <th>TARGET</th>\n",
       "      <th>NOMBRE_ENTIDAD</th>\n",
       "    </tr>\n",
       "  </thead>\n",
       "  <tbody>\n",
       "    <tr>\n",
       "      <th>0</th>\n",
       "      <td>2738822</td>\n",
       "      <td>1</td>\n",
       "      <td>23</td>\n",
       "      <td>2</td>\n",
       "      <td>63</td>\n",
       "      <td>147.000000</td>\n",
       "      <td>2</td>\n",
       "      <td>29</td>\n",
       "      <td>2</td>\n",
       "      <td>1</td>\n",
       "      <td>O809</td>\n",
       "      <td>CURACION</td>\n",
       "      <td>Tlaxcala</td>\n",
       "    </tr>\n",
       "    <tr>\n",
       "      <th>1</th>\n",
       "      <td>2735411</td>\n",
       "      <td>2</td>\n",
       "      <td>22</td>\n",
       "      <td>2</td>\n",
       "      <td>84</td>\n",
       "      <td>147.625778</td>\n",
       "      <td>6</td>\n",
       "      <td>8</td>\n",
       "      <td>2</td>\n",
       "      <td>1</td>\n",
       "      <td>O829</td>\n",
       "      <td>CURACION</td>\n",
       "      <td>Chihuahua</td>\n",
       "    </tr>\n",
       "    <tr>\n",
       "      <th>2</th>\n",
       "      <td>2731022</td>\n",
       "      <td>2</td>\n",
       "      <td>23</td>\n",
       "      <td>2</td>\n",
       "      <td>86</td>\n",
       "      <td>151.000000</td>\n",
       "      <td>2</td>\n",
       "      <td>4</td>\n",
       "      <td>2</td>\n",
       "      <td>1</td>\n",
       "      <td>O809</td>\n",
       "      <td>CURACION</td>\n",
       "      <td>Campeche</td>\n",
       "    </tr>\n",
       "    <tr>\n",
       "      <th>3</th>\n",
       "      <td>2726593</td>\n",
       "      <td>0</td>\n",
       "      <td>67</td>\n",
       "      <td>2</td>\n",
       "      <td>45</td>\n",
       "      <td>152.000000</td>\n",
       "      <td>3</td>\n",
       "      <td>20</td>\n",
       "      <td>2</td>\n",
       "      <td>1</td>\n",
       "      <td>H259</td>\n",
       "      <td>CURACION</td>\n",
       "      <td>Oaxaca</td>\n",
       "    </tr>\n",
       "    <tr>\n",
       "      <th>4</th>\n",
       "      <td>2723606</td>\n",
       "      <td>2</td>\n",
       "      <td>27</td>\n",
       "      <td>2</td>\n",
       "      <td>53</td>\n",
       "      <td>154.000000</td>\n",
       "      <td>2</td>\n",
       "      <td>21</td>\n",
       "      <td>2</td>\n",
       "      <td>1</td>\n",
       "      <td>O064</td>\n",
       "      <td>CURACION</td>\n",
       "      <td>Puebla</td>\n",
       "    </tr>\n",
       "    <tr>\n",
       "      <th>...</th>\n",
       "      <td>...</td>\n",
       "      <td>...</td>\n",
       "      <td>...</td>\n",
       "      <td>...</td>\n",
       "      <td>...</td>\n",
       "      <td>...</td>\n",
       "      <td>...</td>\n",
       "      <td>...</td>\n",
       "      <td>...</td>\n",
       "      <td>...</td>\n",
       "      <td>...</td>\n",
       "      <td>...</td>\n",
       "      <td>...</td>\n",
       "    </tr>\n",
       "    <tr>\n",
       "      <th>29889</th>\n",
       "      <td>625419</td>\n",
       "      <td>0</td>\n",
       "      <td>28</td>\n",
       "      <td>1</td>\n",
       "      <td>70</td>\n",
       "      <td>160.000000</td>\n",
       "      <td>8</td>\n",
       "      <td>15</td>\n",
       "      <td>2</td>\n",
       "      <td>9</td>\n",
       "      <td>N189</td>\n",
       "      <td>NE</td>\n",
       "      <td>Mexico</td>\n",
       "    </tr>\n",
       "    <tr>\n",
       "      <th>29890</th>\n",
       "      <td>616410</td>\n",
       "      <td>0</td>\n",
       "      <td>51</td>\n",
       "      <td>2</td>\n",
       "      <td>70</td>\n",
       "      <td>160.000000</td>\n",
       "      <td>8</td>\n",
       "      <td>15</td>\n",
       "      <td>2</td>\n",
       "      <td>9</td>\n",
       "      <td>N189</td>\n",
       "      <td>NE</td>\n",
       "      <td>Mexico</td>\n",
       "    </tr>\n",
       "    <tr>\n",
       "      <th>29891</th>\n",
       "      <td>356322</td>\n",
       "      <td>3</td>\n",
       "      <td>41</td>\n",
       "      <td>2</td>\n",
       "      <td>50</td>\n",
       "      <td>140.000000</td>\n",
       "      <td>12</td>\n",
       "      <td>9</td>\n",
       "      <td>2</td>\n",
       "      <td>9</td>\n",
       "      <td>D259</td>\n",
       "      <td>NE</td>\n",
       "      <td>CDMX</td>\n",
       "    </tr>\n",
       "    <tr>\n",
       "      <th>29892</th>\n",
       "      <td>356309</td>\n",
       "      <td>3</td>\n",
       "      <td>27</td>\n",
       "      <td>2</td>\n",
       "      <td>88</td>\n",
       "      <td>154.000000</td>\n",
       "      <td>12</td>\n",
       "      <td>9</td>\n",
       "      <td>2</td>\n",
       "      <td>9</td>\n",
       "      <td>O829</td>\n",
       "      <td>NE</td>\n",
       "      <td>CDMX</td>\n",
       "    </tr>\n",
       "    <tr>\n",
       "      <th>29893</th>\n",
       "      <td>120078</td>\n",
       "      <td>1</td>\n",
       "      <td>14</td>\n",
       "      <td>1</td>\n",
       "      <td>52</td>\n",
       "      <td>160.000000</td>\n",
       "      <td>7</td>\n",
       "      <td>9</td>\n",
       "      <td>2</td>\n",
       "      <td>9</td>\n",
       "      <td>Z512</td>\n",
       "      <td>NE</td>\n",
       "      <td>CDMX</td>\n",
       "    </tr>\n",
       "  </tbody>\n",
       "</table>\n",
       "<p>29894 rows × 13 columns</p>\n",
       "</div>"
      ],
      "text/plain": [
       "            ID  DIAS_ESTANCIA  EDAD  GENERO  PESO      ALTURA  MES  ENTIDAD  \\\n",
       "0      2738822              1    23       2    63  147.000000    2       29   \n",
       "1      2735411              2    22       2    84  147.625778    6        8   \n",
       "2      2731022              2    23       2    86  151.000000    2        4   \n",
       "3      2726593              0    67       2    45  152.000000    3       20   \n",
       "4      2723606              2    27       2    53  154.000000    2       21   \n",
       "...        ...            ...   ...     ...   ...         ...  ...      ...   \n",
       "29889   625419              0    28       1    70  160.000000    8       15   \n",
       "29890   616410              0    51       2    70  160.000000    8       15   \n",
       "29891   356322              3    41       2    50  140.000000   12        9   \n",
       "29892   356309              3    27       2    88  154.000000   12        9   \n",
       "29893   120078              1    14       1    52  160.000000    7        9   \n",
       "\n",
       "       INDIGENA  MOTIVO_EGRESO CODIGO_ENFERMEDAD    TARGET NOMBRE_ENTIDAD  \n",
       "0             2              1              O809  CURACION       Tlaxcala  \n",
       "1             2              1              O829  CURACION      Chihuahua  \n",
       "2             2              1              O809  CURACION       Campeche  \n",
       "3             2              1              H259  CURACION         Oaxaca  \n",
       "4             2              1              O064  CURACION         Puebla  \n",
       "...         ...            ...               ...       ...            ...  \n",
       "29889         2              9              N189        NE         Mexico  \n",
       "29890         2              9              N189        NE         Mexico  \n",
       "29891         2              9              D259        NE           CDMX  \n",
       "29892         2              9              O829        NE           CDMX  \n",
       "29893         2              9              Z512        NE           CDMX  \n",
       "\n",
       "[29894 rows x 13 columns]"
      ]
     },
     "execution_count": 177,
     "metadata": {},
     "output_type": "execute_result"
    }
   ],
   "source": [
    "df1_enti"
   ]
  },
  {
   "cell_type": "code",
   "execution_count": 178,
   "metadata": {},
   "outputs": [],
   "source": [
    "# Del df anterior creamos el cruce con la base de codigo de enfermedad y nos traemos ese campo\n",
    "df1_enti_enfer = pd.merge(df1_enti,df_enfermedades,on='CODIGO_ENFERMEDAD',how='left')"
   ]
  },
  {
   "cell_type": "code",
   "execution_count": 181,
   "metadata": {},
   "outputs": [
    {
     "data": {
      "text/html": [
       "<div>\n",
       "<style scoped>\n",
       "    .dataframe tbody tr th:only-of-type {\n",
       "        vertical-align: middle;\n",
       "    }\n",
       "\n",
       "    .dataframe tbody tr th {\n",
       "        vertical-align: top;\n",
       "    }\n",
       "\n",
       "    .dataframe thead th {\n",
       "        text-align: right;\n",
       "    }\n",
       "</style>\n",
       "<table border=\"1\" class=\"dataframe\">\n",
       "  <thead>\n",
       "    <tr style=\"text-align: right;\">\n",
       "      <th></th>\n",
       "      <th>ID</th>\n",
       "      <th>DIAS_ESTANCIA</th>\n",
       "      <th>EDAD</th>\n",
       "      <th>GENERO</th>\n",
       "      <th>PESO</th>\n",
       "      <th>ALTURA</th>\n",
       "      <th>MES</th>\n",
       "      <th>ENTIDAD</th>\n",
       "      <th>INDIGENA</th>\n",
       "      <th>MOTIVO_EGRESO</th>\n",
       "      <th>CODIGO_ENFERMEDAD</th>\n",
       "      <th>TARGET</th>\n",
       "      <th>NOMBRE_ENTIDAD</th>\n",
       "      <th>CODIGO_ENFERMEDAD_DESC</th>\n",
       "    </tr>\n",
       "  </thead>\n",
       "  <tbody>\n",
       "    <tr>\n",
       "      <th>0</th>\n",
       "      <td>2738822</td>\n",
       "      <td>1</td>\n",
       "      <td>23</td>\n",
       "      <td>2</td>\n",
       "      <td>63</td>\n",
       "      <td>147.000000</td>\n",
       "      <td>2</td>\n",
       "      <td>29</td>\n",
       "      <td>2</td>\n",
       "      <td>1</td>\n",
       "      <td>O809</td>\n",
       "      <td>CURACION</td>\n",
       "      <td>Tlaxcala</td>\n",
       "      <td>Parto único espontáneo, sin otra especificación</td>\n",
       "    </tr>\n",
       "    <tr>\n",
       "      <th>1</th>\n",
       "      <td>2735411</td>\n",
       "      <td>2</td>\n",
       "      <td>22</td>\n",
       "      <td>2</td>\n",
       "      <td>84</td>\n",
       "      <td>147.625778</td>\n",
       "      <td>6</td>\n",
       "      <td>8</td>\n",
       "      <td>2</td>\n",
       "      <td>1</td>\n",
       "      <td>O829</td>\n",
       "      <td>CURACION</td>\n",
       "      <td>Chihuahua</td>\n",
       "      <td>Parto por cesárea, sin otra especificación</td>\n",
       "    </tr>\n",
       "    <tr>\n",
       "      <th>2</th>\n",
       "      <td>2731022</td>\n",
       "      <td>2</td>\n",
       "      <td>23</td>\n",
       "      <td>2</td>\n",
       "      <td>86</td>\n",
       "      <td>151.000000</td>\n",
       "      <td>2</td>\n",
       "      <td>4</td>\n",
       "      <td>2</td>\n",
       "      <td>1</td>\n",
       "      <td>O809</td>\n",
       "      <td>CURACION</td>\n",
       "      <td>Campeche</td>\n",
       "      <td>Parto único espontáneo, sin otra especificación</td>\n",
       "    </tr>\n",
       "    <tr>\n",
       "      <th>3</th>\n",
       "      <td>2726593</td>\n",
       "      <td>0</td>\n",
       "      <td>67</td>\n",
       "      <td>2</td>\n",
       "      <td>45</td>\n",
       "      <td>152.000000</td>\n",
       "      <td>3</td>\n",
       "      <td>20</td>\n",
       "      <td>2</td>\n",
       "      <td>1</td>\n",
       "      <td>H259</td>\n",
       "      <td>CURACION</td>\n",
       "      <td>Oaxaca</td>\n",
       "      <td>Catarata senil, no especificada</td>\n",
       "    </tr>\n",
       "    <tr>\n",
       "      <th>4</th>\n",
       "      <td>2723606</td>\n",
       "      <td>2</td>\n",
       "      <td>27</td>\n",
       "      <td>2</td>\n",
       "      <td>53</td>\n",
       "      <td>154.000000</td>\n",
       "      <td>2</td>\n",
       "      <td>21</td>\n",
       "      <td>2</td>\n",
       "      <td>1</td>\n",
       "      <td>O064</td>\n",
       "      <td>CURACION</td>\n",
       "      <td>Puebla</td>\n",
       "      <td>Aborto no especificado incompleto, sin complic...</td>\n",
       "    </tr>\n",
       "  </tbody>\n",
       "</table>\n",
       "</div>"
      ],
      "text/plain": [
       "        ID  DIAS_ESTANCIA  EDAD  GENERO  PESO      ALTURA  MES  ENTIDAD  \\\n",
       "0  2738822              1    23       2    63  147.000000    2       29   \n",
       "1  2735411              2    22       2    84  147.625778    6        8   \n",
       "2  2731022              2    23       2    86  151.000000    2        4   \n",
       "3  2726593              0    67       2    45  152.000000    3       20   \n",
       "4  2723606              2    27       2    53  154.000000    2       21   \n",
       "\n",
       "   INDIGENA  MOTIVO_EGRESO CODIGO_ENFERMEDAD    TARGET NOMBRE_ENTIDAD  \\\n",
       "0         2              1              O809  CURACION       Tlaxcala   \n",
       "1         2              1              O829  CURACION      Chihuahua   \n",
       "2         2              1              O809  CURACION       Campeche   \n",
       "3         2              1              H259  CURACION         Oaxaca   \n",
       "4         2              1              O064  CURACION         Puebla   \n",
       "\n",
       "                              CODIGO_ENFERMEDAD_DESC  \n",
       "0    Parto único espontáneo, sin otra especificación  \n",
       "1         Parto por cesárea, sin otra especificación  \n",
       "2    Parto único espontáneo, sin otra especificación  \n",
       "3                    Catarata senil, no especificada  \n",
       "4  Aborto no especificado incompleto, sin complic...  "
      ]
     },
     "execution_count": 181,
     "metadata": {},
     "output_type": "execute_result"
    }
   ],
   "source": [
    "df1_enti_enfer.head()"
   ]
  },
  {
   "cell_type": "markdown",
   "metadata": {},
   "source": [
    "## 3) Análisis de Resultados"
   ]
  },
  {
   "cell_type": "markdown",
   "metadata": {},
   "source": [
    "¿Qúe características tienen los egresos hospitalarios?\n",
    "Viendo los histograma del ejercicio 1 sobre egresos, se observa un mayor numero de egresos tanto de hombres como de mujeres por curación.   "
   ]
  },
  {
   "cell_type": "markdown",
   "metadata": {},
   "source": [
    "¿Qué factores pueden hacer que una persona dure más tiempo hospitalizada?"
   ]
  },
  {
   "cell_type": "code",
   "execution_count": 191,
   "metadata": {},
   "outputs": [
    {
     "data": {
      "image/png": "[encoded data removed]",
      "text/plain": [
       "<Figure size 432x288 with 1 Axes>"
      ]
     },
     "metadata": {
      "needs_background": "light"
     },
     "output_type": "display_data"
    }
   ],
   "source": [
    "m = df_mujeres['DIAS_ESTANCIA'].tolist()\n",
    "h = df_hombres['DIAS_ESTANCIA'].tolist()\n",
    "plt.hist([m, h], bins = 10, rwidth = 0.90, color= ['r','b'],label=['Mujeres', 'Hombres'])\n",
    "plt.title('Histograma de Días de estancia Mujeres vs Hombres')\n",
    "plt.xlabel('Entidades')\n",
    "plt.ylabel('Frecuencia')\n",
    "plt.legend(loc='upper right')\n",
    "plt.xlim(0,120)\n",
    "plt.show()"
   ]
  },
  {
   "cell_type": "code",
   "execution_count": 233,
   "metadata": {},
   "outputs": [
    {
     "data": {
      "text/plain": [
       "<matplotlib.axes._subplots.AxesSubplot at 0x7fdd75545100>"
      ]
     },
     "execution_count": 233,
     "metadata": {},
     "output_type": "execute_result"
    },
    {
     "data": {
      "image/png": "[encoded data removed]",
      "text/plain": [
       "<Figure size 576x576 with 2 Axes>"
      ]
     },
     "metadata": {},
     "output_type": "display_data"
    }
   ],
   "source": [
    "# Creamos la matriz de correlación junto con un heatmap\n",
    "import seaborn as sns\n",
    "predictores = ['DIAS_ESTANCIA', 'EDAD','GENERO','PESO','ALTURA', 'MES','ENTIDAD','INDIGENA','MOTIVO_EGRESO']\n",
    "mat_corr = df1_enti_enfer[predictores].corr()\n",
    "sns.set(rc = {'figure.figsize':(8,8)})\n",
    "sns.heatmap(mat_corr, annot = True)"
   ]
  },
  {
   "cell_type": "code",
   "execution_count": 204,
   "metadata": {},
   "outputs": [],
   "source": [
    "# Como la matriz de correlación muestra, vemos que las 2 variables que se relacionan con respecto a los días de \n",
    "# estancia médica son Altura, Peso\n",
    "mx = df_mujeres['ALTURA'].tolist()\n",
    "my = df_mujeres['DIAS_ESTANCIA'].tolist()\n",
    "mx1 = df_mujeres['PESO'].tolist()\n",
    "my1 = df_mujeres['DIAS_ESTANCIA'].tolist()"
   ]
  },
  {
   "cell_type": "code",
   "execution_count": 223,
   "metadata": {},
   "outputs": [
    {
     "data": {
      "image/png": "[encoded data removed]",
      "text/plain": [
       "<Figure size 1080x360 with 2 Axes>"
      ]
     },
     "metadata": {},
     "output_type": "display_data"
    }
   ],
   "source": [
    "plt.figure(figsize=(15, 5))\n",
    "plt.subplot(1, 2, 1)\n",
    "plt.scatter(mx,my,marker= 'o')\n",
    "plt.title('ALTURA VS DÍAS DE ESTANCIA MUJERES')\n",
    "plt.xlabel('ALTURA')\n",
    "plt.ylabel('DÍAS DE ESTANCIA')\n",
    "\n",
    "plt.subplot(1, 2, 2)\n",
    "plt.scatter(mx1,my1,marker= 'o')\n",
    "plt.title('PESO VS DÍAS DE ESTANCIA MUJERES')\n",
    "plt.xlabel('PESO')\n",
    "plt.ylabel('DÍAS DE ESTANCIA')\n",
    "\n",
    "plt.tight_layout()\n",
    "plt.show()"
   ]
  },
  {
   "cell_type": "code",
   "execution_count": 214,
   "metadata": {},
   "outputs": [],
   "source": [
    "# Hacemos lo mismo para los hombres\n",
    "hx = df_hombres['ALTURA'].tolist()\n",
    "hy = df_hombres['DIAS_ESTANCIA'].tolist()\n",
    "hx1 = df_hombres['PESO'].tolist()\n",
    "hy1 = df_hombres['DIAS_ESTANCIA'].tolist()"
   ]
  },
  {
   "cell_type": "code",
   "execution_count": 221,
   "metadata": {},
   "outputs": [
    {
     "data": {
      "image/png": "[encoded data removed]",
      "text/plain": [
       "<Figure size 1080x360 with 2 Axes>"
      ]
     },
     "metadata": {},
     "output_type": "display_data"
    }
   ],
   "source": [
    "plt.figure(figsize=(15, 5))\n",
    "plt.subplot(1, 2, 1)\n",
    "plt.scatter(hx,hy,marker= 'o')\n",
    "plt.title('ALTURA VS DÍAS DE ESTANCIA HOMBRES')\n",
    "plt.xlabel('ALTURA')\n",
    "plt.ylabel('DÍAS DE ESTANCIA')\n",
    "\n",
    "plt.subplot(1, 2, 2)\n",
    "plt.scatter(hx1,hy1,marker= 'o')\n",
    "plt.title('PESO VS DÍAS DE ESTANCIA HOMBRES')\n",
    "plt.xlabel('PESO')\n",
    "plt.ylabel('DÍAS DE ESTANCIA')\n",
    "\n",
    "plt.tight_layout()\n",
    "plt.show()"
   ]
  },
  {
   "cell_type": "markdown",
   "metadata": {},
   "source": [
    "## 4) Modelado de datos"
   ]
  },
  {
   "cell_type": "code",
   "execution_count": 228,
   "metadata": {},
   "outputs": [],
   "source": [
    "# Importamos las librerías para crear los modelos y la seleción de training y test\n",
    "from sklearn.model_selection import train_test_split\n",
    "from sklearn.neighbors import KNeighborsClassifier\n",
    "from sklearn.tree import DecisionTreeClassifier\n",
    "import warnings\n",
    "warnings.filterwarnings('ignore')"
   ]
  },
  {
   "cell_type": "code",
   "execution_count": 225,
   "metadata": {},
   "outputs": [],
   "source": [
    "# Separo lo datos en características y etiquetas\n",
    "caracteristicas = ['DIAS_ESTANCIA', 'EDAD','GENERO', 'PESO', 'ALTURA','ENTIDAD']\n",
    "etiquetas = ['MOTIVO_EGRESO']\n",
    "X = df1_enti_enfer[caracteristicas] \n",
    "y = df1_enti_enfer[etiquetas]"
   ]
  },
  {
   "cell_type": "code",
   "execution_count": 226,
   "metadata": {},
   "outputs": [
    {
     "name": "stdout",
     "output_type": "stream",
     "text": [
      "Son 23915 datos para entrenamiento y 5979 datos para prueba\n"
     ]
    }
   ],
   "source": [
    "#Separo los datos de en train y test de forma aleatoria \n",
    "X_train, X_test, y_train, y_test = train_test_split(X, y, test_size=0.2, shuffle = True)\n",
    "print('Son {} datos para entrenamiento y {} datos para prueba'.format(X_train.shape[0], X_test.shape[0]))"
   ]
  },
  {
   "cell_type": "code",
   "execution_count": 236,
   "metadata": {},
   "outputs": [
    {
     "name": "stdout",
     "output_type": "stream",
     "text": [
      "Precisión Vecinos más Cercanos: 0.9000627221409158\n"
     ]
    }
   ],
   "source": [
    "# Creo el Modelo de Vecinos más Cercanos\n",
    "algoritmo = KNeighborsClassifier(n_neighbors=5)\n",
    "algoritmo.fit(X_train, y_train)\n",
    "Y_pred = algoritmo.predict(X_test)\n",
    "print('Precisión Vecinos más Cercanos: {}'.format(algoritmo.score(X_train, y_train)))"
   ]
  },
  {
   "cell_type": "code",
   "execution_count": 230,
   "metadata": {},
   "outputs": [
    {
     "name": "stdout",
     "output_type": "stream",
     "text": [
      "Precisión Árboles de Decisión Clasificación: 0.9984528538574117\n"
     ]
    }
   ],
   "source": [
    "# Creo el Modelo de Árboles de Decisión Clasificación\n",
    "algoritmo = DecisionTreeClassifier()\n",
    "algoritmo.fit(X_train, y_train)\n",
    "Y_pred = algoritmo.predict(X_test)\n",
    "print('Precisión Árboles de Decisión Clasificación: {}'.format(algoritmo.score(X_train, y_train)))"
   ]
  },
  {
   "cell_type": "markdown",
   "metadata": {},
   "source": [
    "#### El algoritmo de árboles de decisión tiene una precisión más elevada que el el de k vecinos cercanos. "
   ]
  },
  {
   "cell_type": "code",
   "execution_count": null,
   "metadata": {},
   "outputs": [],
   "source": []
  }
 ],
 "metadata": {
  "kernelspec": {
   "display_name": "Python 3",
   "language": "python",
   "name": "python3"
  },
  "language_info": {
   "codemirror_mode": {
    "name": "ipython",
    "version": 3
   },
   "file_extension": ".py",
   "mimetype": "text/x-python",
   "name": "python",
   "nbconvert_exporter": "python",
   "pygments_lexer": "ipython3",
   "version": "3.8.3"
  }
 },
 "nbformat": 4,
 "nbformat_minor": 4
}
