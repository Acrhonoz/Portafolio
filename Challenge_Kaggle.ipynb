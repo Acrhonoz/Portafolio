{
 "cells": [
  {
   "cell_type": "markdown",
   "metadata": {},
   "source": [
    "# Question 1"
   ]
  },
  {
   "cell_type": "markdown",
   "metadata": {},
   "source": [
    "### 1.1 Plot an histogram of the balance amount for all the customers."
   ]
  },
  {
   "cell_type": "code",
   "execution_count": 382,
   "metadata": {},
   "outputs": [],
   "source": [
    "# Importamos las librerías\n",
    "# Here I only import the libraries for exploratory analysis of the dataframe\n",
    "import pandas as pd\n",
    "import matplotlib.pyplot as plt\n",
    "import warnings\n",
    "warnings.filterwarnings('ignore')"
   ]
  },
  {
   "cell_type": "code",
   "execution_count": 212,
   "metadata": {},
   "outputs": [],
   "source": [
    "# I read the dataset and store it in a variable called \"stori\"\n",
    "# The dataset that I previously loaded I normalized in excel and \n",
    "# I took the liberty of doing it since its volume is manageable\n",
    "stori = pd.read_csv('/Users/acrhonoz./Desktop/SQLite/stori_2021.csv')"
   ]
  },
  {
   "cell_type": "code",
   "execution_count": 215,
   "metadata": {},
   "outputs": [
    {
     "data": {
      "text/html": [
       "<div>\n",
       "<style scoped>\n",
       "    .dataframe tbody tr th:only-of-type {\n",
       "        vertical-align: middle;\n",
       "    }\n",
       "\n",
       "    .dataframe tbody tr th {\n",
       "        vertical-align: top;\n",
       "    }\n",
       "\n",
       "    .dataframe thead th {\n",
       "        text-align: right;\n",
       "    }\n",
       "</style>\n",
       "<table border=\"1\" class=\"dataframe\">\n",
       "  <thead>\n",
       "    <tr style=\"text-align: right;\">\n",
       "      <th></th>\n",
       "      <th>cust_id</th>\n",
       "      <th>cust_id.1</th>\n",
       "      <th>year_activated</th>\n",
       "      <th>month_activated</th>\n",
       "      <th>activated_date</th>\n",
       "      <th>activated_date.1</th>\n",
       "      <th>year_last_payment</th>\n",
       "      <th>month_last_payment</th>\n",
       "      <th>last_payment_date</th>\n",
       "      <th>last_payment_date.1</th>\n",
       "      <th>...</th>\n",
       "      <th>purchases_installments_frequency</th>\n",
       "      <th>cash_advance_frequency</th>\n",
       "      <th>cash_advance_trx</th>\n",
       "      <th>purchases_trx</th>\n",
       "      <th>credit_limit</th>\n",
       "      <th>payments</th>\n",
       "      <th>minimum_payments</th>\n",
       "      <th>prc_full_payment</th>\n",
       "      <th>tenure</th>\n",
       "      <th>fraud</th>\n",
       "    </tr>\n",
       "  </thead>\n",
       "  <tbody>\n",
       "    <tr>\n",
       "      <th>0</th>\n",
       "      <td>10001</td>\n",
       "      <td>C10001</td>\n",
       "      <td>2019</td>\n",
       "      <td>10</td>\n",
       "      <td>20191006</td>\n",
       "      <td>06/10/2019</td>\n",
       "      <td>2020</td>\n",
       "      <td>09</td>\n",
       "      <td>20200909</td>\n",
       "      <td>09/09/2020</td>\n",
       "      <td>...</td>\n",
       "      <td>0.083333</td>\n",
       "      <td>0.00</td>\n",
       "      <td>0</td>\n",
       "      <td>2</td>\n",
       "      <td>1000.0</td>\n",
       "      <td>201.802084</td>\n",
       "      <td>139.509787</td>\n",
       "      <td>0.000000</td>\n",
       "      <td>12</td>\n",
       "      <td>0</td>\n",
       "    </tr>\n",
       "    <tr>\n",
       "      <th>1</th>\n",
       "      <td>10002</td>\n",
       "      <td>C10002</td>\n",
       "      <td>2019</td>\n",
       "      <td>10</td>\n",
       "      <td>20191006</td>\n",
       "      <td>06/10/2019</td>\n",
       "      <td>2020</td>\n",
       "      <td>07</td>\n",
       "      <td>20200704</td>\n",
       "      <td>04/07/2020</td>\n",
       "      <td>...</td>\n",
       "      <td>0.000000</td>\n",
       "      <td>0.25</td>\n",
       "      <td>4</td>\n",
       "      <td>0</td>\n",
       "      <td>7000.0</td>\n",
       "      <td>4103.032597</td>\n",
       "      <td>1072.340217</td>\n",
       "      <td>0.222222</td>\n",
       "      <td>12</td>\n",
       "      <td>0</td>\n",
       "    </tr>\n",
       "  </tbody>\n",
       "</table>\n",
       "<p>2 rows × 28 columns</p>\n",
       "</div>"
      ],
      "text/plain": [
       "   cust_id cust_id.1 year_activated month_activated activated_date  \\\n",
       "0    10001    C10001           2019              10       20191006   \n",
       "1    10002    C10002           2019              10       20191006   \n",
       "\n",
       "  activated_date.1 year_last_payment month_last_payment last_payment_date  \\\n",
       "0       06/10/2019              2020                 09          20200909   \n",
       "1       06/10/2019              2020                 07          20200704   \n",
       "\n",
       "  last_payment_date.1  ...  purchases_installments_frequency  \\\n",
       "0          09/09/2020  ...                          0.083333   \n",
       "1          04/07/2020  ...                          0.000000   \n",
       "\n",
       "   cash_advance_frequency  cash_advance_trx  purchases_trx  credit_limit  \\\n",
       "0                    0.00                 0              2        1000.0   \n",
       "1                    0.25                 4              0        7000.0   \n",
       "\n",
       "      payments  minimum_payments  prc_full_payment  tenure  fraud  \n",
       "0   201.802084        139.509787          0.000000      12      0  \n",
       "1  4103.032597       1072.340217          0.222222      12      0  \n",
       "\n",
       "[2 rows x 28 columns]"
      ]
     },
     "execution_count": 215,
     "metadata": {},
     "output_type": "execute_result"
    }
   ],
   "source": [
    "stori.head(2)"
   ]
  },
  {
   "cell_type": "code",
   "execution_count": 217,
   "metadata": {},
   "outputs": [
    {
     "name": "stdout",
     "output_type": "stream",
     "text": [
      "<class 'pandas.core.frame.DataFrame'>\n",
      "RangeIndex: 8950 entries, 0 to 8949\n",
      "Data columns (total 28 columns):\n",
      " #   Column                            Non-Null Count  Dtype  \n",
      "---  ------                            --------------  -----  \n",
      " 0   cust_id                           8950 non-null   int64  \n",
      " 1   cust_id.1                         8950 non-null   object \n",
      " 2   year_activated                    8950 non-null   object \n",
      " 3   month_activated                   8950 non-null   object \n",
      " 4   activated_date                    8950 non-null   object \n",
      " 5   activated_date.1                  8950 non-null   object \n",
      " 6   year_last_payment                 8950 non-null   object \n",
      " 7   month_last_payment                8950 non-null   object \n",
      " 8   last_payment_date                 8950 non-null   object \n",
      " 9   last_payment_date.1               8950 non-null   object \n",
      " 10  balance                           8950 non-null   float64\n",
      " 11  balance_frequency                 8950 non-null   float64\n",
      " 12  purchases                         8950 non-null   float64\n",
      " 13  oneoff_purchases                  8950 non-null   float64\n",
      " 14  installments_purchases            8950 non-null   float64\n",
      " 15  cash_advance                      8950 non-null   float64\n",
      " 16  purchases_frequency               8950 non-null   float64\n",
      " 17  oneoff_purchases_frequency        8950 non-null   float64\n",
      " 18  purchases_installments_frequency  8950 non-null   float64\n",
      " 19  cash_advance_frequency            8950 non-null   float64\n",
      " 20  cash_advance_trx                  8950 non-null   int64  \n",
      " 21  purchases_trx                     8950 non-null   int64  \n",
      " 22  credit_limit                      8950 non-null   float64\n",
      " 23  payments                          8950 non-null   float64\n",
      " 24  minimum_payments                  8950 non-null   float64\n",
      " 25  prc_full_payment                  8950 non-null   float64\n",
      " 26  tenure                            8950 non-null   int64  \n",
      " 27  fraud                             8950 non-null   int64  \n",
      "dtypes: float64(14), int64(5), object(9)\n",
      "memory usage: 1.9+ MB\n"
     ]
    }
   ],
   "source": [
    "# Obtenemos la información general del dataframe\n",
    "# I get the general information of the dataset variables\n",
    "stori.info()"
   ]
  },
  {
   "cell_type": "code",
   "execution_count": 236,
   "metadata": {},
   "outputs": [],
   "source": [
    "# Filtramos para mostrar los regitros que tienen un balances > 0\n",
    "# We sign to bring those balances that are greater than 0\n",
    "balance_mayor_0 = stori.balance > 0\n",
    "stori_balance = stori[balance_mayor_0]"
   ]
  },
  {
   "cell_type": "code",
   "execution_count": 237,
   "metadata": {},
   "outputs": [
    {
     "data": {
      "text/plain": [
       "(8868, 28)"
      ]
     },
     "execution_count": 237,
     "metadata": {},
     "output_type": "execute_result"
    }
   ],
   "source": [
    "stori_balance.shape"
   ]
  },
  {
   "cell_type": "code",
   "execution_count": 243,
   "metadata": {},
   "outputs": [],
   "source": [
    "# Para obtener el histograma se agrupa por cust_id y se suma por el campo balance para cada cliente\n",
    "# To obtain the histogram, it is grouped by cust_id and added by the balance field for each customer\n",
    "his_balance = pd.DataFrame(stori_balance.groupby(['cust_id.1'])['balance'].sum())"
   ]
  },
  {
   "cell_type": "code",
   "execution_count": 244,
   "metadata": {},
   "outputs": [
    {
     "data": {
      "text/html": [
       "<div>\n",
       "<style scoped>\n",
       "    .dataframe tbody tr th:only-of-type {\n",
       "        vertical-align: middle;\n",
       "    }\n",
       "\n",
       "    .dataframe tbody tr th {\n",
       "        vertical-align: top;\n",
       "    }\n",
       "\n",
       "    .dataframe thead th {\n",
       "        text-align: right;\n",
       "    }\n",
       "</style>\n",
       "<table border=\"1\" class=\"dataframe\">\n",
       "  <thead>\n",
       "    <tr style=\"text-align: right;\">\n",
       "      <th></th>\n",
       "      <th>balance</th>\n",
       "    </tr>\n",
       "    <tr>\n",
       "      <th>cust_id.1</th>\n",
       "      <th></th>\n",
       "    </tr>\n",
       "  </thead>\n",
       "  <tbody>\n",
       "    <tr>\n",
       "      <th>C10001</th>\n",
       "      <td>40.900749</td>\n",
       "    </tr>\n",
       "    <tr>\n",
       "      <th>C10002</th>\n",
       "      <td>3202.467416</td>\n",
       "    </tr>\n",
       "    <tr>\n",
       "      <th>C10003</th>\n",
       "      <td>2495.148862</td>\n",
       "    </tr>\n",
       "    <tr>\n",
       "      <th>C10004</th>\n",
       "      <td>1666.670542</td>\n",
       "    </tr>\n",
       "    <tr>\n",
       "      <th>C10005</th>\n",
       "      <td>817.714335</td>\n",
       "    </tr>\n",
       "    <tr>\n",
       "      <th>...</th>\n",
       "      <td>...</td>\n",
       "    </tr>\n",
       "    <tr>\n",
       "      <th>C19186</th>\n",
       "      <td>28.493517</td>\n",
       "    </tr>\n",
       "    <tr>\n",
       "      <th>C19187</th>\n",
       "      <td>19.183215</td>\n",
       "    </tr>\n",
       "    <tr>\n",
       "      <th>C19188</th>\n",
       "      <td>23.398673</td>\n",
       "    </tr>\n",
       "    <tr>\n",
       "      <th>C19189</th>\n",
       "      <td>13.457564</td>\n",
       "    </tr>\n",
       "    <tr>\n",
       "      <th>C19190</th>\n",
       "      <td>372.708075</td>\n",
       "    </tr>\n",
       "  </tbody>\n",
       "</table>\n",
       "<p>8868 rows × 1 columns</p>\n",
       "</div>"
      ],
      "text/plain": [
       "               balance\n",
       "cust_id.1             \n",
       "C10001       40.900749\n",
       "C10002     3202.467416\n",
       "C10003     2495.148862\n",
       "C10004     1666.670542\n",
       "C10005      817.714335\n",
       "...                ...\n",
       "C19186       28.493517\n",
       "C19187       19.183215\n",
       "C19188       23.398673\n",
       "C19189       13.457564\n",
       "C19190      372.708075\n",
       "\n",
       "[8868 rows x 1 columns]"
      ]
     },
     "execution_count": 244,
     "metadata": {},
     "output_type": "execute_result"
    }
   ],
   "source": [
    "his_balance"
   ]
  },
  {
   "cell_type": "code",
   "execution_count": 245,
   "metadata": {},
   "outputs": [],
   "source": [
    "# Transformamos el campo \"balance\" a una lista \n",
    "# We transform the field \"balance\" to a list\n",
    "balances = his_balance['balance'].tolist()"
   ]
  },
  {
   "cell_type": "code",
   "execution_count": 246,
   "metadata": {},
   "outputs": [
    {
     "data": {
      "text/plain": [
       "(19043.13856, 0.000199)"
      ]
     },
     "execution_count": 246,
     "metadata": {},
     "output_type": "execute_result"
    }
   ],
   "source": [
    "max(balances), min(balances)"
   ]
  },
  {
   "cell_type": "code",
   "execution_count": 257,
   "metadata": {},
   "outputs": [
    {
     "data": {
      "image/png": "[encoded data removed]",
      "text/plain": [
       "<Figure size 432x288 with 1 Axes>"
      ]
     },
     "metadata": {
      "needs_background": "light"
     },
     "output_type": "display_data"
    },
    {
     "data": {
      "text/plain": [
       "<Figure size 432x288 with 0 Axes>"
      ]
     },
     "metadata": {},
     "output_type": "display_data"
    }
   ],
   "source": [
    "# Graficamos el Histograma\n",
    "# We plot the Histogram\n",
    "plt.hist(balances, bins = 15)\n",
    "plt.xlabel(\"Total_Balance\")\n",
    "plt.ylabel(\"Frequency_Customer\")\n",
    "plt.title(\"Histograma de Total Balance\")\n",
    "plt.grid(True)\n",
    "plt.show()\n",
    "plt.clf()"
   ]
  },
  {
   "cell_type": "markdown",
   "metadata": {},
   "source": [
    "### 1.2 Report any structure you find and any hypotheses you have about that structure."
   ]
  },
  {
   "cell_type": "markdown",
   "metadata": {},
   "source": [
    "Supongamos que con \"estructura\" se refiere al tipo de de base de datos que se tiene. Si éste es el caso, la base de datos se normalizó en excel, se quitaron valores nulos en campos string, se rellenaron valores vacíos en campos numéricos y string, y se trataron los campos de fecha, para tenerlas en orden sin caracteres especiales, así mismo se garegaron campos de extracción del mes y el año de las fechas.  "
   ]
  },
  {
   "cell_type": "markdown",
   "metadata": {},
   "source": [
    "Suppose that with \"structure\" you mean the type of database you have. If this is the case, the database was normalized in excel, null values ​​were removed in string fields, empty values ​​were filled in numeric and string fields, and the date fields were treated, to have them in order without special characters, like this The same extraction fields for the month and year of the dates were provided."
   ]
  },
  {
   "cell_type": "markdown",
   "metadata": {},
   "source": [
    "### Report mean and median balance, grouped by year and month of ​activated_date.​"
   ]
  },
  {
   "cell_type": "code",
   "execution_count": 260,
   "metadata": {},
   "outputs": [],
   "source": [
    "# Filtramos el campo \"year_activated\" para que muestre registros conocidos\n",
    "# We filter the \"year_activated\" field to show known records\n",
    "no_desco = stori_balance['year_activated'] != 'Desconocido' "
   ]
  },
  {
   "cell_type": "code",
   "execution_count": 261,
   "metadata": {},
   "outputs": [],
   "source": [
    "# aplicamos el filtro a el dataset\n",
    "# we apply the filter to the dataset\n",
    "stori_balance_sin_des = stori_balance[no_desco]"
   ]
  },
  {
   "cell_type": "code",
   "execution_count": 269,
   "metadata": {},
   "outputs": [],
   "source": [
    "# Creamos la tabla consolidada de año de activación y mes de activacio del balance promedio\n",
    "# We create the consolidated table of the year of activation and month of activation of the mean balance\n",
    "avg_balance = pd.DataFrame(stori_balance_sin_des.groupby(['year_activated', 'month_activated'])['balance'].mean())"
   ]
  },
  {
   "cell_type": "code",
   "execution_count": 273,
   "metadata": {},
   "outputs": [
    {
     "data": {
      "text/html": [
       "<div>\n",
       "<style scoped>\n",
       "    .dataframe tbody tr th:only-of-type {\n",
       "        vertical-align: middle;\n",
       "    }\n",
       "\n",
       "    .dataframe tbody tr th {\n",
       "        vertical-align: top;\n",
       "    }\n",
       "\n",
       "    .dataframe thead th {\n",
       "        text-align: right;\n",
       "    }\n",
       "</style>\n",
       "<table border=\"1\" class=\"dataframe\">\n",
       "  <thead>\n",
       "    <tr style=\"text-align: right;\">\n",
       "      <th></th>\n",
       "      <th></th>\n",
       "      <th>balance</th>\n",
       "    </tr>\n",
       "    <tr>\n",
       "      <th>year_activated</th>\n",
       "      <th>month_activated</th>\n",
       "      <th></th>\n",
       "    </tr>\n",
       "  </thead>\n",
       "  <tbody>\n",
       "    <tr>\n",
       "      <th rowspan=\"3\" valign=\"top\">2019</th>\n",
       "      <th>10</th>\n",
       "      <td>2491.473251</td>\n",
       "    </tr>\n",
       "    <tr>\n",
       "      <th>11</th>\n",
       "      <td>1858.444598</td>\n",
       "    </tr>\n",
       "    <tr>\n",
       "      <th>12</th>\n",
       "      <td>2032.873479</td>\n",
       "    </tr>\n",
       "    <tr>\n",
       "      <th rowspan=\"7\" valign=\"top\">2020</th>\n",
       "      <th>01</th>\n",
       "      <td>1867.166099</td>\n",
       "    </tr>\n",
       "    <tr>\n",
       "      <th>02</th>\n",
       "      <td>1759.627448</td>\n",
       "    </tr>\n",
       "    <tr>\n",
       "      <th>03</th>\n",
       "      <td>1571.911727</td>\n",
       "    </tr>\n",
       "    <tr>\n",
       "      <th>04</th>\n",
       "      <td>1498.473739</td>\n",
       "    </tr>\n",
       "    <tr>\n",
       "      <th>05</th>\n",
       "      <td>1226.174473</td>\n",
       "    </tr>\n",
       "    <tr>\n",
       "      <th>06</th>\n",
       "      <td>956.412396</td>\n",
       "    </tr>\n",
       "    <tr>\n",
       "      <th>07</th>\n",
       "      <td>657.385963</td>\n",
       "    </tr>\n",
       "  </tbody>\n",
       "</table>\n",
       "</div>"
      ],
      "text/plain": [
       "                                    balance\n",
       "year_activated month_activated             \n",
       "2019           10               2491.473251\n",
       "               11               1858.444598\n",
       "               12               2032.873479\n",
       "2020           01               1867.166099\n",
       "               02               1759.627448\n",
       "               03               1571.911727\n",
       "               04               1498.473739\n",
       "               05               1226.174473\n",
       "               06                956.412396\n",
       "               07                657.385963"
      ]
     },
     "execution_count": 273,
     "metadata": {},
     "output_type": "execute_result"
    }
   ],
   "source": [
    "avg_balance"
   ]
  },
  {
   "cell_type": "code",
   "execution_count": 275,
   "metadata": {},
   "outputs": [],
   "source": [
    "# Creamos la tabla consolidad del año de activación y mes de activación de la media\n",
    "# We create the consolidation table of the year of activation and month of activation of the median\n",
    "median_balance = pd.DataFrame(stori_balance_sin_des.groupby(['year_activated', 'month_activated'])['balance'].median())"
   ]
  },
  {
   "cell_type": "code",
   "execution_count": 276,
   "metadata": {},
   "outputs": [
    {
     "data": {
      "text/html": [
       "<div>\n",
       "<style scoped>\n",
       "    .dataframe tbody tr th:only-of-type {\n",
       "        vertical-align: middle;\n",
       "    }\n",
       "\n",
       "    .dataframe tbody tr th {\n",
       "        vertical-align: top;\n",
       "    }\n",
       "\n",
       "    .dataframe thead th {\n",
       "        text-align: right;\n",
       "    }\n",
       "</style>\n",
       "<table border=\"1\" class=\"dataframe\">\n",
       "  <thead>\n",
       "    <tr style=\"text-align: right;\">\n",
       "      <th></th>\n",
       "      <th></th>\n",
       "      <th>balance</th>\n",
       "    </tr>\n",
       "    <tr>\n",
       "      <th>year_activated</th>\n",
       "      <th>month_activated</th>\n",
       "      <th></th>\n",
       "    </tr>\n",
       "  </thead>\n",
       "  <tbody>\n",
       "    <tr>\n",
       "      <th rowspan=\"3\" valign=\"top\">2019</th>\n",
       "      <th>10</th>\n",
       "      <td>1527.539238</td>\n",
       "    </tr>\n",
       "    <tr>\n",
       "      <th>11</th>\n",
       "      <td>1094.221693</td>\n",
       "    </tr>\n",
       "    <tr>\n",
       "      <th>12</th>\n",
       "      <td>1177.946847</td>\n",
       "    </tr>\n",
       "    <tr>\n",
       "      <th rowspan=\"7\" valign=\"top\">2020</th>\n",
       "      <th>01</th>\n",
       "      <td>1182.045732</td>\n",
       "    </tr>\n",
       "    <tr>\n",
       "      <th>02</th>\n",
       "      <td>1005.204051</td>\n",
       "    </tr>\n",
       "    <tr>\n",
       "      <th>03</th>\n",
       "      <td>862.942005</td>\n",
       "    </tr>\n",
       "    <tr>\n",
       "      <th>04</th>\n",
       "      <td>927.294609</td>\n",
       "    </tr>\n",
       "    <tr>\n",
       "      <th>05</th>\n",
       "      <td>748.352082</td>\n",
       "    </tr>\n",
       "    <tr>\n",
       "      <th>06</th>\n",
       "      <td>489.488586</td>\n",
       "    </tr>\n",
       "    <tr>\n",
       "      <th>07</th>\n",
       "      <td>226.723822</td>\n",
       "    </tr>\n",
       "  </tbody>\n",
       "</table>\n",
       "</div>"
      ],
      "text/plain": [
       "                                    balance\n",
       "year_activated month_activated             \n",
       "2019           10               1527.539238\n",
       "               11               1094.221693\n",
       "               12               1177.946847\n",
       "2020           01               1182.045732\n",
       "               02               1005.204051\n",
       "               03                862.942005\n",
       "               04                927.294609\n",
       "               05                748.352082\n",
       "               06                489.488586\n",
       "               07                226.723822"
      ]
     },
     "execution_count": 276,
     "metadata": {},
     "output_type": "execute_result"
    }
   ],
   "source": [
    "median_balance"
   ]
  },
  {
   "cell_type": "markdown",
   "metadata": {},
   "source": [
    "# Question 2"
   ]
  },
  {
   "cell_type": "markdown",
   "metadata": {},
   "source": [
    "### 2.1 Report in a table the following information for customers who activated their account and made their last payment during 2020: cust_id (excluding letters), activated_date (in format YYYY-MM), last_payment_date (in format YYYY-MM-DD), cash_advance, credit_limit, and a calculated field of cash_advance as a percentage of credit_limit.\n",
    " "
   ]
  },
  {
   "cell_type": "code",
   "execution_count": 277,
   "metadata": {},
   "outputs": [
    {
     "name": "stdout",
     "output_type": "stream",
     "text": [
      "<class 'pandas.core.frame.DataFrame'>\n",
      "Int64Index: 8855 entries, 0 to 8949\n",
      "Data columns (total 28 columns):\n",
      " #   Column                            Non-Null Count  Dtype  \n",
      "---  ------                            --------------  -----  \n",
      " 0   cust_id                           8855 non-null   int64  \n",
      " 1   cust_id.1                         8855 non-null   object \n",
      " 2   year_activated                    8855 non-null   object \n",
      " 3   month_activated                   8855 non-null   object \n",
      " 4   activated_date                    8855 non-null   object \n",
      " 5   activated_date.1                  8855 non-null   object \n",
      " 6   year_last_payment                 8855 non-null   object \n",
      " 7   month_last_payment                8855 non-null   object \n",
      " 8   last_payment_date                 8855 non-null   object \n",
      " 9   last_payment_date.1               8855 non-null   object \n",
      " 10  balance                           8855 non-null   float64\n",
      " 11  balance_frequency                 8855 non-null   float64\n",
      " 12  purchases                         8855 non-null   float64\n",
      " 13  oneoff_purchases                  8855 non-null   float64\n",
      " 14  installments_purchases            8855 non-null   float64\n",
      " 15  cash_advance                      8855 non-null   float64\n",
      " 16  purchases_frequency               8855 non-null   float64\n",
      " 17  oneoff_purchases_frequency        8855 non-null   float64\n",
      " 18  purchases_installments_frequency  8855 non-null   float64\n",
      " 19  cash_advance_frequency            8855 non-null   float64\n",
      " 20  cash_advance_trx                  8855 non-null   int64  \n",
      " 21  purchases_trx                     8855 non-null   int64  \n",
      " 22  credit_limit                      8855 non-null   float64\n",
      " 23  payments                          8855 non-null   float64\n",
      " 24  minimum_payments                  8855 non-null   float64\n",
      " 25  prc_full_payment                  8855 non-null   float64\n",
      " 26  tenure                            8855 non-null   int64  \n",
      " 27  fraud                             8855 non-null   int64  \n",
      "dtypes: float64(14), int64(5), object(9)\n",
      "memory usage: 2.0+ MB\n"
     ]
    }
   ],
   "source": [
    "stori_balance_sin_des.info()"
   ]
  },
  {
   "cell_type": "code",
   "execution_count": 278,
   "metadata": {},
   "outputs": [
    {
     "data": {
      "text/html": [
       "<div>\n",
       "<style scoped>\n",
       "    .dataframe tbody tr th:only-of-type {\n",
       "        vertical-align: middle;\n",
       "    }\n",
       "\n",
       "    .dataframe tbody tr th {\n",
       "        vertical-align: top;\n",
       "    }\n",
       "\n",
       "    .dataframe thead th {\n",
       "        text-align: right;\n",
       "    }\n",
       "</style>\n",
       "<table border=\"1\" class=\"dataframe\">\n",
       "  <thead>\n",
       "    <tr style=\"text-align: right;\">\n",
       "      <th></th>\n",
       "      <th>cust_id</th>\n",
       "      <th>cust_id.1</th>\n",
       "      <th>year_activated</th>\n",
       "      <th>month_activated</th>\n",
       "      <th>activated_date</th>\n",
       "      <th>activated_date.1</th>\n",
       "      <th>year_last_payment</th>\n",
       "      <th>month_last_payment</th>\n",
       "      <th>last_payment_date</th>\n",
       "      <th>last_payment_date.1</th>\n",
       "      <th>...</th>\n",
       "      <th>purchases_installments_frequency</th>\n",
       "      <th>cash_advance_frequency</th>\n",
       "      <th>cash_advance_trx</th>\n",
       "      <th>purchases_trx</th>\n",
       "      <th>credit_limit</th>\n",
       "      <th>payments</th>\n",
       "      <th>minimum_payments</th>\n",
       "      <th>prc_full_payment</th>\n",
       "      <th>tenure</th>\n",
       "      <th>fraud</th>\n",
       "    </tr>\n",
       "  </thead>\n",
       "  <tbody>\n",
       "    <tr>\n",
       "      <th>0</th>\n",
       "      <td>10001</td>\n",
       "      <td>C10001</td>\n",
       "      <td>2019</td>\n",
       "      <td>10</td>\n",
       "      <td>20191006</td>\n",
       "      <td>06/10/2019</td>\n",
       "      <td>2020</td>\n",
       "      <td>09</td>\n",
       "      <td>20200909</td>\n",
       "      <td>09/09/2020</td>\n",
       "      <td>...</td>\n",
       "      <td>0.083333</td>\n",
       "      <td>0.000000</td>\n",
       "      <td>0</td>\n",
       "      <td>2</td>\n",
       "      <td>1000.0</td>\n",
       "      <td>201.802084</td>\n",
       "      <td>139.509787</td>\n",
       "      <td>0.000000</td>\n",
       "      <td>12</td>\n",
       "      <td>0</td>\n",
       "    </tr>\n",
       "    <tr>\n",
       "      <th>1</th>\n",
       "      <td>10002</td>\n",
       "      <td>C10002</td>\n",
       "      <td>2019</td>\n",
       "      <td>10</td>\n",
       "      <td>20191006</td>\n",
       "      <td>06/10/2019</td>\n",
       "      <td>2020</td>\n",
       "      <td>07</td>\n",
       "      <td>20200704</td>\n",
       "      <td>04/07/2020</td>\n",
       "      <td>...</td>\n",
       "      <td>0.000000</td>\n",
       "      <td>0.250000</td>\n",
       "      <td>4</td>\n",
       "      <td>0</td>\n",
       "      <td>7000.0</td>\n",
       "      <td>4103.032597</td>\n",
       "      <td>1072.340217</td>\n",
       "      <td>0.222222</td>\n",
       "      <td>12</td>\n",
       "      <td>0</td>\n",
       "    </tr>\n",
       "    <tr>\n",
       "      <th>2</th>\n",
       "      <td>10003</td>\n",
       "      <td>C10003</td>\n",
       "      <td>2019</td>\n",
       "      <td>10</td>\n",
       "      <td>20191006</td>\n",
       "      <td>06/10/2019</td>\n",
       "      <td>2020</td>\n",
       "      <td>09</td>\n",
       "      <td>20200917</td>\n",
       "      <td>17/09/2020</td>\n",
       "      <td>...</td>\n",
       "      <td>0.000000</td>\n",
       "      <td>0.000000</td>\n",
       "      <td>0</td>\n",
       "      <td>12</td>\n",
       "      <td>7500.0</td>\n",
       "      <td>622.066742</td>\n",
       "      <td>627.284787</td>\n",
       "      <td>0.000000</td>\n",
       "      <td>12</td>\n",
       "      <td>0</td>\n",
       "    </tr>\n",
       "    <tr>\n",
       "      <th>3</th>\n",
       "      <td>10004</td>\n",
       "      <td>C10004</td>\n",
       "      <td>2019</td>\n",
       "      <td>10</td>\n",
       "      <td>20191006</td>\n",
       "      <td>06/10/2019</td>\n",
       "      <td>2020</td>\n",
       "      <td>08</td>\n",
       "      <td>20200824</td>\n",
       "      <td>24/08/2020</td>\n",
       "      <td>...</td>\n",
       "      <td>0.000000</td>\n",
       "      <td>0.083333</td>\n",
       "      <td>1</td>\n",
       "      <td>1</td>\n",
       "      <td>7500.0</td>\n",
       "      <td>0.000000</td>\n",
       "      <td>0.000000</td>\n",
       "      <td>0.000000</td>\n",
       "      <td>12</td>\n",
       "      <td>0</td>\n",
       "    </tr>\n",
       "    <tr>\n",
       "      <th>4</th>\n",
       "      <td>10005</td>\n",
       "      <td>C10005</td>\n",
       "      <td>2019</td>\n",
       "      <td>10</td>\n",
       "      <td>20191006</td>\n",
       "      <td>06/10/2019</td>\n",
       "      <td>2020</td>\n",
       "      <td>10</td>\n",
       "      <td>20201020</td>\n",
       "      <td>20/10/2020</td>\n",
       "      <td>...</td>\n",
       "      <td>0.000000</td>\n",
       "      <td>0.000000</td>\n",
       "      <td>0</td>\n",
       "      <td>1</td>\n",
       "      <td>1200.0</td>\n",
       "      <td>678.334763</td>\n",
       "      <td>244.791237</td>\n",
       "      <td>0.000000</td>\n",
       "      <td>12</td>\n",
       "      <td>0</td>\n",
       "    </tr>\n",
       "  </tbody>\n",
       "</table>\n",
       "<p>5 rows × 28 columns</p>\n",
       "</div>"
      ],
      "text/plain": [
       "   cust_id cust_id.1 year_activated month_activated activated_date  \\\n",
       "0    10001    C10001           2019              10       20191006   \n",
       "1    10002    C10002           2019              10       20191006   \n",
       "2    10003    C10003           2019              10       20191006   \n",
       "3    10004    C10004           2019              10       20191006   \n",
       "4    10005    C10005           2019              10       20191006   \n",
       "\n",
       "  activated_date.1 year_last_payment month_last_payment last_payment_date  \\\n",
       "0       06/10/2019              2020                 09          20200909   \n",
       "1       06/10/2019              2020                 07          20200704   \n",
       "2       06/10/2019              2020                 09          20200917   \n",
       "3       06/10/2019              2020                 08          20200824   \n",
       "4       06/10/2019              2020                 10          20201020   \n",
       "\n",
       "  last_payment_date.1  ...  purchases_installments_frequency  \\\n",
       "0          09/09/2020  ...                          0.083333   \n",
       "1          04/07/2020  ...                          0.000000   \n",
       "2          17/09/2020  ...                          0.000000   \n",
       "3          24/08/2020  ...                          0.000000   \n",
       "4          20/10/2020  ...                          0.000000   \n",
       "\n",
       "   cash_advance_frequency  cash_advance_trx  purchases_trx  credit_limit  \\\n",
       "0                0.000000                 0              2        1000.0   \n",
       "1                0.250000                 4              0        7000.0   \n",
       "2                0.000000                 0             12        7500.0   \n",
       "3                0.083333                 1              1        7500.0   \n",
       "4                0.000000                 0              1        1200.0   \n",
       "\n",
       "      payments  minimum_payments  prc_full_payment  tenure  fraud  \n",
       "0   201.802084        139.509787          0.000000      12      0  \n",
       "1  4103.032597       1072.340217          0.222222      12      0  \n",
       "2   622.066742        627.284787          0.000000      12      0  \n",
       "3     0.000000          0.000000          0.000000      12      0  \n",
       "4   678.334763        244.791237          0.000000      12      0  \n",
       "\n",
       "[5 rows x 28 columns]"
      ]
     },
     "execution_count": 278,
     "metadata": {},
     "output_type": "execute_result"
    }
   ],
   "source": [
    "stori_balance_sin_des.head()"
   ]
  },
  {
   "cell_type": "code",
   "execution_count": 288,
   "metadata": {},
   "outputs": [],
   "source": [
    "# Creamos una copia del dataset con el que se trabajó originalmente para no modificarlo\n",
    "# We create a copy of the dataset with which it was originally worked so as not to modify it\n",
    "stori_balance_new = stori_balance_sin_des.copy(deep = True)"
   ]
  },
  {
   "cell_type": "code",
   "execution_count": 289,
   "metadata": {},
   "outputs": [],
   "source": [
    "# Creamos un nuevo campo en la copia del dataset llamado \"activated_date\" con el formato pedido en el ejercicio\n",
    "# We create a new field in the copy of the dataset called \"activated_date\" with the format requested in the exercise\n",
    "stori_balance_new['activated_date_f'] = stori_balance_new['year_activated'] + \"-\" + stori_balance_new['month_activated']"
   ]
  },
  {
   "cell_type": "code",
   "execution_count": 290,
   "metadata": {},
   "outputs": [
    {
     "data": {
      "text/html": [
       "<div>\n",
       "<style scoped>\n",
       "    .dataframe tbody tr th:only-of-type {\n",
       "        vertical-align: middle;\n",
       "    }\n",
       "\n",
       "    .dataframe tbody tr th {\n",
       "        vertical-align: top;\n",
       "    }\n",
       "\n",
       "    .dataframe thead th {\n",
       "        text-align: right;\n",
       "    }\n",
       "</style>\n",
       "<table border=\"1\" class=\"dataframe\">\n",
       "  <thead>\n",
       "    <tr style=\"text-align: right;\">\n",
       "      <th></th>\n",
       "      <th>cust_id</th>\n",
       "      <th>cust_id.1</th>\n",
       "      <th>year_activated</th>\n",
       "      <th>month_activated</th>\n",
       "      <th>activated_date</th>\n",
       "      <th>activated_date.1</th>\n",
       "      <th>year_last_payment</th>\n",
       "      <th>month_last_payment</th>\n",
       "      <th>last_payment_date</th>\n",
       "      <th>last_payment_date.1</th>\n",
       "      <th>...</th>\n",
       "      <th>cash_advance_frequency</th>\n",
       "      <th>cash_advance_trx</th>\n",
       "      <th>purchases_trx</th>\n",
       "      <th>credit_limit</th>\n",
       "      <th>payments</th>\n",
       "      <th>minimum_payments</th>\n",
       "      <th>prc_full_payment</th>\n",
       "      <th>tenure</th>\n",
       "      <th>fraud</th>\n",
       "      <th>activated_date_f</th>\n",
       "    </tr>\n",
       "  </thead>\n",
       "  <tbody>\n",
       "    <tr>\n",
       "      <th>0</th>\n",
       "      <td>10001</td>\n",
       "      <td>C10001</td>\n",
       "      <td>2019</td>\n",
       "      <td>10</td>\n",
       "      <td>20191006</td>\n",
       "      <td>06/10/2019</td>\n",
       "      <td>2020</td>\n",
       "      <td>09</td>\n",
       "      <td>20200909</td>\n",
       "      <td>09/09/2020</td>\n",
       "      <td>...</td>\n",
       "      <td>0.000000</td>\n",
       "      <td>0</td>\n",
       "      <td>2</td>\n",
       "      <td>1000.0</td>\n",
       "      <td>201.802084</td>\n",
       "      <td>139.509787</td>\n",
       "      <td>0.000000</td>\n",
       "      <td>12</td>\n",
       "      <td>0</td>\n",
       "      <td>2019-10</td>\n",
       "    </tr>\n",
       "    <tr>\n",
       "      <th>1</th>\n",
       "      <td>10002</td>\n",
       "      <td>C10002</td>\n",
       "      <td>2019</td>\n",
       "      <td>10</td>\n",
       "      <td>20191006</td>\n",
       "      <td>06/10/2019</td>\n",
       "      <td>2020</td>\n",
       "      <td>07</td>\n",
       "      <td>20200704</td>\n",
       "      <td>04/07/2020</td>\n",
       "      <td>...</td>\n",
       "      <td>0.250000</td>\n",
       "      <td>4</td>\n",
       "      <td>0</td>\n",
       "      <td>7000.0</td>\n",
       "      <td>4103.032597</td>\n",
       "      <td>1072.340217</td>\n",
       "      <td>0.222222</td>\n",
       "      <td>12</td>\n",
       "      <td>0</td>\n",
       "      <td>2019-10</td>\n",
       "    </tr>\n",
       "    <tr>\n",
       "      <th>2</th>\n",
       "      <td>10003</td>\n",
       "      <td>C10003</td>\n",
       "      <td>2019</td>\n",
       "      <td>10</td>\n",
       "      <td>20191006</td>\n",
       "      <td>06/10/2019</td>\n",
       "      <td>2020</td>\n",
       "      <td>09</td>\n",
       "      <td>20200917</td>\n",
       "      <td>17/09/2020</td>\n",
       "      <td>...</td>\n",
       "      <td>0.000000</td>\n",
       "      <td>0</td>\n",
       "      <td>12</td>\n",
       "      <td>7500.0</td>\n",
       "      <td>622.066742</td>\n",
       "      <td>627.284787</td>\n",
       "      <td>0.000000</td>\n",
       "      <td>12</td>\n",
       "      <td>0</td>\n",
       "      <td>2019-10</td>\n",
       "    </tr>\n",
       "    <tr>\n",
       "      <th>3</th>\n",
       "      <td>10004</td>\n",
       "      <td>C10004</td>\n",
       "      <td>2019</td>\n",
       "      <td>10</td>\n",
       "      <td>20191006</td>\n",
       "      <td>06/10/2019</td>\n",
       "      <td>2020</td>\n",
       "      <td>08</td>\n",
       "      <td>20200824</td>\n",
       "      <td>24/08/2020</td>\n",
       "      <td>...</td>\n",
       "      <td>0.083333</td>\n",
       "      <td>1</td>\n",
       "      <td>1</td>\n",
       "      <td>7500.0</td>\n",
       "      <td>0.000000</td>\n",
       "      <td>0.000000</td>\n",
       "      <td>0.000000</td>\n",
       "      <td>12</td>\n",
       "      <td>0</td>\n",
       "      <td>2019-10</td>\n",
       "    </tr>\n",
       "    <tr>\n",
       "      <th>4</th>\n",
       "      <td>10005</td>\n",
       "      <td>C10005</td>\n",
       "      <td>2019</td>\n",
       "      <td>10</td>\n",
       "      <td>20191006</td>\n",
       "      <td>06/10/2019</td>\n",
       "      <td>2020</td>\n",
       "      <td>10</td>\n",
       "      <td>20201020</td>\n",
       "      <td>20/10/2020</td>\n",
       "      <td>...</td>\n",
       "      <td>0.000000</td>\n",
       "      <td>0</td>\n",
       "      <td>1</td>\n",
       "      <td>1200.0</td>\n",
       "      <td>678.334763</td>\n",
       "      <td>244.791237</td>\n",
       "      <td>0.000000</td>\n",
       "      <td>12</td>\n",
       "      <td>0</td>\n",
       "      <td>2019-10</td>\n",
       "    </tr>\n",
       "  </tbody>\n",
       "</table>\n",
       "<p>5 rows × 29 columns</p>\n",
       "</div>"
      ],
      "text/plain": [
       "   cust_id cust_id.1 year_activated month_activated activated_date  \\\n",
       "0    10001    C10001           2019              10       20191006   \n",
       "1    10002    C10002           2019              10       20191006   \n",
       "2    10003    C10003           2019              10       20191006   \n",
       "3    10004    C10004           2019              10       20191006   \n",
       "4    10005    C10005           2019              10       20191006   \n",
       "\n",
       "  activated_date.1 year_last_payment month_last_payment last_payment_date  \\\n",
       "0       06/10/2019              2020                 09          20200909   \n",
       "1       06/10/2019              2020                 07          20200704   \n",
       "2       06/10/2019              2020                 09          20200917   \n",
       "3       06/10/2019              2020                 08          20200824   \n",
       "4       06/10/2019              2020                 10          20201020   \n",
       "\n",
       "  last_payment_date.1  ...  cash_advance_frequency  cash_advance_trx  \\\n",
       "0          09/09/2020  ...                0.000000                 0   \n",
       "1          04/07/2020  ...                0.250000                 4   \n",
       "2          17/09/2020  ...                0.000000                 0   \n",
       "3          24/08/2020  ...                0.083333                 1   \n",
       "4          20/10/2020  ...                0.000000                 0   \n",
       "\n",
       "   purchases_trx  credit_limit     payments  minimum_payments  \\\n",
       "0              2        1000.0   201.802084        139.509787   \n",
       "1              0        7000.0  4103.032597       1072.340217   \n",
       "2             12        7500.0   622.066742        627.284787   \n",
       "3              1        7500.0     0.000000          0.000000   \n",
       "4              1        1200.0   678.334763        244.791237   \n",
       "\n",
       "   prc_full_payment  tenure  fraud  activated_date_f  \n",
       "0          0.000000      12      0           2019-10  \n",
       "1          0.222222      12      0           2019-10  \n",
       "2          0.000000      12      0           2019-10  \n",
       "3          0.000000      12      0           2019-10  \n",
       "4          0.000000      12      0           2019-10  \n",
       "\n",
       "[5 rows x 29 columns]"
      ]
     },
     "execution_count": 290,
     "metadata": {},
     "output_type": "execute_result"
    }
   ],
   "source": [
    "stori_balance_new"
   ]
  },
  {
   "cell_type": "code",
   "execution_count": 291,
   "metadata": {},
   "outputs": [],
   "source": [
    "# Separamos los componentes de la fecha del campo \"last_payment_date\" para poder construir el formato pedido\n",
    "# We separate the date components from the \"last_payment_date\" field in order to build the requested format\n",
    "new = stori_balance_new[\"last_payment_date.1\"].str.split(\"/\", n = 1, expand = True)"
   ]
  },
  {
   "cell_type": "code",
   "execution_count": 292,
   "metadata": {},
   "outputs": [
    {
     "data": {
      "text/html": [
       "<div>\n",
       "<style scoped>\n",
       "    .dataframe tbody tr th:only-of-type {\n",
       "        vertical-align: middle;\n",
       "    }\n",
       "\n",
       "    .dataframe tbody tr th {\n",
       "        vertical-align: top;\n",
       "    }\n",
       "\n",
       "    .dataframe thead th {\n",
       "        text-align: right;\n",
       "    }\n",
       "</style>\n",
       "<table border=\"1\" class=\"dataframe\">\n",
       "  <thead>\n",
       "    <tr style=\"text-align: right;\">\n",
       "      <th></th>\n",
       "      <th>0</th>\n",
       "      <th>1</th>\n",
       "    </tr>\n",
       "  </thead>\n",
       "  <tbody>\n",
       "    <tr>\n",
       "      <th>0</th>\n",
       "      <td>09</td>\n",
       "      <td>09/2020</td>\n",
       "    </tr>\n",
       "    <tr>\n",
       "      <th>1</th>\n",
       "      <td>04</td>\n",
       "      <td>07/2020</td>\n",
       "    </tr>\n",
       "    <tr>\n",
       "      <th>2</th>\n",
       "      <td>17</td>\n",
       "      <td>09/2020</td>\n",
       "    </tr>\n",
       "    <tr>\n",
       "      <th>3</th>\n",
       "      <td>24</td>\n",
       "      <td>08/2020</td>\n",
       "    </tr>\n",
       "    <tr>\n",
       "      <th>4</th>\n",
       "      <td>20</td>\n",
       "      <td>10/2020</td>\n",
       "    </tr>\n",
       "    <tr>\n",
       "      <th>...</th>\n",
       "      <td>...</td>\n",
       "      <td>...</td>\n",
       "    </tr>\n",
       "    <tr>\n",
       "      <th>8945</th>\n",
       "      <td>03</td>\n",
       "      <td>11/2020</td>\n",
       "    </tr>\n",
       "    <tr>\n",
       "      <th>8946</th>\n",
       "      <td>06</td>\n",
       "      <td>09/2020</td>\n",
       "    </tr>\n",
       "    <tr>\n",
       "      <th>8947</th>\n",
       "      <td>03</td>\n",
       "      <td>06/2020</td>\n",
       "    </tr>\n",
       "    <tr>\n",
       "      <th>8948</th>\n",
       "      <td>19</td>\n",
       "      <td>07/2020</td>\n",
       "    </tr>\n",
       "    <tr>\n",
       "      <th>8949</th>\n",
       "      <td>14</td>\n",
       "      <td>10/2020</td>\n",
       "    </tr>\n",
       "  </tbody>\n",
       "</table>\n",
       "<p>8855 rows × 2 columns</p>\n",
       "</div>"
      ],
      "text/plain": [
       "       0        1\n",
       "0     09  09/2020\n",
       "1     04  07/2020\n",
       "2     17  09/2020\n",
       "3     24  08/2020\n",
       "4     20  10/2020\n",
       "...   ..      ...\n",
       "8945  03  11/2020\n",
       "8946  06  09/2020\n",
       "8947  03  06/2020\n",
       "8948  19  07/2020\n",
       "8949  14  10/2020\n",
       "\n",
       "[8855 rows x 2 columns]"
      ]
     },
     "execution_count": 292,
     "metadata": {},
     "output_type": "execute_result"
    }
   ],
   "source": [
    "new"
   ]
  },
  {
   "cell_type": "code",
   "execution_count": 294,
   "metadata": {},
   "outputs": [],
   "source": [
    "# una vez mas\n",
    "# one more time\n",
    "new2 = new[1].str.split(\"/\", n=1, expand = True)"
   ]
  },
  {
   "cell_type": "code",
   "execution_count": 295,
   "metadata": {},
   "outputs": [
    {
     "data": {
      "text/html": [
       "<div>\n",
       "<style scoped>\n",
       "    .dataframe tbody tr th:only-of-type {\n",
       "        vertical-align: middle;\n",
       "    }\n",
       "\n",
       "    .dataframe tbody tr th {\n",
       "        vertical-align: top;\n",
       "    }\n",
       "\n",
       "    .dataframe thead th {\n",
       "        text-align: right;\n",
       "    }\n",
       "</style>\n",
       "<table border=\"1\" class=\"dataframe\">\n",
       "  <thead>\n",
       "    <tr style=\"text-align: right;\">\n",
       "      <th></th>\n",
       "      <th>0</th>\n",
       "      <th>1</th>\n",
       "    </tr>\n",
       "  </thead>\n",
       "  <tbody>\n",
       "    <tr>\n",
       "      <th>0</th>\n",
       "      <td>09</td>\n",
       "      <td>2020</td>\n",
       "    </tr>\n",
       "    <tr>\n",
       "      <th>1</th>\n",
       "      <td>07</td>\n",
       "      <td>2020</td>\n",
       "    </tr>\n",
       "    <tr>\n",
       "      <th>2</th>\n",
       "      <td>09</td>\n",
       "      <td>2020</td>\n",
       "    </tr>\n",
       "    <tr>\n",
       "      <th>3</th>\n",
       "      <td>08</td>\n",
       "      <td>2020</td>\n",
       "    </tr>\n",
       "    <tr>\n",
       "      <th>4</th>\n",
       "      <td>10</td>\n",
       "      <td>2020</td>\n",
       "    </tr>\n",
       "    <tr>\n",
       "      <th>...</th>\n",
       "      <td>...</td>\n",
       "      <td>...</td>\n",
       "    </tr>\n",
       "    <tr>\n",
       "      <th>8945</th>\n",
       "      <td>11</td>\n",
       "      <td>2020</td>\n",
       "    </tr>\n",
       "    <tr>\n",
       "      <th>8946</th>\n",
       "      <td>09</td>\n",
       "      <td>2020</td>\n",
       "    </tr>\n",
       "    <tr>\n",
       "      <th>8947</th>\n",
       "      <td>06</td>\n",
       "      <td>2020</td>\n",
       "    </tr>\n",
       "    <tr>\n",
       "      <th>8948</th>\n",
       "      <td>07</td>\n",
       "      <td>2020</td>\n",
       "    </tr>\n",
       "    <tr>\n",
       "      <th>8949</th>\n",
       "      <td>10</td>\n",
       "      <td>2020</td>\n",
       "    </tr>\n",
       "  </tbody>\n",
       "</table>\n",
       "<p>8855 rows × 2 columns</p>\n",
       "</div>"
      ],
      "text/plain": [
       "       0     1\n",
       "0     09  2020\n",
       "1     07  2020\n",
       "2     09  2020\n",
       "3     08  2020\n",
       "4     10  2020\n",
       "...   ..   ...\n",
       "8945  11  2020\n",
       "8946  09  2020\n",
       "8947  06  2020\n",
       "8948  07  2020\n",
       "8949  10  2020\n",
       "\n",
       "[8855 rows x 2 columns]"
      ]
     },
     "execution_count": 295,
     "metadata": {},
     "output_type": "execute_result"
    }
   ],
   "source": [
    "new2"
   ]
  },
  {
   "cell_type": "code",
   "execution_count": 300,
   "metadata": {},
   "outputs": [],
   "source": [
    "# Creamos el formato pedido para el campo \"last_payment_date_f\"\n",
    "# We create the requested format for the field \"last_payment_date_f\"\n",
    "new2['last_payment_date_f'] = new2[1] + \"-\" + new2[0] + \"-\" + new[0]"
   ]
  },
  {
   "cell_type": "code",
   "execution_count": 301,
   "metadata": {},
   "outputs": [
    {
     "data": {
      "text/html": [
       "<div>\n",
       "<style scoped>\n",
       "    .dataframe tbody tr th:only-of-type {\n",
       "        vertical-align: middle;\n",
       "    }\n",
       "\n",
       "    .dataframe tbody tr th {\n",
       "        vertical-align: top;\n",
       "    }\n",
       "\n",
       "    .dataframe thead th {\n",
       "        text-align: right;\n",
       "    }\n",
       "</style>\n",
       "<table border=\"1\" class=\"dataframe\">\n",
       "  <thead>\n",
       "    <tr style=\"text-align: right;\">\n",
       "      <th></th>\n",
       "      <th>0</th>\n",
       "      <th>1</th>\n",
       "      <th>last_payment_date_f</th>\n",
       "    </tr>\n",
       "  </thead>\n",
       "  <tbody>\n",
       "    <tr>\n",
       "      <th>0</th>\n",
       "      <td>09</td>\n",
       "      <td>2020</td>\n",
       "      <td>2020-09-09</td>\n",
       "    </tr>\n",
       "    <tr>\n",
       "      <th>1</th>\n",
       "      <td>07</td>\n",
       "      <td>2020</td>\n",
       "      <td>2020-07-04</td>\n",
       "    </tr>\n",
       "    <tr>\n",
       "      <th>2</th>\n",
       "      <td>09</td>\n",
       "      <td>2020</td>\n",
       "      <td>2020-09-17</td>\n",
       "    </tr>\n",
       "    <tr>\n",
       "      <th>3</th>\n",
       "      <td>08</td>\n",
       "      <td>2020</td>\n",
       "      <td>2020-08-24</td>\n",
       "    </tr>\n",
       "    <tr>\n",
       "      <th>4</th>\n",
       "      <td>10</td>\n",
       "      <td>2020</td>\n",
       "      <td>2020-10-20</td>\n",
       "    </tr>\n",
       "    <tr>\n",
       "      <th>...</th>\n",
       "      <td>...</td>\n",
       "      <td>...</td>\n",
       "      <td>...</td>\n",
       "    </tr>\n",
       "    <tr>\n",
       "      <th>8945</th>\n",
       "      <td>11</td>\n",
       "      <td>2020</td>\n",
       "      <td>2020-11-03</td>\n",
       "    </tr>\n",
       "    <tr>\n",
       "      <th>8946</th>\n",
       "      <td>09</td>\n",
       "      <td>2020</td>\n",
       "      <td>2020-09-06</td>\n",
       "    </tr>\n",
       "    <tr>\n",
       "      <th>8947</th>\n",
       "      <td>06</td>\n",
       "      <td>2020</td>\n",
       "      <td>2020-06-03</td>\n",
       "    </tr>\n",
       "    <tr>\n",
       "      <th>8948</th>\n",
       "      <td>07</td>\n",
       "      <td>2020</td>\n",
       "      <td>2020-07-19</td>\n",
       "    </tr>\n",
       "    <tr>\n",
       "      <th>8949</th>\n",
       "      <td>10</td>\n",
       "      <td>2020</td>\n",
       "      <td>2020-10-14</td>\n",
       "    </tr>\n",
       "  </tbody>\n",
       "</table>\n",
       "<p>8855 rows × 3 columns</p>\n",
       "</div>"
      ],
      "text/plain": [
       "       0     1 last_payment_date_f\n",
       "0     09  2020          2020-09-09\n",
       "1     07  2020          2020-07-04\n",
       "2     09  2020          2020-09-17\n",
       "3     08  2020          2020-08-24\n",
       "4     10  2020          2020-10-20\n",
       "...   ..   ...                 ...\n",
       "8945  11  2020          2020-11-03\n",
       "8946  09  2020          2020-09-06\n",
       "8947  06  2020          2020-06-03\n",
       "8948  07  2020          2020-07-19\n",
       "8949  10  2020          2020-10-14\n",
       "\n",
       "[8855 rows x 3 columns]"
      ]
     },
     "execution_count": 301,
     "metadata": {},
     "output_type": "execute_result"
    }
   ],
   "source": [
    "new2"
   ]
  },
  {
   "cell_type": "code",
   "execution_count": 302,
   "metadata": {},
   "outputs": [],
   "source": [
    "# Agregamos el campo deseado al dataframe copia\n",
    "# Add the desired field to the copy dataframe\n",
    "stori_balance_new['last_payment_date_f'] = new2['last_payment_date_f']"
   ]
  },
  {
   "cell_type": "code",
   "execution_count": 303,
   "metadata": {},
   "outputs": [
    {
     "data": {
      "text/html": [
       "<div>\n",
       "<style scoped>\n",
       "    .dataframe tbody tr th:only-of-type {\n",
       "        vertical-align: middle;\n",
       "    }\n",
       "\n",
       "    .dataframe tbody tr th {\n",
       "        vertical-align: top;\n",
       "    }\n",
       "\n",
       "    .dataframe thead th {\n",
       "        text-align: right;\n",
       "    }\n",
       "</style>\n",
       "<table border=\"1\" class=\"dataframe\">\n",
       "  <thead>\n",
       "    <tr style=\"text-align: right;\">\n",
       "      <th></th>\n",
       "      <th>cust_id</th>\n",
       "      <th>cust_id.1</th>\n",
       "      <th>year_activated</th>\n",
       "      <th>month_activated</th>\n",
       "      <th>activated_date</th>\n",
       "      <th>activated_date.1</th>\n",
       "      <th>year_last_payment</th>\n",
       "      <th>month_last_payment</th>\n",
       "      <th>last_payment_date</th>\n",
       "      <th>last_payment_date.1</th>\n",
       "      <th>...</th>\n",
       "      <th>cash_advance_trx</th>\n",
       "      <th>purchases_trx</th>\n",
       "      <th>credit_limit</th>\n",
       "      <th>payments</th>\n",
       "      <th>minimum_payments</th>\n",
       "      <th>prc_full_payment</th>\n",
       "      <th>tenure</th>\n",
       "      <th>fraud</th>\n",
       "      <th>activated_date_f</th>\n",
       "      <th>last_payment_date_f</th>\n",
       "    </tr>\n",
       "  </thead>\n",
       "  <tbody>\n",
       "    <tr>\n",
       "      <th>0</th>\n",
       "      <td>10001</td>\n",
       "      <td>C10001</td>\n",
       "      <td>2019</td>\n",
       "      <td>10</td>\n",
       "      <td>20191006</td>\n",
       "      <td>06/10/2019</td>\n",
       "      <td>2020</td>\n",
       "      <td>09</td>\n",
       "      <td>20200909</td>\n",
       "      <td>09/09/2020</td>\n",
       "      <td>...</td>\n",
       "      <td>0</td>\n",
       "      <td>2</td>\n",
       "      <td>1000.0</td>\n",
       "      <td>201.802084</td>\n",
       "      <td>139.509787</td>\n",
       "      <td>0.000000</td>\n",
       "      <td>12</td>\n",
       "      <td>0</td>\n",
       "      <td>2019-10</td>\n",
       "      <td>2020-09-09</td>\n",
       "    </tr>\n",
       "    <tr>\n",
       "      <th>1</th>\n",
       "      <td>10002</td>\n",
       "      <td>C10002</td>\n",
       "      <td>2019</td>\n",
       "      <td>10</td>\n",
       "      <td>20191006</td>\n",
       "      <td>06/10/2019</td>\n",
       "      <td>2020</td>\n",
       "      <td>07</td>\n",
       "      <td>20200704</td>\n",
       "      <td>04/07/2020</td>\n",
       "      <td>...</td>\n",
       "      <td>4</td>\n",
       "      <td>0</td>\n",
       "      <td>7000.0</td>\n",
       "      <td>4103.032597</td>\n",
       "      <td>1072.340217</td>\n",
       "      <td>0.222222</td>\n",
       "      <td>12</td>\n",
       "      <td>0</td>\n",
       "      <td>2019-10</td>\n",
       "      <td>2020-07-04</td>\n",
       "    </tr>\n",
       "    <tr>\n",
       "      <th>2</th>\n",
       "      <td>10003</td>\n",
       "      <td>C10003</td>\n",
       "      <td>2019</td>\n",
       "      <td>10</td>\n",
       "      <td>20191006</td>\n",
       "      <td>06/10/2019</td>\n",
       "      <td>2020</td>\n",
       "      <td>09</td>\n",
       "      <td>20200917</td>\n",
       "      <td>17/09/2020</td>\n",
       "      <td>...</td>\n",
       "      <td>0</td>\n",
       "      <td>12</td>\n",
       "      <td>7500.0</td>\n",
       "      <td>622.066742</td>\n",
       "      <td>627.284787</td>\n",
       "      <td>0.000000</td>\n",
       "      <td>12</td>\n",
       "      <td>0</td>\n",
       "      <td>2019-10</td>\n",
       "      <td>2020-09-17</td>\n",
       "    </tr>\n",
       "    <tr>\n",
       "      <th>3</th>\n",
       "      <td>10004</td>\n",
       "      <td>C10004</td>\n",
       "      <td>2019</td>\n",
       "      <td>10</td>\n",
       "      <td>20191006</td>\n",
       "      <td>06/10/2019</td>\n",
       "      <td>2020</td>\n",
       "      <td>08</td>\n",
       "      <td>20200824</td>\n",
       "      <td>24/08/2020</td>\n",
       "      <td>...</td>\n",
       "      <td>1</td>\n",
       "      <td>1</td>\n",
       "      <td>7500.0</td>\n",
       "      <td>0.000000</td>\n",
       "      <td>0.000000</td>\n",
       "      <td>0.000000</td>\n",
       "      <td>12</td>\n",
       "      <td>0</td>\n",
       "      <td>2019-10</td>\n",
       "      <td>2020-08-24</td>\n",
       "    </tr>\n",
       "    <tr>\n",
       "      <th>4</th>\n",
       "      <td>10005</td>\n",
       "      <td>C10005</td>\n",
       "      <td>2019</td>\n",
       "      <td>10</td>\n",
       "      <td>20191006</td>\n",
       "      <td>06/10/2019</td>\n",
       "      <td>2020</td>\n",
       "      <td>10</td>\n",
       "      <td>20201020</td>\n",
       "      <td>20/10/2020</td>\n",
       "      <td>...</td>\n",
       "      <td>0</td>\n",
       "      <td>1</td>\n",
       "      <td>1200.0</td>\n",
       "      <td>678.334763</td>\n",
       "      <td>244.791237</td>\n",
       "      <td>0.000000</td>\n",
       "      <td>12</td>\n",
       "      <td>0</td>\n",
       "      <td>2019-10</td>\n",
       "      <td>2020-10-20</td>\n",
       "    </tr>\n",
       "  </tbody>\n",
       "</table>\n",
       "<p>5 rows × 30 columns</p>\n",
       "</div>"
      ],
      "text/plain": [
       "   cust_id cust_id.1 year_activated month_activated activated_date  \\\n",
       "0    10001    C10001           2019              10       20191006   \n",
       "1    10002    C10002           2019              10       20191006   \n",
       "2    10003    C10003           2019              10       20191006   \n",
       "3    10004    C10004           2019              10       20191006   \n",
       "4    10005    C10005           2019              10       20191006   \n",
       "\n",
       "  activated_date.1 year_last_payment month_last_payment last_payment_date  \\\n",
       "0       06/10/2019              2020                 09          20200909   \n",
       "1       06/10/2019              2020                 07          20200704   \n",
       "2       06/10/2019              2020                 09          20200917   \n",
       "3       06/10/2019              2020                 08          20200824   \n",
       "4       06/10/2019              2020                 10          20201020   \n",
       "\n",
       "  last_payment_date.1  ...  cash_advance_trx  purchases_trx  credit_limit  \\\n",
       "0          09/09/2020  ...                 0              2        1000.0   \n",
       "1          04/07/2020  ...                 4              0        7000.0   \n",
       "2          17/09/2020  ...                 0             12        7500.0   \n",
       "3          24/08/2020  ...                 1              1        7500.0   \n",
       "4          20/10/2020  ...                 0              1        1200.0   \n",
       "\n",
       "      payments  minimum_payments  prc_full_payment  tenure  fraud  \\\n",
       "0   201.802084        139.509787          0.000000      12      0   \n",
       "1  4103.032597       1072.340217          0.222222      12      0   \n",
       "2   622.066742        627.284787          0.000000      12      0   \n",
       "3     0.000000          0.000000          0.000000      12      0   \n",
       "4   678.334763        244.791237          0.000000      12      0   \n",
       "\n",
       "   activated_date_f  last_payment_date_f  \n",
       "0           2019-10           2020-09-09  \n",
       "1           2019-10           2020-07-04  \n",
       "2           2019-10           2020-09-17  \n",
       "3           2019-10           2020-08-24  \n",
       "4           2019-10           2020-10-20  \n",
       "\n",
       "[5 rows x 30 columns]"
      ]
     },
     "execution_count": 303,
     "metadata": {},
     "output_type": "execute_result"
    }
   ],
   "source": [
    "stori_balance_new.head()"
   ]
  },
  {
   "cell_type": "code",
   "execution_count": 385,
   "metadata": {},
   "outputs": [],
   "source": [
    "# Creamos los campos necesarios para mostrarl el layout final\n",
    "# We create the necessary fields to show the final layout\n",
    "campos_filtros = ['cust_id','activated_date_f','last_payment_date_f','cash_advance','credit_limit']"
   ]
  },
  {
   "cell_type": "code",
   "execution_count": 386,
   "metadata": {},
   "outputs": [],
   "source": [
    "# Aplicamos los filstros y en este punto se supuso que los clientes habían activado en 2020 asi como que su pago fue\n",
    "# en el mismo año, eso se entiende del ejercicios\n",
    "# We apply the filters and at this point it was assumed that the clients had activated in 2020 as well as that their payment was\n",
    "# in the same year, that is understood from the exercises\n",
    "filas_filtradas = (stori_balance_new['year_activated'] == '2020') & (stori_balance_new['year_last_payment'] == '2020')"
   ]
  },
  {
   "cell_type": "code",
   "execution_count": 387,
   "metadata": {},
   "outputs": [],
   "source": [
    "# Creamos el dataset con los campos necesarios\n",
    "# We create the dataset with the necessary fields\n",
    "stori_2020 = stori_balance_new[filas_filtradas]"
   ]
  },
  {
   "cell_type": "code",
   "execution_count": 388,
   "metadata": {},
   "outputs": [
    {
     "data": {
      "text/plain": [
       "(6233, 30)"
      ]
     },
     "execution_count": 388,
     "metadata": {},
     "output_type": "execute_result"
    }
   ],
   "source": [
    "stori_2020.shape"
   ]
  },
  {
   "cell_type": "code",
   "execution_count": 389,
   "metadata": {},
   "outputs": [],
   "source": [
    "# Creamos el dataset que muestra el layout final con los formatos requeridos\n",
    "# We create the dataset that shows the final layout with the required formats\n",
    "layout = stori_2020[campos_filtros]"
   ]
  },
  {
   "cell_type": "code",
   "execution_count": 390,
   "metadata": {},
   "outputs": [],
   "source": [
    "# Creamos el campo calculado de % de cash advance con respecto al limite de credito y lo agregamos al layout final\n",
    "# We create the calculated field of% of cash advance with respect to the credit limit and add it to the final layout\n",
    "layout['%cash_advance'] = (layout['cash_advance']/layout['credit_limit'])* 100"
   ]
  },
  {
   "cell_type": "code",
   "execution_count": 391,
   "metadata": {},
   "outputs": [
    {
     "data": {
      "text/html": [
       "<div>\n",
       "<style scoped>\n",
       "    .dataframe tbody tr th:only-of-type {\n",
       "        vertical-align: middle;\n",
       "    }\n",
       "\n",
       "    .dataframe tbody tr th {\n",
       "        vertical-align: top;\n",
       "    }\n",
       "\n",
       "    .dataframe thead th {\n",
       "        text-align: right;\n",
       "    }\n",
       "</style>\n",
       "<table border=\"1\" class=\"dataframe\">\n",
       "  <thead>\n",
       "    <tr style=\"text-align: right;\">\n",
       "      <th></th>\n",
       "      <th>cust_id</th>\n",
       "      <th>activated_date_f</th>\n",
       "      <th>last_payment_date_f</th>\n",
       "      <th>cash_advance</th>\n",
       "      <th>credit_limit</th>\n",
       "      <th>%cash_advance</th>\n",
       "    </tr>\n",
       "  </thead>\n",
       "  <tbody>\n",
       "    <tr>\n",
       "      <th>2633</th>\n",
       "      <td>12709</td>\n",
       "      <td>2020-01</td>\n",
       "      <td>2020-05-08</td>\n",
       "      <td>2431.292076</td>\n",
       "      <td>8000.0</td>\n",
       "      <td>30.391151</td>\n",
       "    </tr>\n",
       "    <tr>\n",
       "      <th>2634</th>\n",
       "      <td>12710</td>\n",
       "      <td>2020-01</td>\n",
       "      <td>2020-05-26</td>\n",
       "      <td>0.000000</td>\n",
       "      <td>2000.0</td>\n",
       "      <td>0.000000</td>\n",
       "    </tr>\n",
       "    <tr>\n",
       "      <th>2635</th>\n",
       "      <td>12712</td>\n",
       "      <td>2020-01</td>\n",
       "      <td>2020-10-20</td>\n",
       "      <td>0.000000</td>\n",
       "      <td>3000.0</td>\n",
       "      <td>0.000000</td>\n",
       "    </tr>\n",
       "    <tr>\n",
       "      <th>2636</th>\n",
       "      <td>12713</td>\n",
       "      <td>2020-01</td>\n",
       "      <td>2020-08-22</td>\n",
       "      <td>0.000000</td>\n",
       "      <td>9000.0</td>\n",
       "      <td>0.000000</td>\n",
       "    </tr>\n",
       "    <tr>\n",
       "      <th>2637</th>\n",
       "      <td>12714</td>\n",
       "      <td>2020-01</td>\n",
       "      <td>2020-04-26</td>\n",
       "      <td>78.763096</td>\n",
       "      <td>1500.0</td>\n",
       "      <td>5.250873</td>\n",
       "    </tr>\n",
       "  </tbody>\n",
       "</table>\n",
       "</div>"
      ],
      "text/plain": [
       "      cust_id activated_date_f last_payment_date_f  cash_advance  \\\n",
       "2633    12709          2020-01          2020-05-08   2431.292076   \n",
       "2634    12710          2020-01          2020-05-26      0.000000   \n",
       "2635    12712          2020-01          2020-10-20      0.000000   \n",
       "2636    12713          2020-01          2020-08-22      0.000000   \n",
       "2637    12714          2020-01          2020-04-26     78.763096   \n",
       "\n",
       "      credit_limit  %cash_advance  \n",
       "2633        8000.0      30.391151  \n",
       "2634        2000.0       0.000000  \n",
       "2635        3000.0       0.000000  \n",
       "2636        9000.0       0.000000  \n",
       "2637        1500.0       5.250873  "
      ]
     },
     "execution_count": 391,
     "metadata": {},
     "output_type": "execute_result"
    }
   ],
   "source": [
    "# Mostramos el layout final como se prequirió\n",
    "# We show the final layout as required\n",
    "layout.head()"
   ]
  },
  {
   "cell_type": "markdown",
   "metadata": {},
   "source": [
    "# Question 3 "
   ]
  },
  {
   "cell_type": "markdown",
   "metadata": {},
   "source": [
    "## 3.1 Build a predictive model for fraud."
   ]
  },
  {
   "cell_type": "code",
   "execution_count": 325,
   "metadata": {},
   "outputs": [
    {
     "data": {
      "text/plain": [
       "fraud\n",
       "0    8785\n",
       "1      70\n",
       "dtype: int64"
      ]
     },
     "execution_count": 325,
     "metadata": {},
     "output_type": "execute_result"
    }
   ],
   "source": [
    "# Para crear el modelo se partió del supuesto de que la columna \"fraud\" del dataset eran las etiquetas, pues solo \n",
    "# tienen valores de 0 y 1, interpretando que 0 = no fraude, 1 = fraude\n",
    "# To create the model, it was assumed that the \"fraud\" column of the dataset were the labels, since only\n",
    "# have values of 0 and 1, interpreting that 0 = no fraud, 1 = fraud\n",
    "# Obtenemos un conteo de registros con y sin fraude\n",
    "# We obtain a record count with and without fraud\n",
    "stori_balance_sin_des.groupby('fraud').size()"
   ]
  },
  {
   "cell_type": "code",
   "execution_count": 329,
   "metadata": {},
   "outputs": [
    {
     "name": "stdout",
     "output_type": "stream",
     "text": [
      "<class 'pandas.core.frame.DataFrame'>\n",
      "Int64Index: 8855 entries, 0 to 8949\n",
      "Data columns (total 28 columns):\n",
      " #   Column                            Non-Null Count  Dtype  \n",
      "---  ------                            --------------  -----  \n",
      " 0   cust_id                           8855 non-null   int64  \n",
      " 1   cust_id.1                         8855 non-null   object \n",
      " 2   year_activated                    8855 non-null   object \n",
      " 3   month_activated                   8855 non-null   object \n",
      " 4   activated_date                    8855 non-null   object \n",
      " 5   activated_date.1                  8855 non-null   object \n",
      " 6   year_last_payment                 8855 non-null   object \n",
      " 7   month_last_payment                8855 non-null   object \n",
      " 8   last_payment_date                 8855 non-null   object \n",
      " 9   last_payment_date.1               8855 non-null   object \n",
      " 10  balance                           8855 non-null   float64\n",
      " 11  balance_frequency                 8855 non-null   float64\n",
      " 12  purchases                         8855 non-null   float64\n",
      " 13  oneoff_purchases                  8855 non-null   float64\n",
      " 14  installments_purchases            8855 non-null   float64\n",
      " 15  cash_advance                      8855 non-null   float64\n",
      " 16  purchases_frequency               8855 non-null   float64\n",
      " 17  oneoff_purchases_frequency        8855 non-null   float64\n",
      " 18  purchases_installments_frequency  8855 non-null   float64\n",
      " 19  cash_advance_frequency            8855 non-null   float64\n",
      " 20  cash_advance_trx                  8855 non-null   int64  \n",
      " 21  purchases_trx                     8855 non-null   int64  \n",
      " 22  credit_limit                      8855 non-null   float64\n",
      " 23  payments                          8855 non-null   float64\n",
      " 24  minimum_payments                  8855 non-null   float64\n",
      " 25  prc_full_payment                  8855 non-null   float64\n",
      " 26  tenure                            8855 non-null   int64  \n",
      " 27  fraud                             8855 non-null   int64  \n",
      "dtypes: float64(14), int64(5), object(9)\n",
      "memory usage: 2.3+ MB\n"
     ]
    }
   ],
   "source": [
    "stori_balance_sin_des.info()"
   ]
  },
  {
   "cell_type": "code",
   "execution_count": 328,
   "metadata": {},
   "outputs": [],
   "source": [
    "# Tomamos todas las variables numéricas como variables predictoras, excluyendo las variables de fechas \n",
    "# We take all numeric variables as predictor variables, excluding date variables\n",
    "predictores = ['balance','balance_frequency','purchases','oneoff_purchases','installments_purchases',\n",
    "                      'cash_advance','purchases_frequency','oneoff_purchases_frequency','purchases_installments_frequency',\n",
    "              'cash_advance_frequency','cash_advance_trx','credit_limit', 'payments','minimum_payments',\n",
    "               'prc_full_payment','tenure']"
   ]
  },
  {
   "cell_type": "code",
   "execution_count": 330,
   "metadata": {},
   "outputs": [],
   "source": [
    "# Tomamos el campo \"fraud\" como variable a predecir\n",
    "# We take the \"fraud\" field as a variable to predict\n",
    "etiquetas = ['fraud']"
   ]
  },
  {
   "cell_type": "code",
   "execution_count": 334,
   "metadata": {},
   "outputs": [],
   "source": [
    "# Creamos una matriz de correlación con un mapa de calor para observar la correlación entre todas las variables\n",
    "# We create a correlation matrix with a heat map to observe the correlation between all the variables\n",
    "mat_corr = stori_balance_sin_des[predictores].corr()"
   ]
  },
  {
   "cell_type": "code",
   "execution_count": 333,
   "metadata": {},
   "outputs": [],
   "source": [
    "# Importamos la librería seaborn para mostrar el mapa de calor\n",
    "# We import the seaborn library to show the heat map\n",
    "import seaborn as sns"
   ]
  },
  {
   "cell_type": "code",
   "execution_count": 348,
   "metadata": {},
   "outputs": [
    {
     "data": {
      "text/plain": [
       "<matplotlib.axes._subplots.AxesSubplot at 0x7f8f146aed60>"
      ]
     },
     "execution_count": 348,
     "metadata": {},
     "output_type": "execute_result"
    },
    {
     "data": {
      "image/png": "[encoded data removed]",
      "text/plain": [
       "<Figure size 936x936 with 2 Axes>"
      ]
     },
     "metadata": {},
     "output_type": "display_data"
    }
   ],
   "source": [
    "# Configuramos la imagen de la matriz de correlación junto con el mapa de calor\n",
    "# We configure the image of the correlation matrix together with the heat map\n",
    "sns.set(rc = {'figure.figsize':(13,13)})\n",
    "sns.heatmap(mat_corr, annot = True)"
   ]
  },
  {
   "cell_type": "code",
   "execution_count": 359,
   "metadata": {},
   "outputs": [],
   "source": [
    "# Importamos las librerías necesarias para crear el modelo\n",
    "# We import the necessary libraries to create the model\n",
    "from sklearn.model_selection import train_test_split\n",
    "from sklearn.linear_model import LogisticRegression\n",
    "import warnings\n",
    "warnings.filterwarnings('ignore')"
   ]
  },
  {
   "cell_type": "code",
   "execution_count": 363,
   "metadata": {},
   "outputs": [
    {
     "name": "stdout",
     "output_type": "stream",
     "text": [
      "Número de observaciones por clase\n",
      "0    8785\n",
      "1      70\n",
      "Name: fraud, dtype: int64\n",
      "\n",
      "Porcentaje de observaciones por clase\n",
      "0    99.209486\n",
      "1     0.790514\n",
      "Name: fraud, dtype: float64\n"
     ]
    }
   ],
   "source": [
    "# Numero de observaciones por clase\n",
    "# Estamos suponiendo que la etiqueta 0 significa que no hay fraude y que la etiqueta 1 que si lo hay\n",
    "# Number of observations per class\n",
    "# We are assuming that tag 0 means that there is no fraud and that tag 1 that there is\n",
    "print(\"Número de observaciones por clase\")\n",
    "print(stori_balance_sin_des['fraud'].value_counts())\n",
    "print(\"\")\n",
    "print(\"Porcentaje de observaciones por clase\")\n",
    "print(100 * stori_balance_sin_des['fraud'].value_counts(normalize=True))"
   ]
  },
  {
   "cell_type": "code",
   "execution_count": 365,
   "metadata": {},
   "outputs": [],
   "source": [
    "#Separo todos los datos con las caracteristicas y etiquetas o resultados\n",
    "#Separate all the data with the features and labels or results\n",
    "X = stori_balance_sin_des[predictores] # features\n",
    "y = stori_balance_sin_des[etiquetas] # Labels"
   ]
  },
  {
   "cell_type": "code",
   "execution_count": 367,
   "metadata": {},
   "outputs": [
    {
     "name": "stdout",
     "output_type": "stream",
     "text": [
      "Son 7084 datos para entrenamiento y 1771 datos para prueba\n"
     ]
    }
   ],
   "source": [
    "#Separo los datos de \"train\" en entrenamiento y prueba para probar los algoritmos\n",
    "#Separate the \"train\" data in training and testing to test the algorithms\n",
    "X_train, X_test, y_train, y_test = train_test_split(X, y, test_size=0.2, shuffle = True)\n",
    "print('Son {} datos para entrenamiento y {} datos para prueba'.format(X_train.shape[0], X_test.shape[0]))"
   ]
  },
  {
   "cell_type": "code",
   "execution_count": 368,
   "metadata": {},
   "outputs": [
    {
     "name": "stdout",
     "output_type": "stream",
     "text": [
      "Precisión Regresión Logística: 99.6470920383964 %\n"
     ]
    }
   ],
   "source": [
    "# Con los ingredientes necesarios creo el modelo de Regresión Logística\n",
    "# With the necessary ingredients I create the Logistic Regression model\n",
    "algoritmo = LogisticRegression()\n",
    "algoritmo.fit(X_train, y_train)\n",
    "Y_pred = algoritmo.predict(X_test)\n",
    "print('Precisión Regresión Logística: {} %'.format(algoritmo.score(X_train, y_train)*100))"
   ]
  },
  {
   "cell_type": "markdown",
   "metadata": {},
   "source": [
    "#### El modelo tiene una precisión de 99.65% cuyo valor es mayor al valor de la clase de clientes que no hicieron fraude de un 99.21% por lo que a priori podemos interpretar que el modelo funciona correctamente\n",
    "#### The model has an accuracy of 99.65% whose value is greater than the value of the class of clients that did not make fraud of 99.21% so that a priori we can interpret that the model works correctly"
   ]
  },
  {
   "cell_type": "code",
   "execution_count": 378,
   "metadata": {},
   "outputs": [],
   "source": [
    "# Hagamos una comprobaciones del modelo: importamos la librerías necesarias\n",
    "# Let's do a model check: we import the necessary libraries\n",
    "import statsmodels.api as sm\n",
    "import statsmodels.formula.api as smf\n",
    "import numpy as np\n",
    "from sklearn.metrics import accuracy_score"
   ]
  },
  {
   "cell_type": "code",
   "execution_count": 370,
   "metadata": {},
   "outputs": [
    {
     "name": "stdout",
     "output_type": "stream",
     "text": [
      "Warning: Maximum number of iterations has been exceeded.\n",
      "         Current function value: 0.014827\n",
      "         Iterations: 35\n",
      "                           Logit Regression Results                           \n",
      "==============================================================================\n",
      "Dep. Variable:                  fraud   No. Observations:                 7084\n",
      "Model:                          Logit   Df Residuals:                     7067\n",
      "Method:                           MLE   Df Model:                           16\n",
      "Date:                Wed, 20 Oct 2021   Pseudo R-squ.:                  0.6878\n",
      "Time:                        21:00:48   Log-Likelihood:                -105.03\n",
      "converged:                      False   LL-Null:                       -336.46\n",
      "Covariance Type:            nonrobust   LLR p-value:                 2.260e-88\n",
      "====================================================================================================\n",
      "                                       coef    std err          z      P>|z|      [0.025      0.975]\n",
      "----------------------------------------------------------------------------------------------------\n",
      "const                               -8.1534      3.141     -2.596      0.009     -14.310      -1.997\n",
      "balance                              0.0003      0.000      2.942      0.003       0.000       0.001\n",
      "balance_frequency                   -0.9426      2.382     -0.396      0.692      -5.612       3.727\n",
      "purchases                            0.7829   1152.342      0.001      0.999   -2257.765    2259.331\n",
      "oneoff_purchases                    -0.7824   1152.342     -0.001      0.999   -2259.330    2257.766\n",
      "installments_purchases              -0.7823   1152.342     -0.001      0.999   -2259.330    2257.766\n",
      "cash_advance                         0.0002   7.34e-05      3.177      0.001    8.93e-05       0.000\n",
      "purchases_frequency                  0.0522      1.583      0.033      0.974      -3.050       3.155\n",
      "oneoff_purchases_frequency           0.2893      0.982      0.295      0.768      -1.635       2.214\n",
      "purchases_installments_frequency     0.7108      1.272      0.559      0.576      -1.783       3.205\n",
      "cash_advance_frequency               0.4200      1.206      0.348      0.728      -1.944       2.784\n",
      "cash_advance_trx                     0.0396      0.015      2.681      0.007       0.011       0.069\n",
      "credit_limit                        -0.0001   8.93e-05     -1.449      0.147      -0.000    4.56e-05\n",
      "payments                          1.559e-05   5.81e-05      0.268      0.789   -9.84e-05       0.000\n",
      "minimum_payments                  2.233e-05   9.37e-05      0.238      0.812      -0.000       0.000\n",
      "prc_full_payment                    -0.2463      1.070     -0.230      0.818      -2.343       1.850\n",
      "tenure                               0.0237      0.216      0.110      0.913      -0.399       0.447\n",
      "====================================================================================================\n"
     ]
    }
   ],
   "source": [
    "# Creación del modelo utilizando matrices como en scikitlearn\n",
    "# A la matriz de predictores se le tiene que añadir una columna de 1s para el intercept del modelo\n",
    "# Creation of the model using matrices as in scikitlearn\n",
    "# A column of 1s must be added to the matrix of predictors for the intercept of the model\n",
    "X_train = sm.add_constant(X_train, prepend=True)\n",
    "modelo = sm.Logit(endog=y_train, exog=X_train,)\n",
    "modelo = modelo.fit()\n",
    "print(modelo.summary())"
   ]
  },
  {
   "cell_type": "code",
   "execution_count": 372,
   "metadata": {},
   "outputs": [
    {
     "data": {
      "text/plain": [
       "array([0, 0, 0, ..., 0, 0, 0])"
      ]
     },
     "execution_count": 372,
     "metadata": {},
     "output_type": "execute_result"
    }
   ],
   "source": [
    "# Predicciones con intervalo de confianza \n",
    "# Predictions with confidence interval\n",
    "predicciones = modelo.predict(exog = X_train)\n",
    "# Clasificación predicha\n",
    "# Predicted ranking\n",
    "clasificacion = np.where(predicciones<0.5, 0, 1)\n",
    "clasificacion"
   ]
  },
  {
   "cell_type": "code",
   "execution_count": 379,
   "metadata": {},
   "outputs": [
    {
     "name": "stdout",
     "output_type": "stream",
     "text": [
      "\n",
      "El accuracy de test es: 99.66120835686053%\n"
     ]
    }
   ],
   "source": [
    "# Accuracy de test del modelo \n",
    "# Model Test Accuracy\n",
    "X_test = sm.add_constant(X_test, prepend=True)\n",
    "predicciones = modelo.predict(exog = X_test)\n",
    "clasificacion = np.where(predicciones<0.5, 0, 1)\n",
    "accuracy = accuracy_score(y_true = y_test, y_pred = clasificacion, normalize = True)\n",
    "print(\"\")\n",
    "print(f\"El accuracy de test es: {100*accuracy}%\")"
   ]
  },
  {
   "cell_type": "code",
   "execution_count": 381,
   "metadata": {},
   "outputs": [
    {
     "data": {
      "text/html": [
       "<div>\n",
       "<style scoped>\n",
       "    .dataframe tbody tr th:only-of-type {\n",
       "        vertical-align: middle;\n",
       "    }\n",
       "\n",
       "    .dataframe tbody tr th {\n",
       "        vertical-align: top;\n",
       "    }\n",
       "\n",
       "    .dataframe thead th {\n",
       "        text-align: right;\n",
       "    }\n",
       "</style>\n",
       "<table border=\"1\" class=\"dataframe\">\n",
       "  <thead>\n",
       "    <tr style=\"text-align: right;\">\n",
       "      <th>Predicción</th>\n",
       "      <th>0</th>\n",
       "      <th>1</th>\n",
       "    </tr>\n",
       "    <tr>\n",
       "      <th>Real</th>\n",
       "      <th></th>\n",
       "      <th></th>\n",
       "    </tr>\n",
       "  </thead>\n",
       "  <tbody>\n",
       "    <tr>\n",
       "      <th>0</th>\n",
       "      <td>1758</td>\n",
       "      <td>1</td>\n",
       "    </tr>\n",
       "    <tr>\n",
       "      <th>1</th>\n",
       "      <td>5</td>\n",
       "      <td>7</td>\n",
       "    </tr>\n",
       "  </tbody>\n",
       "</table>\n",
       "</div>"
      ],
      "text/plain": [
       "Predicción     0  1\n",
       "Real               \n",
       "0           1758  1\n",
       "1              5  7"
      ]
     },
     "execution_count": 381,
     "metadata": {},
     "output_type": "execute_result"
    }
   ],
   "source": [
    "# Matriz de confusión de las predicciones de test\n",
    "# Confusion matrix of test predictions\n",
    "confusion_matrix = pd.crosstab(\n",
    "    y_test.values.ravel(),\n",
    "    clasificacion,\n",
    "    rownames=['Real'],\n",
    "    colnames=['Predicción']\n",
    ")\n",
    "confusion_matrix"
   ]
  },
  {
   "cell_type": "markdown",
   "metadata": {},
   "source": [
    "## 3.2 What explanatory variable was the most powerful predictor for fraud?"
   ]
  },
  {
   "cell_type": "code",
   "execution_count": 355,
   "metadata": {},
   "outputs": [],
   "source": [
    "# Importancia de las características\n",
    "# Importance of features\n",
    "importances = pd.DataFrame(data={\n",
    "    'Attribute': X_train.columns,\n",
    "    'Importance': algoritmo.coef_[0]\n",
    "})\n",
    "importances = importances.sort_values(by='Importance', ascending=False)"
   ]
  },
  {
   "cell_type": "code",
   "execution_count": 358,
   "metadata": {},
   "outputs": [
    {
     "data": {
      "image/png": "[encoded data removed]",
      "text/plain": [
       "<Figure size 936x936 with 1 Axes>"
      ]
     },
     "metadata": {},
     "output_type": "display_data"
    }
   ],
   "source": [
    "plt.bar(x=importances['Attribute'], height=importances['Importance'], color='#087E8B')\n",
    "plt.title('Importanacia de las características obtenidas de los coeficientes', size=20)\n",
    "plt.xticks(rotation='vertical')\n",
    "plt.show()"
   ]
  },
  {
   "cell_type": "markdown",
   "metadata": {},
   "source": [
    "## BIBLIOGRAPHY"
   ]
  },
  {
   "cell_type": "markdown",
   "metadata": {},
   "source": [
    "Some part of the code and concepts were referenced, adapted and influenced by the authors that I quote below.\n",
    "* https://www.cienciadedatos.net/documentos/py17-regresion-logistica-python.html\n",
    "* https://aprendeia.com/machine-learning-clasificador-flor-iris-python/\n",
    "* https://likegeeks.com/es/matrix-correlacion-python/"
   ]
  },
  {
   "cell_type": "code",
   "execution_count": null,
   "metadata": {},
   "outputs": [],
   "source": []
  }
 ],
 "metadata": {
  "kernelspec": {
   "display_name": "Python 3",
   "language": "python",
   "name": "python3"
  },
  "language_info": {
   "codemirror_mode": {
    "name": "ipython",
    "version": 3
   },
   "file_extension": ".py",
   "mimetype": "text/x-python",
   "name": "python",
   "nbconvert_exporter": "python",
   "pygments_lexer": "ipython3",
   "version": "3.8.3"
  }
 },
 "nbformat": 4,
 "nbformat_minor": 4
}
